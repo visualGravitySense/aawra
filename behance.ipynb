{
 "cells": [
  {
   "cell_type": "markdown",
   "metadata": {},
   "source": [
    "### парсинг всех данных с Behance"
   ]
  },
  {
   "cell_type": "code",
   "execution_count": 1,
   "metadata": {},
   "outputs": [],
   "source": [
    "from bs4 import BeautifulSoup\n",
    "import requests"
   ]
  },
  {
   "cell_type": "code",
   "execution_count": null,
   "metadata": {},
   "outputs": [],
   "source": []
  },
  {
   "cell_type": "code",
   "execution_count": 2,
   "metadata": {},
   "outputs": [],
   "source": [
    "url = \"https://www.behance.net/search/users?country=EE&isa0=1\""
   ]
  },
  {
   "cell_type": "code",
   "execution_count": 3,
   "metadata": {},
   "outputs": [
    {
     "data": {
      "text/plain": [
       "<Response [200]>"
      ]
     },
     "execution_count": 3,
     "metadata": {},
     "output_type": "execute_result"
    }
   ],
   "source": [
    "response = requests.get(url)\n",
    "response"
   ]
  },
  {
   "cell_type": "code",
   "execution_count": 4,
   "metadata": {},
   "outputs": [],
   "source": [
    "data = response.text"
   ]
  },
  {
   "cell_type": "code",
   "execution_count": null,
   "metadata": {},
   "outputs": [],
   "source": [
    "data"
   ]
  },
  {
   "cell_type": "code",
   "execution_count": 6,
   "metadata": {},
   "outputs": [],
   "source": [
    "soup = BeautifulSoup(data, 'html.parser')"
   ]
  },
  {
   "cell_type": "code",
   "execution_count": 11,
   "metadata": {},
   "outputs": [],
   "source": [
    "tags1 = soup.find_all('div', {\"class\":\"ProfileRow-userMeta-3DC\"})"
   ]
  },
  {
   "cell_type": "code",
   "execution_count": 15,
   "metadata": {},
   "outputs": [
    {
     "data": {
      "text/plain": [
       "[<div class=\"ProfileRow-userMeta-3DC\"><div class=\"ProfileRow-nameLocationAndFields-2--\"><h3 class=\"ProfileRow-displayName-YQn\"><a class=\"ProfileRow-profileLink-2Iv qa-profile-link\" href=\"https://www.behance.net/krisbariln37bb?tracking_source=search_users_recommended\">Kristina Barilnik</a></h3><p class=\"ProfileRow-location-U8W\">Tallinn, Estonia</p><ul class=\"ProfileRow-creativeFields-3kA\"><li class=\"ProfileRow-creativeField-Iu9\"><a class=\"ProfileRow-fieldLink-1cc\" href=\"/search?field=51\">Interaction Design</a></li><li class=\"ProfileRow-creativeField-Iu9\"><a class=\"ProfileRow-fieldLink-1cc\" href=\"/search?field=132\">UI/UX</a></li><li class=\"ProfileRow-creativeField-Iu9\"><a class=\"ProfileRow-fieldLink-1cc\" href=\"/search?field=48\">Illustration</a></li></ul></div><div class=\"ProfileRow-stats-lSM\"><div class=\"FollowButtonLegacy-legacyButton-1Bl ProfileRow-followButton-xJ-\"><div class=\"user-follow js-action-follow qa-follow-button-container form-button-wrap rf-button__container rf-button__container--follow follow-button-container\" data-display-name=\"Kristina Barilnik\" data-entity=\"user\" data-followee=\"74685937\" data-source=\"\" tabindex=\"0\">\n",
       " <a class=\"js-form-button-follow rf-button--small rf-button rf-button--follow\"><span class=\"rf-button__label\">Follow</span></a>\n",
       " <a class=\"qa-form-button-following rf-button--small rf-button rf-button--secondary rf-button--following\"><span class=\"rf-button__label\">Following</span></a>\n",
       " <a class=\"js-form-button-unfollow rf-button--small rf-button rf-button--danger rf-button--unfollow\"><span class=\"rf-button__label\">Unfollow</span></a>\n",
       " </div>\n",
       " </div><div class=\"ProfileRow-statDivider-3AM\"></div><div class=\"ProfileRow-metric-1o4 ProfileRow-appreciations-1es\"><svg class=\"Appreciations-icon-2NG ProfileRow-icon-2jc\" height=\"16\" viewbox=\"0.5 0.5 16 16\" width=\"16\" xmlns=\"http://www.w3.org/2000/svg\"><path d=\"M.5.5h16v16H.5z\" fill=\"none\"></path><path d=\"M.5 7.5h3v8h-3zM7.207 15.207c.193.19.425.29.677.293H12c.256 0 .512-.098.707-.293l2.5-2.5c.19-.19.288-.457.293-.707V8.5c0-.553-.445-1-1-1h-5L11 5s.5-.792.5-1.5v-1c0-.553-.447-1-1-1l-1 2-4 4v6l1.707 1.707z\"></path></svg><span class=\"ProfileRow-metricLabel-THG\" title=\"5,040\">5k</span></div><div class=\"ProfileRow-metric-1o4\"><svg class=\"ProfileRow-icon-2jc\" height=\"16\" viewbox=\"0 0 16 16\" width=\"16\" xmlns=\"http://www.w3.org/2000/svg\"><path d=\"M8.5 3.5c-5 0-8 5-8 5s3 5 8 5 8-5 8-5-3-5-8-5zm0 7c-1.105 0-2-.896-2-2 0-1.106.895-2 2-2 1.104 0 2 .894 2 2 0 1.104-.896 2-2 2z\"></path></svg><span class=\"ProfileRow-metricLabel-THG\" title=\"48,988\">49k</span></div></div></div>,\n",
       " <div class=\"ProfileRow-userMeta-3DC\"><div class=\"ProfileRow-nameLocationAndFields-2--\"><h3 class=\"ProfileRow-displayName-YQn\"><a class=\"ProfileRow-profileLink-2Iv qa-profile-link\" href=\"https://www.behance.net/polaar?tracking_source=search_users_recommended\">Polaar Studio</a></h3><p class=\"ProfileRow-location-U8W\">Tallinn, Estonia</p><ul class=\"ProfileRow-creativeFields-3kA\"><li class=\"ProfileRow-creativeField-Iu9\"><a class=\"ProfileRow-fieldLink-1cc\" href=\"/search?field=44\">Graphic Design</a></li><li class=\"ProfileRow-creativeField-Iu9\"><a class=\"ProfileRow-fieldLink-1cc\" href=\"/search?field=48\">Illustration</a></li><li class=\"ProfileRow-creativeField-Iu9\"><a class=\"ProfileRow-fieldLink-1cc\" href=\"/search?field=5\">Art Direction</a></li></ul></div><div class=\"ProfileRow-stats-lSM\"><div class=\"FollowButtonLegacy-legacyButton-1Bl ProfileRow-followButton-xJ-\"><div class=\"user-follow js-action-follow qa-follow-button-container form-button-wrap rf-button__container rf-button__container--follow follow-button-container\" data-display-name=\"Polaar Studio\" data-entity=\"user\" data-followee=\"164662\" data-source=\"\" tabindex=\"0\">\n",
       " <a class=\"js-form-button-follow rf-button--small rf-button rf-button--follow\"><span class=\"rf-button__label\">Follow</span></a>\n",
       " <a class=\"qa-form-button-following rf-button--small rf-button rf-button--secondary rf-button--following\"><span class=\"rf-button__label\">Following</span></a>\n",
       " <a class=\"js-form-button-unfollow rf-button--small rf-button rf-button--danger rf-button--unfollow\"><span class=\"rf-button__label\">Unfollow</span></a>\n",
       " </div>\n",
       " </div><div class=\"ProfileRow-statDivider-3AM\"></div><div class=\"ProfileRow-metric-1o4 ProfileRow-appreciations-1es\"><svg class=\"Appreciations-icon-2NG ProfileRow-icon-2jc\" height=\"16\" viewbox=\"0.5 0.5 16 16\" width=\"16\" xmlns=\"http://www.w3.org/2000/svg\"><path d=\"M.5.5h16v16H.5z\" fill=\"none\"></path><path d=\"M.5 7.5h3v8h-3zM7.207 15.207c.193.19.425.29.677.293H12c.256 0 .512-.098.707-.293l2.5-2.5c.19-.19.288-.457.293-.707V8.5c0-.553-.445-1-1-1h-5L11 5s.5-.792.5-1.5v-1c0-.553-.447-1-1-1l-1 2-4 4v6l1.707 1.707z\"></path></svg><span class=\"ProfileRow-metricLabel-THG\" title=\"8,900\">8.9k</span></div><div class=\"ProfileRow-metric-1o4\"><svg class=\"ProfileRow-icon-2jc\" height=\"16\" viewbox=\"0 0 16 16\" width=\"16\" xmlns=\"http://www.w3.org/2000/svg\"><path d=\"M8.5 3.5c-5 0-8 5-8 5s3 5 8 5 8-5 8-5-3-5-8-5zm0 7c-1.105 0-2-.896-2-2 0-1.106.895-2 2-2 1.104 0 2 .894 2 2 0 1.104-.896 2-2 2z\"></path></svg><span class=\"ProfileRow-metricLabel-THG\" title=\"103,499\">103.5k</span></div></div></div>,\n",
       " <div class=\"ProfileRow-userMeta-3DC\"><div class=\"ProfileRow-nameLocationAndFields-2--\"><h3 class=\"ProfileRow-displayName-YQn\"><a class=\"ProfileRow-profileLink-2Iv qa-profile-link\" href=\"https://www.behance.net/eiko?tracking_source=search_users_recommended\">Eiko Ojala</a></h3><p class=\"ProfileRow-location-U8W\">Tallinn, Estonia</p><ul class=\"ProfileRow-creativeFields-3kA\"><li class=\"ProfileRow-creativeField-Iu9\"><a class=\"ProfileRow-fieldLink-1cc\" href=\"/search?field=48\">Illustration</a></li><li class=\"ProfileRow-creativeField-Iu9\"><a class=\"ProfileRow-fieldLink-1cc\" href=\"/search?field=5\">Art Direction</a></li><li class=\"ProfileRow-creativeField-Iu9\"><a class=\"ProfileRow-fieldLink-1cc\" href=\"/search?field=32\">Editorial Design</a></li></ul></div><div class=\"ProfileRow-stats-lSM\"><div class=\"FollowButtonLegacy-legacyButton-1Bl ProfileRow-followButton-xJ-\"><div class=\"user-follow js-action-follow qa-follow-button-container form-button-wrap rf-button__container rf-button__container--follow follow-button-container\" data-display-name=\"Eiko Ojala\" data-entity=\"user\" data-followee=\"273851\" data-source=\"\" tabindex=\"0\">\n",
       " <a class=\"js-form-button-follow rf-button--small rf-button rf-button--follow\"><span class=\"rf-button__label\">Follow</span></a>\n",
       " <a class=\"qa-form-button-following rf-button--small rf-button rf-button--secondary rf-button--following\"><span class=\"rf-button__label\">Following</span></a>\n",
       " <a class=\"js-form-button-unfollow rf-button--small rf-button rf-button--danger rf-button--unfollow\"><span class=\"rf-button__label\">Unfollow</span></a>\n",
       " </div>\n",
       " </div><div class=\"ProfileRow-statDivider-3AM\"></div><div class=\"ProfileRow-metric-1o4 ProfileRow-appreciations-1es\"><svg class=\"Appreciations-icon-2NG ProfileRow-icon-2jc\" height=\"16\" viewbox=\"0.5 0.5 16 16\" width=\"16\" xmlns=\"http://www.w3.org/2000/svg\"><path d=\"M.5.5h16v16H.5z\" fill=\"none\"></path><path d=\"M.5 7.5h3v8h-3zM7.207 15.207c.193.19.425.29.677.293H12c.256 0 .512-.098.707-.293l2.5-2.5c.19-.19.288-.457.293-.707V8.5c0-.553-.445-1-1-1h-5L11 5s.5-.792.5-1.5v-1c0-.553-.447-1-1-1l-1 2-4 4v6l1.707 1.707z\"></path></svg><span class=\"ProfileRow-metricLabel-THG\" title=\"201,455\">201.5k</span></div><div class=\"ProfileRow-metric-1o4\"><svg class=\"ProfileRow-icon-2jc\" height=\"16\" viewbox=\"0 0 16 16\" width=\"16\" xmlns=\"http://www.w3.org/2000/svg\"><path d=\"M8.5 3.5c-5 0-8 5-8 5s3 5 8 5 8-5 8-5-3-5-8-5zm0 7c-1.105 0-2-.896-2-2 0-1.106.895-2 2-2 1.104 0 2 .894 2 2 0 1.104-.896 2-2 2z\"></path></svg><span class=\"ProfileRow-metricLabel-THG\" title=\"2,023,955\">2m</span></div></div></div>,\n",
       " <div class=\"ProfileRow-userMeta-3DC\"><div class=\"ProfileRow-nameLocationAndFields-2--\"><h3 class=\"ProfileRow-displayName-YQn\"><a class=\"ProfileRow-profileLink-2Iv qa-profile-link\" href=\"https://www.behance.net/frankwo?tracking_source=search_users_recommended\">Frank Wo</a></h3><p class=\"ProfileRow-location-U8W\">Tallinn, Estonia</p><ul class=\"ProfileRow-creativeFields-3kA\"><li class=\"ProfileRow-creativeField-Iu9\"><a class=\"ProfileRow-fieldLink-1cc\" href=\"/search?field=5\">Art Direction</a></li><li class=\"ProfileRow-creativeField-Iu9\"><a class=\"ProfileRow-fieldLink-1cc\" href=\"/search?field=44\">Graphic Design</a></li><li class=\"ProfileRow-creativeField-Iu9\"><a class=\"ProfileRow-fieldLink-1cc\" href=\"/search?field=109\">Branding</a></li></ul></div><div class=\"ProfileRow-stats-lSM\"><div class=\"FollowButtonLegacy-legacyButton-1Bl ProfileRow-followButton-xJ-\"><div class=\"user-follow js-action-follow qa-follow-button-container form-button-wrap rf-button__container rf-button__container--follow follow-button-container\" data-display-name=\"Frank Wo\" data-entity=\"user\" data-followee=\"43230815\" data-source=\"\" tabindex=\"0\">\n",
       " <a class=\"js-form-button-follow rf-button--small rf-button rf-button--follow\"><span class=\"rf-button__label\">Follow</span></a>\n",
       " <a class=\"qa-form-button-following rf-button--small rf-button rf-button--secondary rf-button--following\"><span class=\"rf-button__label\">Following</span></a>\n",
       " <a class=\"js-form-button-unfollow rf-button--small rf-button rf-button--danger rf-button--unfollow\"><span class=\"rf-button__label\">Unfollow</span></a>\n",
       " </div>\n",
       " </div><div class=\"ProfileRow-statDivider-3AM\"></div><div class=\"ProfileRow-metric-1o4 ProfileRow-appreciations-1es\"><svg class=\"Appreciations-icon-2NG ProfileRow-icon-2jc\" height=\"16\" viewbox=\"0.5 0.5 16 16\" width=\"16\" xmlns=\"http://www.w3.org/2000/svg\"><path d=\"M.5.5h16v16H.5z\" fill=\"none\"></path><path d=\"M.5 7.5h3v8h-3zM7.207 15.207c.193.19.425.29.677.293H12c.256 0 .512-.098.707-.293l2.5-2.5c.19-.19.288-.457.293-.707V8.5c0-.553-.445-1-1-1h-5L11 5s.5-.792.5-1.5v-1c0-.553-.447-1-1-1l-1 2-4 4v6l1.707 1.707z\"></path></svg><span class=\"ProfileRow-metricLabel-THG\" title=\"11,740\">11.7k</span></div><div class=\"ProfileRow-metric-1o4\"><svg class=\"ProfileRow-icon-2jc\" height=\"16\" viewbox=\"0 0 16 16\" width=\"16\" xmlns=\"http://www.w3.org/2000/svg\"><path d=\"M8.5 3.5c-5 0-8 5-8 5s3 5 8 5 8-5 8-5-3-5-8-5zm0 7c-1.105 0-2-.896-2-2 0-1.106.895-2 2-2 1.104 0 2 .894 2 2 0 1.104-.896 2-2 2z\"></path></svg><span class=\"ProfileRow-metricLabel-THG\" title=\"85,762\">85.8k</span></div></div></div>,\n",
       " <div class=\"ProfileRow-userMeta-3DC\"><div class=\"ProfileRow-nameLocationAndFields-2--\"><h3 class=\"ProfileRow-displayName-YQn\"><a class=\"ProfileRow-profileLink-2Iv qa-profile-link\" href=\"https://www.behance.net/andresgallardo?tracking_source=search_users_recommended\">Andrés Gallardo Albajar</a></h3><p class=\"ProfileRow-location-U8W\">Tallinn, Estonia</p><ul class=\"ProfileRow-creativeFields-3kA\"><li class=\"ProfileRow-creativeField-Iu9\"><a class=\"ProfileRow-fieldLink-1cc\" href=\"/search?field=73\">Photography</a></li><li class=\"ProfileRow-creativeField-Iu9\"><a class=\"ProfileRow-fieldLink-1cc\" href=\"/search?field=4\">Architecture</a></li><li class=\"ProfileRow-creativeField-Iu9\"><a class=\"ProfileRow-fieldLink-1cc\" href=\"/search?field=27\">Digital Photography</a></li></ul></div><div class=\"ProfileRow-stats-lSM\"><div class=\"FollowButtonLegacy-legacyButton-1Bl ProfileRow-followButton-xJ-\"><div class=\"user-follow js-action-follow qa-follow-button-container form-button-wrap rf-button__container rf-button__container--follow follow-button-container\" data-display-name=\"Andrés Gallardo Albajar\" data-entity=\"user\" data-followee=\"1494509\" data-source=\"\" tabindex=\"0\">\n",
       " <a class=\"js-form-button-follow rf-button--small rf-button rf-button--follow\"><span class=\"rf-button__label\">Follow</span></a>\n",
       " <a class=\"qa-form-button-following rf-button--small rf-button rf-button--secondary rf-button--following\"><span class=\"rf-button__label\">Following</span></a>\n",
       " <a class=\"js-form-button-unfollow rf-button--small rf-button rf-button--danger rf-button--unfollow\"><span class=\"rf-button__label\">Unfollow</span></a>\n",
       " </div>\n",
       " </div><div class=\"ProfileRow-statDivider-3AM\"></div><div class=\"ProfileRow-metric-1o4 ProfileRow-appreciations-1es\"><svg class=\"Appreciations-icon-2NG ProfileRow-icon-2jc\" height=\"16\" viewbox=\"0.5 0.5 16 16\" width=\"16\" xmlns=\"http://www.w3.org/2000/svg\"><path d=\"M.5.5h16v16H.5z\" fill=\"none\"></path><path d=\"M.5 7.5h3v8h-3zM7.207 15.207c.193.19.425.29.677.293H12c.256 0 .512-.098.707-.293l2.5-2.5c.19-.19.288-.457.293-.707V8.5c0-.553-.445-1-1-1h-5L11 5s.5-.792.5-1.5v-1c0-.553-.447-1-1-1l-1 2-4 4v6l1.707 1.707z\"></path></svg><span class=\"ProfileRow-metricLabel-THG\" title=\"56,718\">56.7k</span></div><div class=\"ProfileRow-metric-1o4\"><svg class=\"ProfileRow-icon-2jc\" height=\"16\" viewbox=\"0 0 16 16\" width=\"16\" xmlns=\"http://www.w3.org/2000/svg\"><path d=\"M8.5 3.5c-5 0-8 5-8 5s3 5 8 5 8-5 8-5-3-5-8-5zm0 7c-1.105 0-2-.896-2-2 0-1.106.895-2 2-2 1.104 0 2 .894 2 2 0 1.104-.896 2-2 2z\"></path></svg><span class=\"ProfileRow-metricLabel-THG\" title=\"623,757\">623.8k</span></div></div></div>,\n",
       " <div class=\"ProfileRow-userMeta-3DC\"><div class=\"ProfileRow-nameLocationAndFields-2--\"><h3 class=\"ProfileRow-displayName-YQn\"><a class=\"ProfileRow-profileLink-2Iv qa-profile-link\" href=\"https://www.behance.net/_donska?tracking_source=search_users_recommended\">Tetiana Donska</a></h3><p class=\"ProfileRow-location-U8W\">Tallinn, Estonia</p><ul class=\"ProfileRow-creativeFields-3kA\"><li class=\"ProfileRow-creativeField-Iu9\"><a class=\"ProfileRow-fieldLink-1cc\" href=\"/search?field=132\">UI/UX</a></li><li class=\"ProfileRow-creativeField-Iu9\"><a class=\"ProfileRow-fieldLink-1cc\" href=\"/search?field=5\">Art Direction</a></li><li class=\"ProfileRow-creativeField-Iu9\"><a class=\"ProfileRow-fieldLink-1cc\" href=\"/search?field=102\">Web Design</a></li></ul></div><div class=\"ProfileRow-stats-lSM\"><div class=\"FollowButtonLegacy-legacyButton-1Bl ProfileRow-followButton-xJ-\"><div class=\"user-follow js-action-follow qa-follow-button-container form-button-wrap rf-button__container rf-button__container--follow follow-button-container\" data-display-name=\"Tetiana Donska\" data-entity=\"user\" data-followee=\"5122377\" data-source=\"\" tabindex=\"0\">\n",
       " <a class=\"js-form-button-follow rf-button--small rf-button rf-button--follow\"><span class=\"rf-button__label\">Follow</span></a>\n",
       " <a class=\"qa-form-button-following rf-button--small rf-button rf-button--secondary rf-button--following\"><span class=\"rf-button__label\">Following</span></a>\n",
       " <a class=\"js-form-button-unfollow rf-button--small rf-button rf-button--danger rf-button--unfollow\"><span class=\"rf-button__label\">Unfollow</span></a>\n",
       " </div>\n",
       " </div><div class=\"ProfileRow-statDivider-3AM\"></div><div class=\"ProfileRow-metric-1o4 ProfileRow-appreciations-1es\"><svg class=\"Appreciations-icon-2NG ProfileRow-icon-2jc\" height=\"16\" viewbox=\"0.5 0.5 16 16\" width=\"16\" xmlns=\"http://www.w3.org/2000/svg\"><path d=\"M.5.5h16v16H.5z\" fill=\"none\"></path><path d=\"M.5 7.5h3v8h-3zM7.207 15.207c.193.19.425.29.677.293H12c.256 0 .512-.098.707-.293l2.5-2.5c.19-.19.288-.457.293-.707V8.5c0-.553-.445-1-1-1h-5L11 5s.5-.792.5-1.5v-1c0-.553-.447-1-1-1l-1 2-4 4v6l1.707 1.707z\"></path></svg><span class=\"ProfileRow-metricLabel-THG\" title=\"68,754\">68.8k</span></div><div class=\"ProfileRow-metric-1o4\"><svg class=\"ProfileRow-icon-2jc\" height=\"16\" viewbox=\"0 0 16 16\" width=\"16\" xmlns=\"http://www.w3.org/2000/svg\"><path d=\"M8.5 3.5c-5 0-8 5-8 5s3 5 8 5 8-5 8-5-3-5-8-5zm0 7c-1.105 0-2-.896-2-2 0-1.106.895-2 2-2 1.104 0 2 .894 2 2 0 1.104-.896 2-2 2z\"></path></svg><span class=\"ProfileRow-metricLabel-THG\" title=\"498,048\">498k</span></div></div></div>,\n",
       " <div class=\"ProfileRow-userMeta-3DC\"><div class=\"ProfileRow-nameLocationAndFields-2--\"><h3 class=\"ProfileRow-displayName-YQn\"><a class=\"ProfileRow-profileLink-2Iv qa-profile-link\" href=\"https://www.behance.net/stepansolodkov?tracking_source=search_users_recommended\">Stepan Solodkov</a></h3><p class=\"ProfileRow-location-U8W\">Tallinn, Estonia</p><ul class=\"ProfileRow-creativeFields-3kA\"><li class=\"ProfileRow-creativeField-Iu9\"><a class=\"ProfileRow-fieldLink-1cc\" href=\"/search?field=5\">Art Direction</a></li><li class=\"ProfileRow-creativeField-Iu9\"><a class=\"ProfileRow-fieldLink-1cc\" href=\"/search?field=44\">Graphic Design</a></li><li class=\"ProfileRow-creativeField-Iu9\"><a class=\"ProfileRow-fieldLink-1cc\" href=\"/search?field=109\">Branding</a></li></ul></div><div class=\"ProfileRow-stats-lSM\"><div class=\"FollowButtonLegacy-legacyButton-1Bl ProfileRow-followButton-xJ-\"><div class=\"user-follow js-action-follow qa-follow-button-container form-button-wrap rf-button__container rf-button__container--follow follow-button-container\" data-display-name=\"Stepan Solodkov\" data-entity=\"user\" data-followee=\"60672487\" data-source=\"\" tabindex=\"0\">\n",
       " <a class=\"js-form-button-follow rf-button--small rf-button rf-button--follow\"><span class=\"rf-button__label\">Follow</span></a>\n",
       " <a class=\"qa-form-button-following rf-button--small rf-button rf-button--secondary rf-button--following\"><span class=\"rf-button__label\">Following</span></a>\n",
       " <a class=\"js-form-button-unfollow rf-button--small rf-button rf-button--danger rf-button--unfollow\"><span class=\"rf-button__label\">Unfollow</span></a>\n",
       " </div>\n",
       " </div><div class=\"ProfileRow-statDivider-3AM\"></div><div class=\"ProfileRow-metric-1o4 ProfileRow-appreciations-1es\"><svg class=\"Appreciations-icon-2NG ProfileRow-icon-2jc\" height=\"16\" viewbox=\"0.5 0.5 16 16\" width=\"16\" xmlns=\"http://www.w3.org/2000/svg\"><path d=\"M.5.5h16v16H.5z\" fill=\"none\"></path><path d=\"M.5 7.5h3v8h-3zM7.207 15.207c.193.19.425.29.677.293H12c.256 0 .512-.098.707-.293l2.5-2.5c.19-.19.288-.457.293-.707V8.5c0-.553-.445-1-1-1h-5L11 5s.5-.792.5-1.5v-1c0-.553-.447-1-1-1l-1 2-4 4v6l1.707 1.707z\"></path></svg><span class=\"ProfileRow-metricLabel-THG\" title=\"52,285\">52.3k</span></div><div class=\"ProfileRow-metric-1o4\"><svg class=\"ProfileRow-icon-2jc\" height=\"16\" viewbox=\"0 0 16 16\" width=\"16\" xmlns=\"http://www.w3.org/2000/svg\"><path d=\"M8.5 3.5c-5 0-8 5-8 5s3 5 8 5 8-5 8-5-3-5-8-5zm0 7c-1.105 0-2-.896-2-2 0-1.106.895-2 2-2 1.104 0 2 .894 2 2 0 1.104-.896 2-2 2z\"></path></svg><span class=\"ProfileRow-metricLabel-THG\" title=\"456,423\">456.4k</span></div></div></div>,\n",
       " <div class=\"ProfileRow-userMeta-3DC\"><div class=\"ProfileRow-nameLocationAndFields-2--\"><h3 class=\"ProfileRow-displayName-YQn\"><a class=\"ProfileRow-profileLink-2Iv qa-profile-link\" href=\"https://www.behance.net/irabaranova?tracking_source=search_users_recommended\">Ira Baranova</a></h3><p class=\"ProfileRow-location-U8W\">Tallinn, Estonia</p><ul class=\"ProfileRow-creativeFields-3kA\"><li class=\"ProfileRow-creativeField-Iu9\"><a class=\"ProfileRow-fieldLink-1cc\" href=\"/search?field=132\">UI/UX</a></li><li class=\"ProfileRow-creativeField-Iu9\"><a class=\"ProfileRow-fieldLink-1cc\" href=\"/search?field=5\">Art Direction</a></li><li class=\"ProfileRow-creativeField-Iu9\"><a class=\"ProfileRow-fieldLink-1cc\" href=\"/search?field=44\">Graphic Design</a></li></ul></div><div class=\"ProfileRow-stats-lSM\"><div class=\"FollowButtonLegacy-legacyButton-1Bl ProfileRow-followButton-xJ-\"><div class=\"user-follow js-action-follow qa-follow-button-container form-button-wrap rf-button__container rf-button__container--follow follow-button-container\" data-display-name=\"Ira Baranova\" data-entity=\"user\" data-followee=\"1663953\" data-source=\"\" tabindex=\"0\">\n",
       " <a class=\"js-form-button-follow rf-button--small rf-button rf-button--follow\"><span class=\"rf-button__label\">Follow</span></a>\n",
       " <a class=\"qa-form-button-following rf-button--small rf-button rf-button--secondary rf-button--following\"><span class=\"rf-button__label\">Following</span></a>\n",
       " <a class=\"js-form-button-unfollow rf-button--small rf-button rf-button--danger rf-button--unfollow\"><span class=\"rf-button__label\">Unfollow</span></a>\n",
       " </div>\n",
       " </div><div class=\"ProfileRow-statDivider-3AM\"></div><div class=\"ProfileRow-metric-1o4 ProfileRow-appreciations-1es\"><svg class=\"Appreciations-icon-2NG ProfileRow-icon-2jc\" height=\"16\" viewbox=\"0.5 0.5 16 16\" width=\"16\" xmlns=\"http://www.w3.org/2000/svg\"><path d=\"M.5.5h16v16H.5z\" fill=\"none\"></path><path d=\"M.5 7.5h3v8h-3zM7.207 15.207c.193.19.425.29.677.293H12c.256 0 .512-.098.707-.293l2.5-2.5c.19-.19.288-.457.293-.707V8.5c0-.553-.445-1-1-1h-5L11 5s.5-.792.5-1.5v-1c0-.553-.447-1-1-1l-1 2-4 4v6l1.707 1.707z\"></path></svg><span class=\"ProfileRow-metricLabel-THG\" title=\"39,754\">39.8k</span></div><div class=\"ProfileRow-metric-1o4\"><svg class=\"ProfileRow-icon-2jc\" height=\"16\" viewbox=\"0 0 16 16\" width=\"16\" xmlns=\"http://www.w3.org/2000/svg\"><path d=\"M8.5 3.5c-5 0-8 5-8 5s3 5 8 5 8-5 8-5-3-5-8-5zm0 7c-1.105 0-2-.896-2-2 0-1.106.895-2 2-2 1.104 0 2 .894 2 2 0 1.104-.896 2-2 2z\"></path></svg><span class=\"ProfileRow-metricLabel-THG\" title=\"223,105\">223.1k</span></div></div></div>,\n",
       " <div class=\"ProfileRow-userMeta-3DC\"><div class=\"ProfileRow-nameLocationAndFields-2--\"><h3 class=\"ProfileRow-displayName-YQn\"><a class=\"ProfileRow-profileLink-2Iv qa-profile-link\" href=\"https://www.behance.net/glebasterk14d1?tracking_source=search_users_recommended\">Hleb Kuftseryn</a></h3><p class=\"ProfileRow-location-U8W\">Tallinn, Estonia</p><ul class=\"ProfileRow-creativeFields-3kA\"><li class=\"ProfileRow-creativeField-Iu9\"><a class=\"ProfileRow-fieldLink-1cc\" href=\"/search?field=3\">Animation</a></li><li class=\"ProfileRow-creativeField-Iu9\"><a class=\"ProfileRow-fieldLink-1cc\" href=\"/search?field=63\">Motion Graphics</a></li><li class=\"ProfileRow-creativeField-Iu9\"><a class=\"ProfileRow-fieldLink-1cc\" href=\"/search?field=48\">Illustration</a></li></ul></div><div class=\"ProfileRow-stats-lSM\"><div class=\"FollowButtonLegacy-legacyButton-1Bl ProfileRow-followButton-xJ-\"><div class=\"user-follow js-action-follow qa-follow-button-container form-button-wrap rf-button__container rf-button__container--follow follow-button-container\" data-display-name=\"Hleb Kuftseryn\" data-entity=\"user\" data-followee=\"68212865\" data-source=\"\" tabindex=\"0\">\n",
       " <a class=\"js-form-button-follow rf-button--small rf-button rf-button--follow\"><span class=\"rf-button__label\">Follow</span></a>\n",
       " <a class=\"qa-form-button-following rf-button--small rf-button rf-button--secondary rf-button--following\"><span class=\"rf-button__label\">Following</span></a>\n",
       " <a class=\"js-form-button-unfollow rf-button--small rf-button rf-button--danger rf-button--unfollow\"><span class=\"rf-button__label\">Unfollow</span></a>\n",
       " </div>\n",
       " </div><div class=\"ProfileRow-statDivider-3AM\"></div><div class=\"ProfileRow-metric-1o4 ProfileRow-appreciations-1es\"><svg class=\"Appreciations-icon-2NG ProfileRow-icon-2jc\" height=\"16\" viewbox=\"0.5 0.5 16 16\" width=\"16\" xmlns=\"http://www.w3.org/2000/svg\"><path d=\"M.5.5h16v16H.5z\" fill=\"none\"></path><path d=\"M.5 7.5h3v8h-3zM7.207 15.207c.193.19.425.29.677.293H12c.256 0 .512-.098.707-.293l2.5-2.5c.19-.19.288-.457.293-.707V8.5c0-.553-.445-1-1-1h-5L11 5s.5-.792.5-1.5v-1c0-.553-.447-1-1-1l-1 2-4 4v6l1.707 1.707z\"></path></svg><span class=\"ProfileRow-metricLabel-THG\" title=\"329\">329</span></div><div class=\"ProfileRow-metric-1o4\"><svg class=\"ProfileRow-icon-2jc\" height=\"16\" viewbox=\"0 0 16 16\" width=\"16\" xmlns=\"http://www.w3.org/2000/svg\"><path d=\"M8.5 3.5c-5 0-8 5-8 5s3 5 8 5 8-5 8-5-3-5-8-5zm0 7c-1.105 0-2-.896-2-2 0-1.106.895-2 2-2 1.104 0 2 .894 2 2 0 1.104-.896 2-2 2z\"></path></svg><span class=\"ProfileRow-metricLabel-THG\" title=\"1,813\">1.8k</span></div></div></div>,\n",
       " <div class=\"ProfileRow-userMeta-3DC\"><div class=\"ProfileRow-nameLocationAndFields-2--\"><h3 class=\"ProfileRow-displayName-YQn\"><a class=\"ProfileRow-profileLink-2Iv qa-profile-link\" href=\"https://www.behance.net/tolmtv?tracking_source=search_users_recommended\">T O L M</a></h3><p class=\"ProfileRow-location-U8W\">Tallinn, Estonia</p><ul class=\"ProfileRow-creativeFields-3kA\"><li class=\"ProfileRow-creativeField-Iu9\"><a class=\"ProfileRow-fieldLink-1cc\" href=\"/search?field=63\">Motion Graphics</a></li><li class=\"ProfileRow-creativeField-Iu9\"><a class=\"ProfileRow-fieldLink-1cc\" href=\"/search?field=48\">Illustration</a></li><li class=\"ProfileRow-creativeField-Iu9\"><a class=\"ProfileRow-fieldLink-1cc\" href=\"/search?field=3\">Animation</a></li></ul></div><div class=\"ProfileRow-stats-lSM\"><div class=\"FollowButtonLegacy-legacyButton-1Bl ProfileRow-followButton-xJ-\"><div class=\"user-follow js-action-follow qa-follow-button-container form-button-wrap rf-button__container rf-button__container--follow follow-button-container\" data-display-name=\"T O L M\" data-entity=\"user\" data-followee=\"2468675\" data-source=\"\" tabindex=\"0\">\n",
       " <a class=\"js-form-button-follow rf-button--small rf-button rf-button--follow\"><span class=\"rf-button__label\">Follow</span></a>\n",
       " <a class=\"qa-form-button-following rf-button--small rf-button rf-button--secondary rf-button--following\"><span class=\"rf-button__label\">Following</span></a>\n",
       " <a class=\"js-form-button-unfollow rf-button--small rf-button rf-button--danger rf-button--unfollow\"><span class=\"rf-button__label\">Unfollow</span></a>\n",
       " </div>\n",
       " </div><div class=\"ProfileRow-statDivider-3AM\"></div><div class=\"ProfileRow-metric-1o4 ProfileRow-appreciations-1es\"><svg class=\"Appreciations-icon-2NG ProfileRow-icon-2jc\" height=\"16\" viewbox=\"0.5 0.5 16 16\" width=\"16\" xmlns=\"http://www.w3.org/2000/svg\"><path d=\"M.5.5h16v16H.5z\" fill=\"none\"></path><path d=\"M.5 7.5h3v8h-3zM7.207 15.207c.193.19.425.29.677.293H12c.256 0 .512-.098.707-.293l2.5-2.5c.19-.19.288-.457.293-.707V8.5c0-.553-.445-1-1-1h-5L11 5s.5-.792.5-1.5v-1c0-.553-.447-1-1-1l-1 2-4 4v6l1.707 1.707z\"></path></svg><span class=\"ProfileRow-metricLabel-THG\" title=\"4,103\">4.1k</span></div><div class=\"ProfileRow-metric-1o4\"><svg class=\"ProfileRow-icon-2jc\" height=\"16\" viewbox=\"0 0 16 16\" width=\"16\" xmlns=\"http://www.w3.org/2000/svg\"><path d=\"M8.5 3.5c-5 0-8 5-8 5s3 5 8 5 8-5 8-5-3-5-8-5zm0 7c-1.105 0-2-.896-2-2 0-1.106.895-2 2-2 1.104 0 2 .894 2 2 0 1.104-.896 2-2 2z\"></path></svg><span class=\"ProfileRow-metricLabel-THG\" title=\"42,818\">42.8k</span></div></div></div>,\n",
       " <div class=\"ProfileRow-userMeta-3DC\"><div class=\"ProfileRow-nameLocationAndFields-2--\"><h3 class=\"ProfileRow-displayName-YQn\"><a class=\"ProfileRow-profileLink-2Iv qa-profile-link\" href=\"https://www.behance.net/joosepvolk?tracking_source=search_users_recommended\">Joosep Volk</a></h3><p class=\"ProfileRow-location-U8W\">Tallinn, Estonia</p><ul class=\"ProfileRow-creativeFields-3kA\"><li class=\"ProfileRow-creativeField-Iu9\"><a class=\"ProfileRow-fieldLink-1cc\" href=\"/search?field=63\">Motion Graphics</a></li><li class=\"ProfileRow-creativeField-Iu9\"><a class=\"ProfileRow-fieldLink-1cc\" href=\"/search?field=5\">Art Direction</a></li><li class=\"ProfileRow-creativeField-Iu9\"><a class=\"ProfileRow-fieldLink-1cc\" href=\"/search?field=48\">Illustration</a></li></ul></div><div class=\"ProfileRow-stats-lSM\"><div class=\"FollowButtonLegacy-legacyButton-1Bl ProfileRow-followButton-xJ-\"><div class=\"user-follow js-action-follow qa-follow-button-container form-button-wrap rf-button__container rf-button__container--follow follow-button-container\" data-display-name=\"Joosep Volk\" data-entity=\"user\" data-followee=\"115796941\" data-source=\"\" tabindex=\"0\">\n",
       " <a class=\"js-form-button-follow rf-button--small rf-button rf-button--follow\"><span class=\"rf-button__label\">Follow</span></a>\n",
       " <a class=\"qa-form-button-following rf-button--small rf-button rf-button--secondary rf-button--following\"><span class=\"rf-button__label\">Following</span></a>\n",
       " <a class=\"js-form-button-unfollow rf-button--small rf-button rf-button--danger rf-button--unfollow\"><span class=\"rf-button__label\">Unfollow</span></a>\n",
       " </div>\n",
       " </div><div class=\"ProfileRow-statDivider-3AM\"></div><div class=\"ProfileRow-metric-1o4 ProfileRow-appreciations-1es\"><svg class=\"Appreciations-icon-2NG ProfileRow-icon-2jc\" height=\"16\" viewbox=\"0.5 0.5 16 16\" width=\"16\" xmlns=\"http://www.w3.org/2000/svg\"><path d=\"M.5.5h16v16H.5z\" fill=\"none\"></path><path d=\"M.5 7.5h3v8h-3zM7.207 15.207c.193.19.425.29.677.293H12c.256 0 .512-.098.707-.293l2.5-2.5c.19-.19.288-.457.293-.707V8.5c0-.553-.445-1-1-1h-5L11 5s.5-.792.5-1.5v-1c0-.553-.447-1-1-1l-1 2-4 4v6l1.707 1.707z\"></path></svg><span class=\"ProfileRow-metricLabel-THG\" title=\"2,895\">2.9k</span></div><div class=\"ProfileRow-metric-1o4\"><svg class=\"ProfileRow-icon-2jc\" height=\"16\" viewbox=\"0 0 16 16\" width=\"16\" xmlns=\"http://www.w3.org/2000/svg\"><path d=\"M8.5 3.5c-5 0-8 5-8 5s3 5 8 5 8-5 8-5-3-5-8-5zm0 7c-1.105 0-2-.896-2-2 0-1.106.895-2 2-2 1.104 0 2 .894 2 2 0 1.104-.896 2-2 2z\"></path></svg><span class=\"ProfileRow-metricLabel-THG\" title=\"24,897\">24.9k</span></div></div></div>,\n",
       " <div class=\"ProfileRow-userMeta-3DC\"><div class=\"ProfileRow-nameLocationAndFields-2--\"><h3 class=\"ProfileRow-displayName-YQn\"><a class=\"ProfileRow-profileLink-2Iv qa-profile-link\" href=\"https://www.behance.net/maidohollo?tracking_source=search_users_recommended\">Maido Hollo</a></h3><p class=\"ProfileRow-location-U8W\">Tallinn, Estonia</p><ul class=\"ProfileRow-creativeFields-3kA\"></ul></div><div class=\"ProfileRow-stats-lSM\"><div class=\"FollowButtonLegacy-legacyButton-1Bl ProfileRow-followButton-xJ-\"><div class=\"user-follow js-action-follow qa-follow-button-container form-button-wrap rf-button__container rf-button__container--follow follow-button-container\" data-display-name=\"Maido Hollo\" data-entity=\"user\" data-followee=\"2641829\" data-source=\"\" tabindex=\"0\">\n",
       " <a class=\"js-form-button-follow rf-button--small rf-button rf-button--follow\"><span class=\"rf-button__label\">Follow</span></a>\n",
       " <a class=\"qa-form-button-following rf-button--small rf-button rf-button--secondary rf-button--following\"><span class=\"rf-button__label\">Following</span></a>\n",
       " <a class=\"js-form-button-unfollow rf-button--small rf-button rf-button--danger rf-button--unfollow\"><span class=\"rf-button__label\">Unfollow</span></a>\n",
       " </div>\n",
       " </div><div class=\"ProfileRow-statDivider-3AM\"></div><div class=\"ProfileRow-metric-1o4 ProfileRow-appreciations-1es\"><svg class=\"Appreciations-icon-2NG ProfileRow-icon-2jc\" height=\"16\" viewbox=\"0.5 0.5 16 16\" width=\"16\" xmlns=\"http://www.w3.org/2000/svg\"><path d=\"M.5.5h16v16H.5z\" fill=\"none\"></path><path d=\"M.5 7.5h3v8h-3zM7.207 15.207c.193.19.425.29.677.293H12c.256 0 .512-.098.707-.293l2.5-2.5c.19-.19.288-.457.293-.707V8.5c0-.553-.445-1-1-1h-5L11 5s.5-.792.5-1.5v-1c0-.553-.447-1-1-1l-1 2-4 4v6l1.707 1.707z\"></path></svg><span class=\"ProfileRow-metricLabel-THG\" title=\"588\">588</span></div><div class=\"ProfileRow-metric-1o4\"><svg class=\"ProfileRow-icon-2jc\" height=\"16\" viewbox=\"0 0 16 16\" width=\"16\" xmlns=\"http://www.w3.org/2000/svg\"><path d=\"M8.5 3.5c-5 0-8 5-8 5s3 5 8 5 8-5 8-5-3-5-8-5zm0 7c-1.105 0-2-.896-2-2 0-1.106.895-2 2-2 1.104 0 2 .894 2 2 0 1.104-.896 2-2 2z\"></path></svg><span class=\"ProfileRow-metricLabel-THG\" title=\"3,125\">3.1k</span></div></div></div>,\n",
       " <div class=\"ProfileRow-userMeta-3DC\"><div class=\"ProfileRow-nameLocationAndFields-2--\"><h3 class=\"ProfileRow-displayName-YQn\"><a class=\"ProfileRow-profileLink-2Iv qa-profile-link\" href=\"https://www.behance.net/ladalander?tracking_source=search_users_recommended\">Lada Lander</a></h3><p class=\"ProfileRow-location-U8W\">Tallinn, Estonia</p><ul class=\"ProfileRow-creativeFields-3kA\"><li class=\"ProfileRow-creativeField-Iu9\"><a class=\"ProfileRow-fieldLink-1cc\" href=\"/search?field=51\">Interaction Design</a></li><li class=\"ProfileRow-creativeField-Iu9\"><a class=\"ProfileRow-fieldLink-1cc\" href=\"/search?field=132\">UI/UX</a></li><li class=\"ProfileRow-creativeField-Iu9\"><a class=\"ProfileRow-fieldLink-1cc\" href=\"/search?field=102\">Web Design</a></li></ul></div><div class=\"ProfileRow-stats-lSM\"><div class=\"FollowButtonLegacy-legacyButton-1Bl ProfileRow-followButton-xJ-\"><div class=\"user-follow js-action-follow qa-follow-button-container form-button-wrap rf-button__container rf-button__container--follow follow-button-container\" data-display-name=\"Lada Lander\" data-entity=\"user\" data-followee=\"145826447\" data-source=\"\" tabindex=\"0\">\n",
       " <a class=\"js-form-button-follow rf-button--small rf-button rf-button--follow\"><span class=\"rf-button__label\">Follow</span></a>\n",
       " <a class=\"qa-form-button-following rf-button--small rf-button rf-button--secondary rf-button--following\"><span class=\"rf-button__label\">Following</span></a>\n",
       " <a class=\"js-form-button-unfollow rf-button--small rf-button rf-button--danger rf-button--unfollow\"><span class=\"rf-button__label\">Unfollow</span></a>\n",
       " </div>\n",
       " </div><div class=\"ProfileRow-statDivider-3AM\"></div><div class=\"ProfileRow-metric-1o4 ProfileRow-appreciations-1es\"><svg class=\"Appreciations-icon-2NG ProfileRow-icon-2jc\" height=\"16\" viewbox=\"0.5 0.5 16 16\" width=\"16\" xmlns=\"http://www.w3.org/2000/svg\"><path d=\"M.5.5h16v16H.5z\" fill=\"none\"></path><path d=\"M.5 7.5h3v8h-3zM7.207 15.207c.193.19.425.29.677.293H12c.256 0 .512-.098.707-.293l2.5-2.5c.19-.19.288-.457.293-.707V8.5c0-.553-.445-1-1-1h-5L11 5s.5-.792.5-1.5v-1c0-.553-.447-1-1-1l-1 2-4 4v6l1.707 1.707z\"></path></svg><span class=\"ProfileRow-metricLabel-THG\" title=\"298\">298</span></div><div class=\"ProfileRow-metric-1o4\"><svg class=\"ProfileRow-icon-2jc\" height=\"16\" viewbox=\"0 0 16 16\" width=\"16\" xmlns=\"http://www.w3.org/2000/svg\"><path d=\"M8.5 3.5c-5 0-8 5-8 5s3 5 8 5 8-5 8-5-3-5-8-5zm0 7c-1.105 0-2-.896-2-2 0-1.106.895-2 2-2 1.104 0 2 .894 2 2 0 1.104-.896 2-2 2z\"></path></svg><span class=\"ProfileRow-metricLabel-THG\" title=\"1,657\">1.7k</span></div></div></div>,\n",
       " <div class=\"ProfileRow-userMeta-3DC\"><div class=\"ProfileRow-nameLocationAndFields-2--\"><h3 class=\"ProfileRow-displayName-YQn\"><a class=\"ProfileRow-profileLink-2Iv qa-profile-link\" href=\"https://www.behance.net/BigRoom?tracking_source=search_users_recommended\">Paul Navolochko</a></h3><p class=\"ProfileRow-location-U8W\">Tallinn, Estonia</p><ul class=\"ProfileRow-creativeFields-3kA\"><li class=\"ProfileRow-creativeField-Iu9\"><a class=\"ProfileRow-fieldLink-1cc\" href=\"/search?field=132\">UI/UX</a></li><li class=\"ProfileRow-creativeField-Iu9\"><a class=\"ProfileRow-fieldLink-1cc\" href=\"/search?field=102\">Web Design</a></li><li class=\"ProfileRow-creativeField-Iu9\"><a class=\"ProfileRow-fieldLink-1cc\" href=\"/search?field=44\">Graphic Design</a></li></ul></div><div class=\"ProfileRow-stats-lSM\"><div class=\"FollowButtonLegacy-legacyButton-1Bl ProfileRow-followButton-xJ-\"><div class=\"user-follow js-action-follow qa-follow-button-container form-button-wrap rf-button__container rf-button__container--follow follow-button-container\" data-display-name=\"Paul Navolochko\" data-entity=\"user\" data-followee=\"1481995\" data-source=\"\" tabindex=\"0\">\n",
       " <a class=\"js-form-button-follow rf-button--small rf-button rf-button--follow\"><span class=\"rf-button__label\">Follow</span></a>\n",
       " <a class=\"qa-form-button-following rf-button--small rf-button rf-button--secondary rf-button--following\"><span class=\"rf-button__label\">Following</span></a>\n",
       " <a class=\"js-form-button-unfollow rf-button--small rf-button rf-button--danger rf-button--unfollow\"><span class=\"rf-button__label\">Unfollow</span></a>\n",
       " </div>\n",
       " </div><div class=\"ProfileRow-statDivider-3AM\"></div><div class=\"ProfileRow-metric-1o4 ProfileRow-appreciations-1es\"><svg class=\"Appreciations-icon-2NG ProfileRow-icon-2jc\" height=\"16\" viewbox=\"0.5 0.5 16 16\" width=\"16\" xmlns=\"http://www.w3.org/2000/svg\"><path d=\"M.5.5h16v16H.5z\" fill=\"none\"></path><path d=\"M.5 7.5h3v8h-3zM7.207 15.207c.193.19.425.29.677.293H12c.256 0 .512-.098.707-.293l2.5-2.5c.19-.19.288-.457.293-.707V8.5c0-.553-.445-1-1-1h-5L11 5s.5-.792.5-1.5v-1c0-.553-.447-1-1-1l-1 2-4 4v6l1.707 1.707z\"></path></svg><span class=\"ProfileRow-metricLabel-THG\" title=\"7,470\">7.5k</span></div><div class=\"ProfileRow-metric-1o4\"><svg class=\"ProfileRow-icon-2jc\" height=\"16\" viewbox=\"0 0 16 16\" width=\"16\" xmlns=\"http://www.w3.org/2000/svg\"><path d=\"M8.5 3.5c-5 0-8 5-8 5s3 5 8 5 8-5 8-5-3-5-8-5zm0 7c-1.105 0-2-.896-2-2 0-1.106.895-2 2-2 1.104 0 2 .894 2 2 0 1.104-.896 2-2 2z\"></path></svg><span class=\"ProfileRow-metricLabel-THG\" title=\"80,300\">80.3k</span></div></div></div>,\n",
       " <div class=\"ProfileRow-userMeta-3DC\"><div class=\"ProfileRow-nameLocationAndFields-2--\"><h3 class=\"ProfileRow-displayName-YQn\"><a class=\"ProfileRow-profileLink-2Iv qa-profile-link\" href=\"https://www.behance.net/PavelPop?tracking_source=search_users_recommended\">Popcorp ​</a></h3><p class=\"ProfileRow-location-U8W\">Tallinn, Estonia</p><ul class=\"ProfileRow-creativeFields-3kA\"><li class=\"ProfileRow-creativeField-Iu9\"><a class=\"ProfileRow-fieldLink-1cc\" href=\"/search?field=44\">Graphic Design</a></li><li class=\"ProfileRow-creativeField-Iu9\"><a class=\"ProfileRow-fieldLink-1cc\" href=\"/search?field=5\">Art Direction</a></li><li class=\"ProfileRow-creativeField-Iu9\"><a class=\"ProfileRow-fieldLink-1cc\" href=\"/search?field=122\">Digital Art</a></li></ul></div><div class=\"ProfileRow-stats-lSM\"><div class=\"FollowButtonLegacy-legacyButton-1Bl ProfileRow-followButton-xJ-\"><div class=\"user-follow js-action-follow qa-follow-button-container form-button-wrap rf-button__container rf-button__container--follow follow-button-container\" data-display-name=\"Popcorp ​\" data-entity=\"user\" data-followee=\"38868647\" data-source=\"\" tabindex=\"0\">\n",
       " <a class=\"js-form-button-follow rf-button--small rf-button rf-button--follow\"><span class=\"rf-button__label\">Follow</span></a>\n",
       " <a class=\"qa-form-button-following rf-button--small rf-button rf-button--secondary rf-button--following\"><span class=\"rf-button__label\">Following</span></a>\n",
       " <a class=\"js-form-button-unfollow rf-button--small rf-button rf-button--danger rf-button--unfollow\"><span class=\"rf-button__label\">Unfollow</span></a>\n",
       " </div>\n",
       " </div><div class=\"ProfileRow-statDivider-3AM\"></div><div class=\"ProfileRow-metric-1o4 ProfileRow-appreciations-1es\"><svg class=\"Appreciations-icon-2NG ProfileRow-icon-2jc\" height=\"16\" viewbox=\"0.5 0.5 16 16\" width=\"16\" xmlns=\"http://www.w3.org/2000/svg\"><path d=\"M.5.5h16v16H.5z\" fill=\"none\"></path><path d=\"M.5 7.5h3v8h-3zM7.207 15.207c.193.19.425.29.677.293H12c.256 0 .512-.098.707-.293l2.5-2.5c.19-.19.288-.457.293-.707V8.5c0-.553-.445-1-1-1h-5L11 5s.5-.792.5-1.5v-1c0-.553-.447-1-1-1l-1 2-4 4v6l1.707 1.707z\"></path></svg><span class=\"ProfileRow-metricLabel-THG\" title=\"859\">859</span></div><div class=\"ProfileRow-metric-1o4\"><svg class=\"ProfileRow-icon-2jc\" height=\"16\" viewbox=\"0 0 16 16\" width=\"16\" xmlns=\"http://www.w3.org/2000/svg\"><path d=\"M8.5 3.5c-5 0-8 5-8 5s3 5 8 5 8-5 8-5-3-5-8-5zm0 7c-1.105 0-2-.896-2-2 0-1.106.895-2 2-2 1.104 0 2 .894 2 2 0 1.104-.896 2-2 2z\"></path></svg><span class=\"ProfileRow-metricLabel-THG\" title=\"16,267\">16.3k</span></div></div></div>,\n",
       " <div class=\"ProfileRow-userMeta-3DC\"><div class=\"ProfileRow-nameLocationAndFields-2--\"><h3 class=\"ProfileRow-displayName-YQn\"><a class=\"ProfileRow-profileLink-2Iv qa-profile-link\" href=\"https://www.behance.net/maze_art?tracking_source=search_users_recommended\">Maze Art</a></h3><p class=\"ProfileRow-location-U8W\">Tartu, Estonia</p><ul class=\"ProfileRow-creativeFields-3kA\"><li class=\"ProfileRow-creativeField-Iu9\"><a class=\"ProfileRow-fieldLink-1cc\" href=\"/search?field=48\">Illustration</a></li><li class=\"ProfileRow-creativeField-Iu9\"><a class=\"ProfileRow-fieldLink-1cc\" href=\"/search?field=124\">Character Design</a></li><li class=\"ProfileRow-creativeField-Iu9\"><a class=\"ProfileRow-fieldLink-1cc\" href=\"/search?field=122\">Digital Art</a></li></ul></div><div class=\"ProfileRow-stats-lSM\"><div class=\"FollowButtonLegacy-legacyButton-1Bl ProfileRow-followButton-xJ-\"><div class=\"user-follow js-action-follow qa-follow-button-container form-button-wrap rf-button__container rf-button__container--follow follow-button-container\" data-display-name=\"Maze Art\" data-entity=\"user\" data-followee=\"474143221\" data-source=\"\" tabindex=\"0\">\n",
       " <a class=\"js-form-button-follow rf-button--small rf-button rf-button--follow\"><span class=\"rf-button__label\">Follow</span></a>\n",
       " <a class=\"qa-form-button-following rf-button--small rf-button rf-button--secondary rf-button--following\"><span class=\"rf-button__label\">Following</span></a>\n",
       " <a class=\"js-form-button-unfollow rf-button--small rf-button rf-button--danger rf-button--unfollow\"><span class=\"rf-button__label\">Unfollow</span></a>\n",
       " </div>\n",
       " </div><div class=\"ProfileRow-statDivider-3AM\"></div><div class=\"ProfileRow-metric-1o4 ProfileRow-appreciations-1es\"><svg class=\"Appreciations-icon-2NG ProfileRow-icon-2jc\" height=\"16\" viewbox=\"0.5 0.5 16 16\" width=\"16\" xmlns=\"http://www.w3.org/2000/svg\"><path d=\"M.5.5h16v16H.5z\" fill=\"none\"></path><path d=\"M.5 7.5h3v8h-3zM7.207 15.207c.193.19.425.29.677.293H12c.256 0 .512-.098.707-.293l2.5-2.5c.19-.19.288-.457.293-.707V8.5c0-.553-.445-1-1-1h-5L11 5s.5-.792.5-1.5v-1c0-.553-.447-1-1-1l-1 2-4 4v6l1.707 1.707z\"></path></svg><span class=\"ProfileRow-metricLabel-THG\" title=\"148\">148</span></div><div class=\"ProfileRow-metric-1o4\"><svg class=\"ProfileRow-icon-2jc\" height=\"16\" viewbox=\"0 0 16 16\" width=\"16\" xmlns=\"http://www.w3.org/2000/svg\"><path d=\"M8.5 3.5c-5 0-8 5-8 5s3 5 8 5 8-5 8-5-3-5-8-5zm0 7c-1.105 0-2-.896-2-2 0-1.106.895-2 2-2 1.104 0 2 .894 2 2 0 1.104-.896 2-2 2z\"></path></svg><span class=\"ProfileRow-metricLabel-THG\" title=\"263\">263</span></div></div></div>,\n",
       " <div class=\"ProfileRow-userMeta-3DC\"><div class=\"ProfileRow-nameLocationAndFields-2--\"><h3 class=\"ProfileRow-displayName-YQn\"><a class=\"ProfileRow-profileLink-2Iv qa-profile-link\" href=\"https://www.behance.net/jassinover?tracking_source=search_users_recommended\">Mihhail Jassinover</a></h3><p class=\"ProfileRow-location-U8W\">Tallinn, Estonia</p><ul class=\"ProfileRow-creativeFields-3kA\"><li class=\"ProfileRow-creativeField-Iu9\"><a class=\"ProfileRow-fieldLink-1cc\" href=\"/search?field=4\">Architecture</a></li><li class=\"ProfileRow-creativeField-Iu9\"><a class=\"ProfileRow-fieldLink-1cc\" href=\"/search?field=122\">Digital Art</a></li><li class=\"ProfileRow-creativeField-Iu9\"><a class=\"ProfileRow-fieldLink-1cc\" href=\"/search?field=44\">Graphic Design</a></li></ul></div><div class=\"ProfileRow-stats-lSM\"><div class=\"FollowButtonLegacy-legacyButton-1Bl ProfileRow-followButton-xJ-\"><div class=\"user-follow js-action-follow qa-follow-button-container form-button-wrap rf-button__container rf-button__container--follow follow-button-container\" data-display-name=\"Mihhail Jassinover\" data-entity=\"user\" data-followee=\"562328655\" data-source=\"\" tabindex=\"0\">\n",
       " <a class=\"js-form-button-follow rf-button--small rf-button rf-button--follow\"><span class=\"rf-button__label\">Follow</span></a>\n",
       " <a class=\"qa-form-button-following rf-button--small rf-button rf-button--secondary rf-button--following\"><span class=\"rf-button__label\">Following</span></a>\n",
       " <a class=\"js-form-button-unfollow rf-button--small rf-button rf-button--danger rf-button--unfollow\"><span class=\"rf-button__label\">Unfollow</span></a>\n",
       " </div>\n",
       " </div><div class=\"ProfileRow-statDivider-3AM\"></div><div class=\"ProfileRow-metric-1o4 ProfileRow-appreciations-1es\"><svg class=\"Appreciations-icon-2NG ProfileRow-icon-2jc\" height=\"16\" viewbox=\"0.5 0.5 16 16\" width=\"16\" xmlns=\"http://www.w3.org/2000/svg\"><path d=\"M.5.5h16v16H.5z\" fill=\"none\"></path><path d=\"M.5 7.5h3v8h-3zM7.207 15.207c.193.19.425.29.677.293H12c.256 0 .512-.098.707-.293l2.5-2.5c.19-.19.288-.457.293-.707V8.5c0-.553-.445-1-1-1h-5L11 5s.5-.792.5-1.5v-1c0-.553-.447-1-1-1l-1 2-4 4v6l1.707 1.707z\"></path></svg><span class=\"ProfileRow-metricLabel-THG\" title=\"3,843\">3.8k</span></div><div class=\"ProfileRow-metric-1o4\"><svg class=\"ProfileRow-icon-2jc\" height=\"16\" viewbox=\"0 0 16 16\" width=\"16\" xmlns=\"http://www.w3.org/2000/svg\"><path d=\"M8.5 3.5c-5 0-8 5-8 5s3 5 8 5 8-5 8-5-3-5-8-5zm0 7c-1.105 0-2-.896-2-2 0-1.106.895-2 2-2 1.104 0 2 .894 2 2 0 1.104-.896 2-2 2z\"></path></svg><span class=\"ProfileRow-metricLabel-THG\" title=\"22,743\">22.7k</span></div></div></div>,\n",
       " <div class=\"ProfileRow-userMeta-3DC\"><div class=\"ProfileRow-nameLocationAndFields-2--\"><h3 class=\"ProfileRow-displayName-YQn\"><a class=\"ProfileRow-profileLink-2Iv qa-profile-link\" href=\"https://www.behance.net/yellow3D?tracking_source=search_users_recommended\">Yellow Studio</a></h3><p class=\"ProfileRow-location-U8W\">Tallinn, Estonia</p><ul class=\"ProfileRow-creativeFields-3kA\"><li class=\"ProfileRow-creativeField-Iu9\"><a class=\"ProfileRow-fieldLink-1cc\" href=\"/search?field=4\">Architecture</a></li><li class=\"ProfileRow-creativeField-Iu9\"><a class=\"ProfileRow-fieldLink-1cc\" href=\"/search?field=44\">Graphic Design</a></li><li class=\"ProfileRow-creativeField-Iu9\"><a class=\"ProfileRow-fieldLink-1cc\" href=\"/search?field=122\">Digital Art</a></li></ul></div><div class=\"ProfileRow-stats-lSM\"><div class=\"FollowButtonLegacy-legacyButton-1Bl ProfileRow-followButton-xJ-\"><div class=\"user-follow js-action-follow qa-follow-button-container form-button-wrap rf-button__container rf-button__container--follow follow-button-container\" data-display-name=\"Yellow Studio\" data-entity=\"user\" data-followee=\"86500121\" data-source=\"\" tabindex=\"0\">\n",
       " <a class=\"js-form-button-follow rf-button--small rf-button rf-button--follow\"><span class=\"rf-button__label\">Follow</span></a>\n",
       " <a class=\"qa-form-button-following rf-button--small rf-button rf-button--secondary rf-button--following\"><span class=\"rf-button__label\">Following</span></a>\n",
       " <a class=\"js-form-button-unfollow rf-button--small rf-button rf-button--danger rf-button--unfollow\"><span class=\"rf-button__label\">Unfollow</span></a>\n",
       " </div>\n",
       " </div><div class=\"ProfileRow-statDivider-3AM\"></div><div class=\"ProfileRow-metric-1o4 ProfileRow-appreciations-1es\"><svg class=\"Appreciations-icon-2NG ProfileRow-icon-2jc\" height=\"16\" viewbox=\"0.5 0.5 16 16\" width=\"16\" xmlns=\"http://www.w3.org/2000/svg\"><path d=\"M.5.5h16v16H.5z\" fill=\"none\"></path><path d=\"M.5 7.5h3v8h-3zM7.207 15.207c.193.19.425.29.677.293H12c.256 0 .512-.098.707-.293l2.5-2.5c.19-.19.288-.457.293-.707V8.5c0-.553-.445-1-1-1h-5L11 5s.5-.792.5-1.5v-1c0-.553-.447-1-1-1l-1 2-4 4v6l1.707 1.707z\"></path></svg><span class=\"ProfileRow-metricLabel-THG\" title=\"4,401\">4.4k</span></div><div class=\"ProfileRow-metric-1o4\"><svg class=\"ProfileRow-icon-2jc\" height=\"16\" viewbox=\"0 0 16 16\" width=\"16\" xmlns=\"http://www.w3.org/2000/svg\"><path d=\"M8.5 3.5c-5 0-8 5-8 5s3 5 8 5 8-5 8-5-3-5-8-5zm0 7c-1.105 0-2-.896-2-2 0-1.106.895-2 2-2 1.104 0 2 .894 2 2 0 1.104-.896 2-2 2z\"></path></svg><span class=\"ProfileRow-metricLabel-THG\" title=\"27,981\">28k</span></div></div></div>,\n",
       " <div class=\"ProfileRow-userMeta-3DC\"><div class=\"ProfileRow-nameLocationAndFields-2--\"><h3 class=\"ProfileRow-displayName-YQn\"><a class=\"ProfileRow-profileLink-2Iv qa-profile-link\" href=\"https://www.behance.net/Oi_Oilikki?tracking_source=search_users_recommended\">Olga Skomorokhova</a></h3><p class=\"ProfileRow-location-U8W\">Tallinn, Estonia</p><ul class=\"ProfileRow-creativeFields-3kA\"><li class=\"ProfileRow-creativeField-Iu9\"><a class=\"ProfileRow-fieldLink-1cc\" href=\"/search?field=48\">Illustration</a></li><li class=\"ProfileRow-creativeField-Iu9\"><a class=\"ProfileRow-fieldLink-1cc\" href=\"/search?field=122\">Digital Art</a></li><li class=\"ProfileRow-creativeField-Iu9\"><a class=\"ProfileRow-fieldLink-1cc\" href=\"/search?field=44\">Graphic Design</a></li></ul></div><div class=\"ProfileRow-stats-lSM\"><div class=\"FollowButtonLegacy-legacyButton-1Bl ProfileRow-followButton-xJ-\"><div class=\"user-follow js-action-follow qa-follow-button-container form-button-wrap rf-button__container rf-button__container--follow follow-button-container\" data-display-name=\"Olga Skomorokhova\" data-entity=\"user\" data-followee=\"9951969\" data-source=\"\" tabindex=\"0\">\n",
       " <a class=\"js-form-button-follow rf-button--small rf-button rf-button--follow\"><span class=\"rf-button__label\">Follow</span></a>\n",
       " <a class=\"qa-form-button-following rf-button--small rf-button rf-button--secondary rf-button--following\"><span class=\"rf-button__label\">Following</span></a>\n",
       " <a class=\"js-form-button-unfollow rf-button--small rf-button rf-button--danger rf-button--unfollow\"><span class=\"rf-button__label\">Unfollow</span></a>\n",
       " </div>\n",
       " </div><div class=\"ProfileRow-statDivider-3AM\"></div><div class=\"ProfileRow-metric-1o4 ProfileRow-appreciations-1es\"><svg class=\"Appreciations-icon-2NG ProfileRow-icon-2jc\" height=\"16\" viewbox=\"0.5 0.5 16 16\" width=\"16\" xmlns=\"http://www.w3.org/2000/svg\"><path d=\"M.5.5h16v16H.5z\" fill=\"none\"></path><path d=\"M.5 7.5h3v8h-3zM7.207 15.207c.193.19.425.29.677.293H12c.256 0 .512-.098.707-.293l2.5-2.5c.19-.19.288-.457.293-.707V8.5c0-.553-.445-1-1-1h-5L11 5s.5-.792.5-1.5v-1c0-.553-.447-1-1-1l-1 2-4 4v6l1.707 1.707z\"></path></svg><span class=\"ProfileRow-metricLabel-THG\" title=\"27,020\">27k</span></div><div class=\"ProfileRow-metric-1o4\"><svg class=\"ProfileRow-icon-2jc\" height=\"16\" viewbox=\"0 0 16 16\" width=\"16\" xmlns=\"http://www.w3.org/2000/svg\"><path d=\"M8.5 3.5c-5 0-8 5-8 5s3 5 8 5 8-5 8-5-3-5-8-5zm0 7c-1.105 0-2-.896-2-2 0-1.106.895-2 2-2 1.104 0 2 .894 2 2 0 1.104-.896 2-2 2z\"></path></svg><span class=\"ProfileRow-metricLabel-THG\" title=\"187,775\">187.8k</span></div></div></div>,\n",
       " <div class=\"ProfileRow-userMeta-3DC\"><div class=\"ProfileRow-nameLocationAndFields-2--\"><h3 class=\"ProfileRow-displayName-YQn\"><a class=\"ProfileRow-profileLink-2Iv qa-profile-link\" href=\"https://www.behance.net/jevgenitro0ea1?tracking_source=search_users_recommended\">Jevgeni Trombovetski</a></h3><p class=\"ProfileRow-location-U8W\">Tallinn, Estonia</p><ul class=\"ProfileRow-creativeFields-3kA\"><li class=\"ProfileRow-creativeField-Iu9\"><a class=\"ProfileRow-fieldLink-1cc\" href=\"/search?field=44\">Graphic Design</a></li><li class=\"ProfileRow-creativeField-Iu9\"><a class=\"ProfileRow-fieldLink-1cc\" href=\"/search?field=63\">Motion Graphics</a></li><li class=\"ProfileRow-creativeField-Iu9\"><a class=\"ProfileRow-fieldLink-1cc\" href=\"/search?field=109\">Branding</a></li></ul></div><div class=\"ProfileRow-stats-lSM\"><div class=\"FollowButtonLegacy-legacyButton-1Bl ProfileRow-followButton-xJ-\"><div class=\"user-follow js-action-follow qa-follow-button-container form-button-wrap rf-button__container rf-button__container--follow follow-button-container\" data-display-name=\"Jevgeni Trombovetski\" data-entity=\"user\" data-followee=\"168273339\" data-source=\"\" tabindex=\"0\">\n",
       " <a class=\"js-form-button-follow rf-button--small rf-button rf-button--follow\"><span class=\"rf-button__label\">Follow</span></a>\n",
       " <a class=\"qa-form-button-following rf-button--small rf-button rf-button--secondary rf-button--following\"><span class=\"rf-button__label\">Following</span></a>\n",
       " <a class=\"js-form-button-unfollow rf-button--small rf-button rf-button--danger rf-button--unfollow\"><span class=\"rf-button__label\">Unfollow</span></a>\n",
       " </div>\n",
       " </div><div class=\"ProfileRow-statDivider-3AM\"></div><div class=\"ProfileRow-metric-1o4 ProfileRow-appreciations-1es\"><svg class=\"Appreciations-icon-2NG ProfileRow-icon-2jc\" height=\"16\" viewbox=\"0.5 0.5 16 16\" width=\"16\" xmlns=\"http://www.w3.org/2000/svg\"><path d=\"M.5.5h16v16H.5z\" fill=\"none\"></path><path d=\"M.5 7.5h3v8h-3zM7.207 15.207c.193.19.425.29.677.293H12c.256 0 .512-.098.707-.293l2.5-2.5c.19-.19.288-.457.293-.707V8.5c0-.553-.445-1-1-1h-5L11 5s.5-.792.5-1.5v-1c0-.553-.447-1-1-1l-1 2-4 4v6l1.707 1.707z\"></path></svg><span class=\"ProfileRow-metricLabel-THG\" title=\"229\">229</span></div><div class=\"ProfileRow-metric-1o4\"><svg class=\"ProfileRow-icon-2jc\" height=\"16\" viewbox=\"0 0 16 16\" width=\"16\" xmlns=\"http://www.w3.org/2000/svg\"><path d=\"M8.5 3.5c-5 0-8 5-8 5s3 5 8 5 8-5 8-5-3-5-8-5zm0 7c-1.105 0-2-.896-2-2 0-1.106.895-2 2-2 1.104 0 2 .894 2 2 0 1.104-.896 2-2 2z\"></path></svg><span class=\"ProfileRow-metricLabel-THG\" title=\"2,401\">2.4k</span></div></div></div>,\n",
       " <div class=\"ProfileRow-userMeta-3DC\"><div class=\"ProfileRow-nameLocationAndFields-2--\"><h3 class=\"ProfileRow-displayName-YQn\"><a class=\"ProfileRow-profileLink-2Iv qa-profile-link\" href=\"https://www.behance.net/tabascoagency?tracking_source=search_users_recommended\">Tabasco Agency</a></h3><p class=\"ProfileRow-location-U8W\">Tallinn, Estonia</p><ul class=\"ProfileRow-creativeFields-3kA\"><li class=\"ProfileRow-creativeField-Iu9\"><a class=\"ProfileRow-fieldLink-1cc\" href=\"/search?field=5\">Art Direction</a></li><li class=\"ProfileRow-creativeField-Iu9\"><a class=\"ProfileRow-fieldLink-1cc\" href=\"/search?field=44\">Graphic Design</a></li><li class=\"ProfileRow-creativeField-Iu9\"><a class=\"ProfileRow-fieldLink-1cc\" href=\"/search?field=109\">Branding</a></li></ul></div><div class=\"ProfileRow-stats-lSM\"><div class=\"FollowButtonLegacy-legacyButton-1Bl ProfileRow-followButton-xJ-\"><div class=\"user-follow js-action-follow qa-follow-button-container form-button-wrap rf-button__container rf-button__container--follow follow-button-container\" data-display-name=\"Tabasco Agency\" data-entity=\"user\" data-followee=\"346709647\" data-source=\"\" tabindex=\"0\">\n",
       " <a class=\"js-form-button-follow rf-button--small rf-button rf-button--follow\"><span class=\"rf-button__label\">Follow</span></a>\n",
       " <a class=\"qa-form-button-following rf-button--small rf-button rf-button--secondary rf-button--following\"><span class=\"rf-button__label\">Following</span></a>\n",
       " <a class=\"js-form-button-unfollow rf-button--small rf-button rf-button--danger rf-button--unfollow\"><span class=\"rf-button__label\">Unfollow</span></a>\n",
       " </div>\n",
       " </div><div class=\"ProfileRow-statDivider-3AM\"></div><div class=\"ProfileRow-metric-1o4 ProfileRow-appreciations-1es\"><svg class=\"Appreciations-icon-2NG ProfileRow-icon-2jc\" height=\"16\" viewbox=\"0.5 0.5 16 16\" width=\"16\" xmlns=\"http://www.w3.org/2000/svg\"><path d=\"M.5.5h16v16H.5z\" fill=\"none\"></path><path d=\"M.5 7.5h3v8h-3zM7.207 15.207c.193.19.425.29.677.293H12c.256 0 .512-.098.707-.293l2.5-2.5c.19-.19.288-.457.293-.707V8.5c0-.553-.445-1-1-1h-5L11 5s.5-.792.5-1.5v-1c0-.553-.447-1-1-1l-1 2-4 4v6l1.707 1.707z\"></path></svg><span class=\"ProfileRow-metricLabel-THG\" title=\"9,225\">9.2k</span></div><div class=\"ProfileRow-metric-1o4\"><svg class=\"ProfileRow-icon-2jc\" height=\"16\" viewbox=\"0 0 16 16\" width=\"16\" xmlns=\"http://www.w3.org/2000/svg\"><path d=\"M8.5 3.5c-5 0-8 5-8 5s3 5 8 5 8-5 8-5-3-5-8-5zm0 7c-1.105 0-2-.896-2-2 0-1.106.895-2 2-2 1.104 0 2 .894 2 2 0 1.104-.896 2-2 2z\"></path></svg><span class=\"ProfileRow-metricLabel-THG\" title=\"82,901\">82.9k</span></div></div></div>,\n",
       " <div class=\"ProfileRow-userMeta-3DC\"><div class=\"ProfileRow-nameLocationAndFields-2--\"><h3 class=\"ProfileRow-displayName-YQn\"><a class=\"ProfileRow-profileLink-2Iv qa-profile-link\" href=\"https://www.behance.net/TheGatelessGate?tracking_source=search_users_recommended\">Urmas Kaldaru</a></h3><p class=\"ProfileRow-location-U8W\">Tallinn, Estonia</p><ul class=\"ProfileRow-creativeFields-3kA\"><li class=\"ProfileRow-creativeField-Iu9\"><a class=\"ProfileRow-fieldLink-1cc\" href=\"/search?field=73\">Photography</a></li><li class=\"ProfileRow-creativeField-Iu9\"><a class=\"ProfileRow-fieldLink-1cc\" href=\"/search?field=27\">Digital Photography</a></li><li class=\"ProfileRow-creativeField-Iu9\"><a class=\"ProfileRow-fieldLink-1cc\" href=\"/search?field=122\">Digital Art</a></li></ul></div><div class=\"ProfileRow-stats-lSM\"><div class=\"FollowButtonLegacy-legacyButton-1Bl ProfileRow-followButton-xJ-\"><div class=\"user-follow js-action-follow qa-follow-button-container form-button-wrap rf-button__container rf-button__container--follow follow-button-container\" data-display-name=\"Urmas Kaldaru\" data-entity=\"user\" data-followee=\"4722271\" data-source=\"\" tabindex=\"0\">\n",
       " <a class=\"js-form-button-follow rf-button--small rf-button rf-button--follow\"><span class=\"rf-button__label\">Follow</span></a>\n",
       " <a class=\"qa-form-button-following rf-button--small rf-button rf-button--secondary rf-button--following\"><span class=\"rf-button__label\">Following</span></a>\n",
       " <a class=\"js-form-button-unfollow rf-button--small rf-button rf-button--danger rf-button--unfollow\"><span class=\"rf-button__label\">Unfollow</span></a>\n",
       " </div>\n",
       " </div><div class=\"ProfileRow-statDivider-3AM\"></div><div class=\"ProfileRow-metric-1o4 ProfileRow-appreciations-1es\"><svg class=\"Appreciations-icon-2NG ProfileRow-icon-2jc\" height=\"16\" viewbox=\"0.5 0.5 16 16\" width=\"16\" xmlns=\"http://www.w3.org/2000/svg\"><path d=\"M.5.5h16v16H.5z\" fill=\"none\"></path><path d=\"M.5 7.5h3v8h-3zM7.207 15.207c.193.19.425.29.677.293H12c.256 0 .512-.098.707-.293l2.5-2.5c.19-.19.288-.457.293-.707V8.5c0-.553-.445-1-1-1h-5L11 5s.5-.792.5-1.5v-1c0-.553-.447-1-1-1l-1 2-4 4v6l1.707 1.707z\"></path></svg><span class=\"ProfileRow-metricLabel-THG\" title=\"4,565\">4.6k</span></div><div class=\"ProfileRow-metric-1o4\"><svg class=\"ProfileRow-icon-2jc\" height=\"16\" viewbox=\"0 0 16 16\" width=\"16\" xmlns=\"http://www.w3.org/2000/svg\"><path d=\"M8.5 3.5c-5 0-8 5-8 5s3 5 8 5 8-5 8-5-3-5-8-5zm0 7c-1.105 0-2-.896-2-2 0-1.106.895-2 2-2 1.104 0 2 .894 2 2 0 1.104-.896 2-2 2z\"></path></svg><span class=\"ProfileRow-metricLabel-THG\" title=\"15,770\">15.8k</span></div></div></div>,\n",
       " <div class=\"ProfileRow-userMeta-3DC\"><div class=\"ProfileRow-nameLocationAndFields-2--\"><h3 class=\"ProfileRow-displayName-YQn\"><a class=\"ProfileRow-profileLink-2Iv qa-profile-link\" href=\"https://www.behance.net/creativedestructor?tracking_source=search_users_recommended\">Dmitry Zaviyalov</a></h3><p class=\"ProfileRow-location-U8W\">Tallinn, Estonia</p><ul class=\"ProfileRow-creativeFields-3kA\"><li class=\"ProfileRow-creativeField-Iu9\"><a class=\"ProfileRow-fieldLink-1cc\" href=\"/search?field=122\">Digital Art</a></li><li class=\"ProfileRow-creativeField-Iu9\"><a class=\"ProfileRow-fieldLink-1cc\" href=\"/search?field=48\">Illustration</a></li><li class=\"ProfileRow-creativeField-Iu9\"><a class=\"ProfileRow-fieldLink-1cc\" href=\"/search?field=44\">Graphic Design</a></li></ul></div><div class=\"ProfileRow-stats-lSM\"><div class=\"FollowButtonLegacy-legacyButton-1Bl ProfileRow-followButton-xJ-\"><div class=\"user-follow js-action-follow qa-follow-button-container form-button-wrap rf-button__container rf-button__container--follow follow-button-container\" data-display-name=\"Dmitry Zaviyalov\" data-entity=\"user\" data-followee=\"3765491\" data-source=\"\" tabindex=\"0\">\n",
       " <a class=\"js-form-button-follow rf-button--small rf-button rf-button--follow\"><span class=\"rf-button__label\">Follow</span></a>\n",
       " <a class=\"qa-form-button-following rf-button--small rf-button rf-button--secondary rf-button--following\"><span class=\"rf-button__label\">Following</span></a>\n",
       " <a class=\"js-form-button-unfollow rf-button--small rf-button rf-button--danger rf-button--unfollow\"><span class=\"rf-button__label\">Unfollow</span></a>\n",
       " </div>\n",
       " </div><div class=\"ProfileRow-statDivider-3AM\"></div><div class=\"ProfileRow-metric-1o4 ProfileRow-appreciations-1es\"><svg class=\"Appreciations-icon-2NG ProfileRow-icon-2jc\" height=\"16\" viewbox=\"0.5 0.5 16 16\" width=\"16\" xmlns=\"http://www.w3.org/2000/svg\"><path d=\"M.5.5h16v16H.5z\" fill=\"none\"></path><path d=\"M.5 7.5h3v8h-3zM7.207 15.207c.193.19.425.29.677.293H12c.256 0 .512-.098.707-.293l2.5-2.5c.19-.19.288-.457.293-.707V8.5c0-.553-.445-1-1-1h-5L11 5s.5-.792.5-1.5v-1c0-.553-.447-1-1-1l-1 2-4 4v6l1.707 1.707z\"></path></svg><span class=\"ProfileRow-metricLabel-THG\" title=\"10,566\">10.6k</span></div><div class=\"ProfileRow-metric-1o4\"><svg class=\"ProfileRow-icon-2jc\" height=\"16\" viewbox=\"0 0 16 16\" width=\"16\" xmlns=\"http://www.w3.org/2000/svg\"><path d=\"M8.5 3.5c-5 0-8 5-8 5s3 5 8 5 8-5 8-5-3-5-8-5zm0 7c-1.105 0-2-.896-2-2 0-1.106.895-2 2-2 1.104 0 2 .894 2 2 0 1.104-.896 2-2 2z\"></path></svg><span class=\"ProfileRow-metricLabel-THG\" title=\"107,243\">107.2k</span></div></div></div>,\n",
       " <div class=\"ProfileRow-userMeta-3DC\"><div class=\"ProfileRow-nameLocationAndFields-2--\"><h3 class=\"ProfileRow-displayName-YQn\"><a class=\"ProfileRow-profileLink-2Iv qa-profile-link\" href=\"https://www.behance.net/romanbova?tracking_source=search_users_recommended\">Roman Bova</a></h3><p class=\"ProfileRow-location-U8W\">Tallinn, Estonia</p><ul class=\"ProfileRow-creativeFields-3kA\"><li class=\"ProfileRow-creativeField-Iu9\"><a class=\"ProfileRow-fieldLink-1cc\" href=\"/search?field=132\">UI/UX</a></li><li class=\"ProfileRow-creativeField-Iu9\"><a class=\"ProfileRow-fieldLink-1cc\" href=\"/search?field=102\">Web Design</a></li><li class=\"ProfileRow-creativeField-Iu9\"><a class=\"ProfileRow-fieldLink-1cc\" href=\"/search?field=51\">Interaction Design</a></li></ul></div><div class=\"ProfileRow-stats-lSM\"><div class=\"FollowButtonLegacy-legacyButton-1Bl ProfileRow-followButton-xJ-\"><div class=\"user-follow js-action-follow qa-follow-button-container form-button-wrap rf-button__container rf-button__container--follow follow-button-container\" data-display-name=\"Roman Bova\" data-entity=\"user\" data-followee=\"18345555\" data-source=\"\" tabindex=\"0\">\n",
       " <a class=\"js-form-button-follow rf-button--small rf-button rf-button--follow\"><span class=\"rf-button__label\">Follow</span></a>\n",
       " <a class=\"qa-form-button-following rf-button--small rf-button rf-button--secondary rf-button--following\"><span class=\"rf-button__label\">Following</span></a>\n",
       " <a class=\"js-form-button-unfollow rf-button--small rf-button rf-button--danger rf-button--unfollow\"><span class=\"rf-button__label\">Unfollow</span></a>\n",
       " </div>\n",
       " </div><div class=\"ProfileRow-statDivider-3AM\"></div><div class=\"ProfileRow-metric-1o4 ProfileRow-appreciations-1es\"><svg class=\"Appreciations-icon-2NG ProfileRow-icon-2jc\" height=\"16\" viewbox=\"0.5 0.5 16 16\" width=\"16\" xmlns=\"http://www.w3.org/2000/svg\"><path d=\"M.5.5h16v16H.5z\" fill=\"none\"></path><path d=\"M.5 7.5h3v8h-3zM7.207 15.207c.193.19.425.29.677.293H12c.256 0 .512-.098.707-.293l2.5-2.5c.19-.19.288-.457.293-.707V8.5c0-.553-.445-1-1-1h-5L11 5s.5-.792.5-1.5v-1c0-.553-.447-1-1-1l-1 2-4 4v6l1.707 1.707z\"></path></svg><span class=\"ProfileRow-metricLabel-THG\" title=\"13,442\">13.4k</span></div><div class=\"ProfileRow-metric-1o4\"><svg class=\"ProfileRow-icon-2jc\" height=\"16\" viewbox=\"0 0 16 16\" width=\"16\" xmlns=\"http://www.w3.org/2000/svg\"><path d=\"M8.5 3.5c-5 0-8 5-8 5s3 5 8 5 8-5 8-5-3-5-8-5zm0 7c-1.105 0-2-.896-2-2 0-1.106.895-2 2-2 1.104 0 2 .894 2 2 0 1.104-.896 2-2 2z\"></path></svg><span class=\"ProfileRow-metricLabel-THG\" title=\"115,239\">115.2k</span></div></div></div>,\n",
       " <div class=\"ProfileRow-userMeta-3DC\"><div class=\"ProfileRow-nameLocationAndFields-2--\"><h3 class=\"ProfileRow-displayName-YQn\"><a class=\"ProfileRow-profileLink-2Iv qa-profile-link\" href=\"https://www.behance.net/rometmets0d0f2?tracking_source=search_users_recommended\">Romet Mets</a></h3><p class=\"ProfileRow-location-U8W\">Estonia</p><ul class=\"ProfileRow-creativeFields-3kA\"><li class=\"ProfileRow-creativeField-Iu9\"><a class=\"ProfileRow-fieldLink-1cc\" href=\"/search?field=4\">Architecture</a></li><li class=\"ProfileRow-creativeField-Iu9\"><a class=\"ProfileRow-fieldLink-1cc\" href=\"/search?field=122\">Digital Art</a></li><li class=\"ProfileRow-creativeField-Iu9\"><a class=\"ProfileRow-fieldLink-1cc\" href=\"/search?field=52\">Interior Design</a></li></ul></div><div class=\"ProfileRow-stats-lSM\"><div class=\"FollowButtonLegacy-legacyButton-1Bl ProfileRow-followButton-xJ-\"><div class=\"user-follow js-action-follow qa-follow-button-container form-button-wrap rf-button__container rf-button__container--follow follow-button-container\" data-display-name=\"Romet Mets\" data-entity=\"user\" data-followee=\"101550633\" data-source=\"\" tabindex=\"0\">\n",
       " <a class=\"js-form-button-follow rf-button--small rf-button rf-button--follow\"><span class=\"rf-button__label\">Follow</span></a>\n",
       " <a class=\"qa-form-button-following rf-button--small rf-button rf-button--secondary rf-button--following\"><span class=\"rf-button__label\">Following</span></a>\n",
       " <a class=\"js-form-button-unfollow rf-button--small rf-button rf-button--danger rf-button--unfollow\"><span class=\"rf-button__label\">Unfollow</span></a>\n",
       " </div>\n",
       " </div><div class=\"ProfileRow-statDivider-3AM\"></div><div class=\"ProfileRow-metric-1o4 ProfileRow-appreciations-1es\"><svg class=\"Appreciations-icon-2NG ProfileRow-icon-2jc\" height=\"16\" viewbox=\"0.5 0.5 16 16\" width=\"16\" xmlns=\"http://www.w3.org/2000/svg\"><path d=\"M.5.5h16v16H.5z\" fill=\"none\"></path><path d=\"M.5 7.5h3v8h-3zM7.207 15.207c.193.19.425.29.677.293H12c.256 0 .512-.098.707-.293l2.5-2.5c.19-.19.288-.457.293-.707V8.5c0-.553-.445-1-1-1h-5L11 5s.5-.792.5-1.5v-1c0-.553-.447-1-1-1l-1 2-4 4v6l1.707 1.707z\"></path></svg><span class=\"ProfileRow-metricLabel-THG\" title=\"2,374\">2.4k</span></div><div class=\"ProfileRow-metric-1o4\"><svg class=\"ProfileRow-icon-2jc\" height=\"16\" viewbox=\"0 0 16 16\" width=\"16\" xmlns=\"http://www.w3.org/2000/svg\"><path d=\"M8.5 3.5c-5 0-8 5-8 5s3 5 8 5 8-5 8-5-3-5-8-5zm0 7c-1.105 0-2-.896-2-2 0-1.106.895-2 2-2 1.104 0 2 .894 2 2 0 1.104-.896 2-2 2z\"></path></svg><span class=\"ProfileRow-metricLabel-THG\" title=\"20,277\">20.3k</span></div></div></div>,\n",
       " <div class=\"ProfileRow-userMeta-3DC\"><div class=\"ProfileRow-nameLocationAndFields-2--\"><h3 class=\"ProfileRow-displayName-YQn\"><a class=\"ProfileRow-profileLink-2Iv qa-profile-link\" href=\"https://www.behance.net/lepikdaniel?tracking_source=search_users_recommended\">Daniel Lepik</a></h3><p class=\"ProfileRow-location-U8W\">Tallinn, Estonia</p><ul class=\"ProfileRow-creativeFields-3kA\"><li class=\"ProfileRow-creativeField-Iu9\"><a class=\"ProfileRow-fieldLink-1cc\" href=\"/search?field=5\">Art Direction</a></li><li class=\"ProfileRow-creativeField-Iu9\"><a class=\"ProfileRow-fieldLink-1cc\" href=\"/search?field=49\">Industrial Design</a></li><li class=\"ProfileRow-creativeField-Iu9\"><a class=\"ProfileRow-fieldLink-1cc\" href=\"/search?field=48\">Illustration</a></li></ul></div><div class=\"ProfileRow-stats-lSM\"><div class=\"FollowButtonLegacy-legacyButton-1Bl ProfileRow-followButton-xJ-\"><div class=\"user-follow js-action-follow qa-follow-button-container form-button-wrap rf-button__container rf-button__container--follow follow-button-container\" data-display-name=\"Daniel Lepik\" data-entity=\"user\" data-followee=\"110041751\" data-source=\"\" tabindex=\"0\">\n",
       " <a class=\"js-form-button-follow rf-button--small rf-button rf-button--follow\"><span class=\"rf-button__label\">Follow</span></a>\n",
       " <a class=\"qa-form-button-following rf-button--small rf-button rf-button--secondary rf-button--following\"><span class=\"rf-button__label\">Following</span></a>\n",
       " <a class=\"js-form-button-unfollow rf-button--small rf-button rf-button--danger rf-button--unfollow\"><span class=\"rf-button__label\">Unfollow</span></a>\n",
       " </div>\n",
       " </div><div class=\"ProfileRow-statDivider-3AM\"></div><div class=\"ProfileRow-metric-1o4 ProfileRow-appreciations-1es\"><svg class=\"Appreciations-icon-2NG ProfileRow-icon-2jc\" height=\"16\" viewbox=\"0.5 0.5 16 16\" width=\"16\" xmlns=\"http://www.w3.org/2000/svg\"><path d=\"M.5.5h16v16H.5z\" fill=\"none\"></path><path d=\"M.5 7.5h3v8h-3zM7.207 15.207c.193.19.425.29.677.293H12c.256 0 .512-.098.707-.293l2.5-2.5c.19-.19.288-.457.293-.707V8.5c0-.553-.445-1-1-1h-5L11 5s.5-.792.5-1.5v-1c0-.553-.447-1-1-1l-1 2-4 4v6l1.707 1.707z\"></path></svg><span class=\"ProfileRow-metricLabel-THG\" title=\"13,088\">13.1k</span></div><div class=\"ProfileRow-metric-1o4\"><svg class=\"ProfileRow-icon-2jc\" height=\"16\" viewbox=\"0 0 16 16\" width=\"16\" xmlns=\"http://www.w3.org/2000/svg\"><path d=\"M8.5 3.5c-5 0-8 5-8 5s3 5 8 5 8-5 8-5-3-5-8-5zm0 7c-1.105 0-2-.896-2-2 0-1.106.895-2 2-2 1.104 0 2 .894 2 2 0 1.104-.896 2-2 2z\"></path></svg><span class=\"ProfileRow-metricLabel-THG\" title=\"120,274\">120.3k</span></div></div></div>,\n",
       " <div class=\"ProfileRow-userMeta-3DC\"><div class=\"ProfileRow-nameLocationAndFields-2--\"><h3 class=\"ProfileRow-displayName-YQn\"><a class=\"ProfileRow-profileLink-2Iv qa-profile-link\" href=\"https://www.behance.net/irina29081a85?tracking_source=search_users_recommended\">Irina Mostovnikova</a></h3><p class=\"ProfileRow-location-U8W\">Tallinn, Estonia</p><ul class=\"ProfileRow-creativeFields-3kA\"><li class=\"ProfileRow-creativeField-Iu9\"><a class=\"ProfileRow-fieldLink-1cc\" href=\"/search?field=132\">UI/UX</a></li><li class=\"ProfileRow-creativeField-Iu9\"><a class=\"ProfileRow-fieldLink-1cc\" href=\"/search?field=102\">Web Design</a></li><li class=\"ProfileRow-creativeField-Iu9\"><a class=\"ProfileRow-fieldLink-1cc\" href=\"/search?field=44\">Graphic Design</a></li></ul></div><div class=\"ProfileRow-stats-lSM\"><div class=\"FollowButtonLegacy-legacyButton-1Bl ProfileRow-followButton-xJ-\"><div class=\"user-follow js-action-follow qa-follow-button-container form-button-wrap rf-button__container rf-button__container--follow follow-button-container\" data-display-name=\"Irina Mostovnikova\" data-entity=\"user\" data-followee=\"80244993\" data-source=\"\" tabindex=\"0\">\n",
       " <a class=\"js-form-button-follow rf-button--small rf-button rf-button--follow\"><span class=\"rf-button__label\">Follow</span></a>\n",
       " <a class=\"qa-form-button-following rf-button--small rf-button rf-button--secondary rf-button--following\"><span class=\"rf-button__label\">Following</span></a>\n",
       " <a class=\"js-form-button-unfollow rf-button--small rf-button rf-button--danger rf-button--unfollow\"><span class=\"rf-button__label\">Unfollow</span></a>\n",
       " </div>\n",
       " </div><div class=\"ProfileRow-statDivider-3AM\"></div><div class=\"ProfileRow-metric-1o4 ProfileRow-appreciations-1es\"><svg class=\"Appreciations-icon-2NG ProfileRow-icon-2jc\" height=\"16\" viewbox=\"0.5 0.5 16 16\" width=\"16\" xmlns=\"http://www.w3.org/2000/svg\"><path d=\"M.5.5h16v16H.5z\" fill=\"none\"></path><path d=\"M.5 7.5h3v8h-3zM7.207 15.207c.193.19.425.29.677.293H12c.256 0 .512-.098.707-.293l2.5-2.5c.19-.19.288-.457.293-.707V8.5c0-.553-.445-1-1-1h-5L11 5s.5-.792.5-1.5v-1c0-.553-.447-1-1-1l-1 2-4 4v6l1.707 1.707z\"></path></svg><span class=\"ProfileRow-metricLabel-THG\" title=\"946\">946</span></div><div class=\"ProfileRow-metric-1o4\"><svg class=\"ProfileRow-icon-2jc\" height=\"16\" viewbox=\"0 0 16 16\" width=\"16\" xmlns=\"http://www.w3.org/2000/svg\"><path d=\"M8.5 3.5c-5 0-8 5-8 5s3 5 8 5 8-5 8-5-3-5-8-5zm0 7c-1.105 0-2-.896-2-2 0-1.106.895-2 2-2 1.104 0 2 .894 2 2 0 1.104-.896 2-2 2z\"></path></svg><span class=\"ProfileRow-metricLabel-THG\" title=\"9,805\">9.8k</span></div></div></div>,\n",
       " <div class=\"ProfileRow-userMeta-3DC\"><div class=\"ProfileRow-nameLocationAndFields-2--\"><h3 class=\"ProfileRow-displayName-YQn\"><a class=\"ProfileRow-profileLink-2Iv qa-profile-link\" href=\"https://www.behance.net/qtyqtyqty?tracking_source=search_users_recommended\">Liza Peregudova</a></h3><p class=\"ProfileRow-location-U8W\">Tallinn, Estonia</p><ul class=\"ProfileRow-creativeFields-3kA\"><li class=\"ProfileRow-creativeField-Iu9\"><a class=\"ProfileRow-fieldLink-1cc\" href=\"/search?field=5\">Art Direction</a></li><li class=\"ProfileRow-creativeField-Iu9\"><a class=\"ProfileRow-fieldLink-1cc\" href=\"/search?field=132\">UI/UX</a></li><li class=\"ProfileRow-creativeField-Iu9\"><a class=\"ProfileRow-fieldLink-1cc\" href=\"/search?field=109\">Branding</a></li></ul></div><div class=\"ProfileRow-stats-lSM\"><div class=\"FollowButtonLegacy-legacyButton-1Bl ProfileRow-followButton-xJ-\"><div class=\"user-follow js-action-follow qa-follow-button-container form-button-wrap rf-button__container rf-button__container--follow follow-button-container\" data-display-name=\"Liza Peregudova\" data-entity=\"user\" data-followee=\"117728863\" data-source=\"\" tabindex=\"0\">\n",
       " <a class=\"js-form-button-follow rf-button--small rf-button rf-button--follow\"><span class=\"rf-button__label\">Follow</span></a>\n",
       " <a class=\"qa-form-button-following rf-button--small rf-button rf-button--secondary rf-button--following\"><span class=\"rf-button__label\">Following</span></a>\n",
       " <a class=\"js-form-button-unfollow rf-button--small rf-button rf-button--danger rf-button--unfollow\"><span class=\"rf-button__label\">Unfollow</span></a>\n",
       " </div>\n",
       " </div><div class=\"ProfileRow-statDivider-3AM\"></div><div class=\"ProfileRow-metric-1o4 ProfileRow-appreciations-1es\"><svg class=\"Appreciations-icon-2NG ProfileRow-icon-2jc\" height=\"16\" viewbox=\"0.5 0.5 16 16\" width=\"16\" xmlns=\"http://www.w3.org/2000/svg\"><path d=\"M.5.5h16v16H.5z\" fill=\"none\"></path><path d=\"M.5 7.5h3v8h-3zM7.207 15.207c.193.19.425.29.677.293H12c.256 0 .512-.098.707-.293l2.5-2.5c.19-.19.288-.457.293-.707V8.5c0-.553-.445-1-1-1h-5L11 5s.5-.792.5-1.5v-1c0-.553-.447-1-1-1l-1 2-4 4v6l1.707 1.707z\"></path></svg><span class=\"ProfileRow-metricLabel-THG\" title=\"4,386\">4.4k</span></div><div class=\"ProfileRow-metric-1o4\"><svg class=\"ProfileRow-icon-2jc\" height=\"16\" viewbox=\"0 0 16 16\" width=\"16\" xmlns=\"http://www.w3.org/2000/svg\"><path d=\"M8.5 3.5c-5 0-8 5-8 5s3 5 8 5 8-5 8-5-3-5-8-5zm0 7c-1.105 0-2-.896-2-2 0-1.106.895-2 2-2 1.104 0 2 .894 2 2 0 1.104-.896 2-2 2z\"></path></svg><span class=\"ProfileRow-metricLabel-THG\" title=\"23,430\">23.4k</span></div></div></div>,\n",
       " <div class=\"ProfileRow-userMeta-3DC\"><div class=\"ProfileRow-nameLocationAndFields-2--\"><h3 class=\"ProfileRow-displayName-YQn\"><a class=\"ProfileRow-profileLink-2Iv qa-profile-link\" href=\"https://www.behance.net/kirillavdejev?tracking_source=search_users_recommended\">Kirill Avdejev</a></h3><p class=\"ProfileRow-location-U8W\">Tartu, Estonia</p><ul class=\"ProfileRow-creativeFields-3kA\"><li class=\"ProfileRow-creativeField-Iu9\"><a class=\"ProfileRow-fieldLink-1cc\" href=\"/search?field=102\">Web Design</a></li></ul></div><div class=\"ProfileRow-stats-lSM\"><div class=\"FollowButtonLegacy-legacyButton-1Bl ProfileRow-followButton-xJ-\"><div class=\"user-follow js-action-follow qa-follow-button-container form-button-wrap rf-button__container rf-button__container--follow follow-button-container\" data-display-name=\"Kirill Avdejev\" data-entity=\"user\" data-followee=\"115173617\" data-source=\"\" tabindex=\"0\">\n",
       " <a class=\"js-form-button-follow rf-button--small rf-button rf-button--follow\"><span class=\"rf-button__label\">Follow</span></a>\n",
       " <a class=\"qa-form-button-following rf-button--small rf-button rf-button--secondary rf-button--following\"><span class=\"rf-button__label\">Following</span></a>\n",
       " <a class=\"js-form-button-unfollow rf-button--small rf-button rf-button--danger rf-button--unfollow\"><span class=\"rf-button__label\">Unfollow</span></a>\n",
       " </div>\n",
       " </div><div class=\"ProfileRow-statDivider-3AM\"></div><div class=\"ProfileRow-metric-1o4 ProfileRow-appreciations-1es\"><svg class=\"Appreciations-icon-2NG ProfileRow-icon-2jc\" height=\"16\" viewbox=\"0.5 0.5 16 16\" width=\"16\" xmlns=\"http://www.w3.org/2000/svg\"><path d=\"M.5.5h16v16H.5z\" fill=\"none\"></path><path d=\"M.5 7.5h3v8h-3zM7.207 15.207c.193.19.425.29.677.293H12c.256 0 .512-.098.707-.293l2.5-2.5c.19-.19.288-.457.293-.707V8.5c0-.553-.445-1-1-1h-5L11 5s.5-.792.5-1.5v-1c0-.553-.447-1-1-1l-1 2-4 4v6l1.707 1.707z\"></path></svg><span class=\"ProfileRow-metricLabel-THG\" title=\"1,734\">1.7k</span></div><div class=\"ProfileRow-metric-1o4\"><svg class=\"ProfileRow-icon-2jc\" height=\"16\" viewbox=\"0 0 16 16\" width=\"16\" xmlns=\"http://www.w3.org/2000/svg\"><path d=\"M8.5 3.5c-5 0-8 5-8 5s3 5 8 5 8-5 8-5-3-5-8-5zm0 7c-1.105 0-2-.896-2-2 0-1.106.895-2 2-2 1.104 0 2 .894 2 2 0 1.104-.896 2-2 2z\"></path></svg><span class=\"ProfileRow-metricLabel-THG\" title=\"15,442\">15.4k</span></div></div></div>,\n",
       " <div class=\"ProfileRow-userMeta-3DC\"><div class=\"ProfileRow-nameLocationAndFields-2--\"><h3 class=\"ProfileRow-displayName-YQn\"><a class=\"ProfileRow-profileLink-2Iv qa-profile-link\" href=\"https://www.behance.net/akucollective?tracking_source=search_users_recommended\">△ AKU</a></h3><p class=\"ProfileRow-location-U8W\">Tallinn, Estonia</p><ul class=\"ProfileRow-creativeFields-3kA\"><li class=\"ProfileRow-creativeField-Iu9\"><a class=\"ProfileRow-fieldLink-1cc\" href=\"/search?field=44\">Graphic Design</a></li><li class=\"ProfileRow-creativeField-Iu9\"><a class=\"ProfileRow-fieldLink-1cc\" href=\"/search?field=109\">Branding</a></li><li class=\"ProfileRow-creativeField-Iu9\"><a class=\"ProfileRow-fieldLink-1cc\" href=\"/search?field=78\">Print Design</a></li></ul></div><div class=\"ProfileRow-stats-lSM\"><div class=\"FollowButtonLegacy-legacyButton-1Bl ProfileRow-followButton-xJ-\"><div class=\"user-follow js-action-follow qa-follow-button-container form-button-wrap rf-button__container rf-button__container--follow follow-button-container\" data-display-name=\"△ AKU\" data-entity=\"user\" data-followee=\"1016549\" data-source=\"\" tabindex=\"0\">\n",
       " <a class=\"js-form-button-follow rf-button--small rf-button rf-button--follow\"><span class=\"rf-button__label\">Follow</span></a>\n",
       " <a class=\"qa-form-button-following rf-button--small rf-button rf-button--secondary rf-button--following\"><span class=\"rf-button__label\">Following</span></a>\n",
       " <a class=\"js-form-button-unfollow rf-button--small rf-button rf-button--danger rf-button--unfollow\"><span class=\"rf-button__label\">Unfollow</span></a>\n",
       " </div>\n",
       " </div><div class=\"ProfileRow-statDivider-3AM\"></div><div class=\"ProfileRow-metric-1o4 ProfileRow-appreciations-1es\"><svg class=\"Appreciations-icon-2NG ProfileRow-icon-2jc\" height=\"16\" viewbox=\"0.5 0.5 16 16\" width=\"16\" xmlns=\"http://www.w3.org/2000/svg\"><path d=\"M.5.5h16v16H.5z\" fill=\"none\"></path><path d=\"M.5 7.5h3v8h-3zM7.207 15.207c.193.19.425.29.677.293H12c.256 0 .512-.098.707-.293l2.5-2.5c.19-.19.288-.457.293-.707V8.5c0-.553-.445-1-1-1h-5L11 5s.5-.792.5-1.5v-1c0-.553-.447-1-1-1l-1 2-4 4v6l1.707 1.707z\"></path></svg><span class=\"ProfileRow-metricLabel-THG\" title=\"46,302\">46.3k</span></div><div class=\"ProfileRow-metric-1o4\"><svg class=\"ProfileRow-icon-2jc\" height=\"16\" viewbox=\"0 0 16 16\" width=\"16\" xmlns=\"http://www.w3.org/2000/svg\"><path d=\"M8.5 3.5c-5 0-8 5-8 5s3 5 8 5 8-5 8-5-3-5-8-5zm0 7c-1.105 0-2-.896-2-2 0-1.106.895-2 2-2 1.104 0 2 .894 2 2 0 1.104-.896 2-2 2z\"></path></svg><span class=\"ProfileRow-metricLabel-THG\" title=\"669,290\">669.3k</span></div></div></div>,\n",
       " <div class=\"ProfileRow-userMeta-3DC\"><div class=\"ProfileRow-nameLocationAndFields-2--\"><h3 class=\"ProfileRow-displayName-YQn\"><a class=\"ProfileRow-profileLink-2Iv qa-profile-link\" href=\"https://www.behance.net/AndresSaarnak?tracking_source=search_users_recommended\">Andres Saarnak</a></h3><p class=\"ProfileRow-location-U8W\">Tallinn, Estonia</p><ul class=\"ProfileRow-creativeFields-3kA\"><li class=\"ProfileRow-creativeField-Iu9\"><a class=\"ProfileRow-fieldLink-1cc\" href=\"/search?field=122\">Digital Art</a></li><li class=\"ProfileRow-creativeField-Iu9\"><a class=\"ProfileRow-fieldLink-1cc\" href=\"/search?field=4\">Architecture</a></li><li class=\"ProfileRow-creativeField-Iu9\"><a class=\"ProfileRow-fieldLink-1cc\" href=\"/search?field=48\">Illustration</a></li></ul></div><div class=\"ProfileRow-stats-lSM\"><div class=\"FollowButtonLegacy-legacyButton-1Bl ProfileRow-followButton-xJ-\"><div class=\"user-follow js-action-follow qa-follow-button-container form-button-wrap rf-button__container rf-button__container--follow follow-button-container\" data-display-name=\"Andres Saarnak\" data-entity=\"user\" data-followee=\"7247533\" data-source=\"\" tabindex=\"0\">\n",
       " <a class=\"js-form-button-follow rf-button--small rf-button rf-button--follow\"><span class=\"rf-button__label\">Follow</span></a>\n",
       " <a class=\"qa-form-button-following rf-button--small rf-button rf-button--secondary rf-button--following\"><span class=\"rf-button__label\">Following</span></a>\n",
       " <a class=\"js-form-button-unfollow rf-button--small rf-button rf-button--danger rf-button--unfollow\"><span class=\"rf-button__label\">Unfollow</span></a>\n",
       " </div>\n",
       " </div><div class=\"ProfileRow-statDivider-3AM\"></div><div class=\"ProfileRow-metric-1o4 ProfileRow-appreciations-1es\"><svg class=\"Appreciations-icon-2NG ProfileRow-icon-2jc\" height=\"16\" viewbox=\"0.5 0.5 16 16\" width=\"16\" xmlns=\"http://www.w3.org/2000/svg\"><path d=\"M.5.5h16v16H.5z\" fill=\"none\"></path><path d=\"M.5 7.5h3v8h-3zM7.207 15.207c.193.19.425.29.677.293H12c.256 0 .512-.098.707-.293l2.5-2.5c.19-.19.288-.457.293-.707V8.5c0-.553-.445-1-1-1h-5L11 5s.5-.792.5-1.5v-1c0-.553-.447-1-1-1l-1 2-4 4v6l1.707 1.707z\"></path></svg><span class=\"ProfileRow-metricLabel-THG\" title=\"4,128\">4.1k</span></div><div class=\"ProfileRow-metric-1o4\"><svg class=\"ProfileRow-icon-2jc\" height=\"16\" viewbox=\"0 0 16 16\" width=\"16\" xmlns=\"http://www.w3.org/2000/svg\"><path d=\"M8.5 3.5c-5 0-8 5-8 5s3 5 8 5 8-5 8-5-3-5-8-5zm0 7c-1.105 0-2-.896-2-2 0-1.106.895-2 2-2 1.104 0 2 .894 2 2 0 1.104-.896 2-2 2z\"></path></svg><span class=\"ProfileRow-metricLabel-THG\" title=\"28,582\">28.6k</span></div></div></div>,\n",
       " <div class=\"ProfileRow-userMeta-3DC\"><div class=\"ProfileRow-nameLocationAndFields-2--\"><h3 class=\"ProfileRow-displayName-YQn\"><a class=\"ProfileRow-profileLink-2Iv qa-profile-link\" href=\"https://www.behance.net/LewisMcGuffie?tracking_source=search_users_recommended\">Lewis McGuffie</a></h3><p class=\"ProfileRow-location-U8W\">Kopli, Estonia</p><ul class=\"ProfileRow-creativeFields-3kA\"><li class=\"ProfileRow-creativeField-Iu9\"><a class=\"ProfileRow-fieldLink-1cc\" href=\"/search?field=97\">Typography</a></li><li class=\"ProfileRow-creativeField-Iu9\"><a class=\"ProfileRow-fieldLink-1cc\" href=\"/search?field=44\">Graphic Design</a></li><li class=\"ProfileRow-creativeField-Iu9\"><a class=\"ProfileRow-fieldLink-1cc\" href=\"/search?field=109\">Branding</a></li></ul></div><div class=\"ProfileRow-stats-lSM\"><div class=\"FollowButtonLegacy-legacyButton-1Bl ProfileRow-followButton-xJ-\"><div class=\"user-follow js-action-follow qa-follow-button-container form-button-wrap rf-button__container rf-button__container--follow follow-button-container\" data-display-name=\"Lewis McGuffie\" data-entity=\"user\" data-followee=\"4551497\" data-source=\"\" tabindex=\"0\">\n",
       " <a class=\"js-form-button-follow rf-button--small rf-button rf-button--follow\"><span class=\"rf-button__label\">Follow</span></a>\n",
       " <a class=\"qa-form-button-following rf-button--small rf-button rf-button--secondary rf-button--following\"><span class=\"rf-button__label\">Following</span></a>\n",
       " <a class=\"js-form-button-unfollow rf-button--small rf-button rf-button--danger rf-button--unfollow\"><span class=\"rf-button__label\">Unfollow</span></a>\n",
       " </div>\n",
       " </div><div class=\"ProfileRow-statDivider-3AM\"></div><div class=\"ProfileRow-metric-1o4 ProfileRow-appreciations-1es\"><svg class=\"Appreciations-icon-2NG ProfileRow-icon-2jc\" height=\"16\" viewbox=\"0.5 0.5 16 16\" width=\"16\" xmlns=\"http://www.w3.org/2000/svg\"><path d=\"M.5.5h16v16H.5z\" fill=\"none\"></path><path d=\"M.5 7.5h3v8h-3zM7.207 15.207c.193.19.425.29.677.293H12c.256 0 .512-.098.707-.293l2.5-2.5c.19-.19.288-.457.293-.707V8.5c0-.553-.445-1-1-1h-5L11 5s.5-.792.5-1.5v-1c0-.553-.447-1-1-1l-1 2-4 4v6l1.707 1.707z\"></path></svg><span class=\"ProfileRow-metricLabel-THG\" title=\"12,490\">12.5k</span></div><div class=\"ProfileRow-metric-1o4\"><svg class=\"ProfileRow-icon-2jc\" height=\"16\" viewbox=\"0 0 16 16\" width=\"16\" xmlns=\"http://www.w3.org/2000/svg\"><path d=\"M8.5 3.5c-5 0-8 5-8 5s3 5 8 5 8-5 8-5-3-5-8-5zm0 7c-1.105 0-2-.896-2-2 0-1.106.895-2 2-2 1.104 0 2 .894 2 2 0 1.104-.896 2-2 2z\"></path></svg><span class=\"ProfileRow-metricLabel-THG\" title=\"112,309\">112.3k</span></div></div></div>,\n",
       " <div class=\"ProfileRow-userMeta-3DC\"><div class=\"ProfileRow-nameLocationAndFields-2--\"><h3 class=\"ProfileRow-displayName-YQn\"><a class=\"ProfileRow-profileLink-2Iv qa-profile-link\" href=\"https://www.behance.net/tinabits?tracking_source=search_users_recommended\">Tina Bits</a></h3><p class=\"ProfileRow-location-U8W\">Tallinn, Estonia</p><ul class=\"ProfileRow-creativeFields-3kA\"><li class=\"ProfileRow-creativeField-Iu9\"><a class=\"ProfileRow-fieldLink-1cc\" href=\"/search?field=48\">Illustration</a></li><li class=\"ProfileRow-creativeField-Iu9\"><a class=\"ProfileRow-fieldLink-1cc\" href=\"/search?field=67\">Painting</a></li><li class=\"ProfileRow-creativeField-Iu9\"><a class=\"ProfileRow-fieldLink-1cc\" href=\"/search?field=110\">Drawing</a></li></ul></div><div class=\"ProfileRow-stats-lSM\"><div class=\"FollowButtonLegacy-legacyButton-1Bl ProfileRow-followButton-xJ-\"><div class=\"user-follow js-action-follow qa-follow-button-container form-button-wrap rf-button__container rf-button__container--follow follow-button-container\" data-display-name=\"Tina Bits\" data-entity=\"user\" data-followee=\"18363997\" data-source=\"\" tabindex=\"0\">\n",
       " <a class=\"js-form-button-follow rf-button--small rf-button rf-button--follow\"><span class=\"rf-button__label\">Follow</span></a>\n",
       " <a class=\"qa-form-button-following rf-button--small rf-button rf-button--secondary rf-button--following\"><span class=\"rf-button__label\">Following</span></a>\n",
       " <a class=\"js-form-button-unfollow rf-button--small rf-button rf-button--danger rf-button--unfollow\"><span class=\"rf-button__label\">Unfollow</span></a>\n",
       " </div>\n",
       " </div><div class=\"ProfileRow-statDivider-3AM\"></div><div class=\"ProfileRow-metric-1o4 ProfileRow-appreciations-1es\"><svg class=\"Appreciations-icon-2NG ProfileRow-icon-2jc\" height=\"16\" viewbox=\"0.5 0.5 16 16\" width=\"16\" xmlns=\"http://www.w3.org/2000/svg\"><path d=\"M.5.5h16v16H.5z\" fill=\"none\"></path><path d=\"M.5 7.5h3v8h-3zM7.207 15.207c.193.19.425.29.677.293H12c.256 0 .512-.098.707-.293l2.5-2.5c.19-.19.288-.457.293-.707V8.5c0-.553-.445-1-1-1h-5L11 5s.5-.792.5-1.5v-1c0-.553-.447-1-1-1l-1 2-4 4v6l1.707 1.707z\"></path></svg><span class=\"ProfileRow-metricLabel-THG\" title=\"883\">883</span></div><div class=\"ProfileRow-metric-1o4\"><svg class=\"ProfileRow-icon-2jc\" height=\"16\" viewbox=\"0 0 16 16\" width=\"16\" xmlns=\"http://www.w3.org/2000/svg\"><path d=\"M8.5 3.5c-5 0-8 5-8 5s3 5 8 5 8-5 8-5-3-5-8-5zm0 7c-1.105 0-2-.896-2-2 0-1.106.895-2 2-2 1.104 0 2 .894 2 2 0 1.104-.896 2-2 2z\"></path></svg><span class=\"ProfileRow-metricLabel-THG\" title=\"7,745\">7.7k</span></div></div></div>,\n",
       " <div class=\"ProfileRow-userMeta-3DC\"><div class=\"ProfileRow-nameLocationAndFields-2--\"><h3 class=\"ProfileRow-displayName-YQn\"><a class=\"ProfileRow-profileLink-2Iv qa-profile-link\" href=\"https://www.behance.net/Kostroman?tracking_source=search_users_recommended\">Dennis Kostroman</a></h3><p class=\"ProfileRow-location-U8W\">Tallinn, Estonia</p><ul class=\"ProfileRow-creativeFields-3kA\"><li class=\"ProfileRow-creativeField-Iu9\"><a class=\"ProfileRow-fieldLink-1cc\" href=\"/search?field=44\">Graphic Design</a></li><li class=\"ProfileRow-creativeField-Iu9\"><a class=\"ProfileRow-fieldLink-1cc\" href=\"/search?field=5\">Art Direction</a></li><li class=\"ProfileRow-creativeField-Iu9\"><a class=\"ProfileRow-fieldLink-1cc\" href=\"/search?field=132\">UI/UX</a></li></ul></div><div class=\"ProfileRow-stats-lSM\"><div class=\"FollowButtonLegacy-legacyButton-1Bl ProfileRow-followButton-xJ-\"><div class=\"user-follow js-action-follow qa-follow-button-container form-button-wrap rf-button__container rf-button__container--follow follow-button-container\" data-display-name=\"Dennis Kostroman\" data-entity=\"user\" data-followee=\"1500563\" data-source=\"\" tabindex=\"0\">\n",
       " <a class=\"js-form-button-follow rf-button--small rf-button rf-button--follow\"><span class=\"rf-button__label\">Follow</span></a>\n",
       " <a class=\"qa-form-button-following rf-button--small rf-button rf-button--secondary rf-button--following\"><span class=\"rf-button__label\">Following</span></a>\n",
       " <a class=\"js-form-button-unfollow rf-button--small rf-button rf-button--danger rf-button--unfollow\"><span class=\"rf-button__label\">Unfollow</span></a>\n",
       " </div>\n",
       " </div><div class=\"ProfileRow-statDivider-3AM\"></div><div class=\"ProfileRow-metric-1o4 ProfileRow-appreciations-1es\"><svg class=\"Appreciations-icon-2NG ProfileRow-icon-2jc\" height=\"16\" viewbox=\"0.5 0.5 16 16\" width=\"16\" xmlns=\"http://www.w3.org/2000/svg\"><path d=\"M.5.5h16v16H.5z\" fill=\"none\"></path><path d=\"M.5 7.5h3v8h-3zM7.207 15.207c.193.19.425.29.677.293H12c.256 0 .512-.098.707-.293l2.5-2.5c.19-.19.288-.457.293-.707V8.5c0-.553-.445-1-1-1h-5L11 5s.5-.792.5-1.5v-1c0-.553-.447-1-1-1l-1 2-4 4v6l1.707 1.707z\"></path></svg><span class=\"ProfileRow-metricLabel-THG\" title=\"103\">103</span></div><div class=\"ProfileRow-metric-1o4\"><svg class=\"ProfileRow-icon-2jc\" height=\"16\" viewbox=\"0 0 16 16\" width=\"16\" xmlns=\"http://www.w3.org/2000/svg\"><path d=\"M8.5 3.5c-5 0-8 5-8 5s3 5 8 5 8-5 8-5-3-5-8-5zm0 7c-1.105 0-2-.896-2-2 0-1.106.895-2 2-2 1.104 0 2 .894 2 2 0 1.104-.896 2-2 2z\"></path></svg><span class=\"ProfileRow-metricLabel-THG\" title=\"3,075\">3.1k</span></div></div></div>,\n",
       " <div class=\"ProfileRow-userMeta-3DC\"><div class=\"ProfileRow-nameLocationAndFields-2--\"><h3 class=\"ProfileRow-displayName-YQn\"><a class=\"ProfileRow-profileLink-2Iv qa-profile-link\" href=\"https://www.behance.net/janil_air?tracking_source=search_users_recommended\">Margaret Kulikova</a></h3><p class=\"ProfileRow-location-U8W\">Tallinn, Estonia</p><ul class=\"ProfileRow-creativeFields-3kA\"><li class=\"ProfileRow-creativeField-Iu9\"><a class=\"ProfileRow-fieldLink-1cc\" href=\"/search?field=44\">Graphic Design</a></li><li class=\"ProfileRow-creativeField-Iu9\"><a class=\"ProfileRow-fieldLink-1cc\" href=\"/search?field=102\">Web Design</a></li><li class=\"ProfileRow-creativeField-Iu9\"><a class=\"ProfileRow-fieldLink-1cc\" href=\"/search?field=132\">UI/UX</a></li></ul></div><div class=\"ProfileRow-stats-lSM\"><div class=\"FollowButtonLegacy-legacyButton-1Bl ProfileRow-followButton-xJ-\"><div class=\"user-follow js-action-follow qa-follow-button-container form-button-wrap rf-button__container rf-button__container--follow follow-button-container\" data-display-name=\"Margaret Kulikova\" data-entity=\"user\" data-followee=\"73364349\" data-source=\"\" tabindex=\"0\">\n",
       " <a class=\"js-form-button-follow rf-button--small rf-button rf-button--follow\"><span class=\"rf-button__label\">Follow</span></a>\n",
       " <a class=\"qa-form-button-following rf-button--small rf-button rf-button--secondary rf-button--following\"><span class=\"rf-button__label\">Following</span></a>\n",
       " <a class=\"js-form-button-unfollow rf-button--small rf-button rf-button--danger rf-button--unfollow\"><span class=\"rf-button__label\">Unfollow</span></a>\n",
       " </div>\n",
       " </div><div class=\"ProfileRow-statDivider-3AM\"></div><div class=\"ProfileRow-metric-1o4 ProfileRow-appreciations-1es\"><svg class=\"Appreciations-icon-2NG ProfileRow-icon-2jc\" height=\"16\" viewbox=\"0.5 0.5 16 16\" width=\"16\" xmlns=\"http://www.w3.org/2000/svg\"><path d=\"M.5.5h16v16H.5z\" fill=\"none\"></path><path d=\"M.5 7.5h3v8h-3zM7.207 15.207c.193.19.425.29.677.293H12c.256 0 .512-.098.707-.293l2.5-2.5c.19-.19.288-.457.293-.707V8.5c0-.553-.445-1-1-1h-5L11 5s.5-.792.5-1.5v-1c0-.553-.447-1-1-1l-1 2-4 4v6l1.707 1.707z\"></path></svg><span class=\"ProfileRow-metricLabel-THG\" title=\"49\">49</span></div><div class=\"ProfileRow-metric-1o4\"><svg class=\"ProfileRow-icon-2jc\" height=\"16\" viewbox=\"0 0 16 16\" width=\"16\" xmlns=\"http://www.w3.org/2000/svg\"><path d=\"M8.5 3.5c-5 0-8 5-8 5s3 5 8 5 8-5 8-5-3-5-8-5zm0 7c-1.105 0-2-.896-2-2 0-1.106.895-2 2-2 1.104 0 2 .894 2 2 0 1.104-.896 2-2 2z\"></path></svg><span class=\"ProfileRow-metricLabel-THG\" title=\"421\">421</span></div></div></div>,\n",
       " <div class=\"ProfileRow-userMeta-3DC\"><div class=\"ProfileRow-nameLocationAndFields-2--\"><h3 class=\"ProfileRow-displayName-YQn\"><a class=\"ProfileRow-profileLink-2Iv qa-profile-link\" href=\"https://www.behance.net/gokceyigit?tracking_source=search_users_recommended\">Gökçe Yiğit</a></h3><p class=\"ProfileRow-location-U8W\">Tallinn, Estonia</p><ul class=\"ProfileRow-creativeFields-3kA\"><li class=\"ProfileRow-creativeField-Iu9\"><a class=\"ProfileRow-fieldLink-1cc\" href=\"/search?field=44\">Graphic Design</a></li><li class=\"ProfileRow-creativeField-Iu9\"><a class=\"ProfileRow-fieldLink-1cc\" href=\"/search?field=109\">Branding</a></li><li class=\"ProfileRow-creativeField-Iu9\"><a class=\"ProfileRow-fieldLink-1cc\" href=\"/search?field=48\">Illustration</a></li></ul></div><div class=\"ProfileRow-stats-lSM\"><div class=\"FollowButtonLegacy-legacyButton-1Bl ProfileRow-followButton-xJ-\"><div class=\"user-follow js-action-follow qa-follow-button-container form-button-wrap rf-button__container rf-button__container--follow follow-button-container\" data-display-name=\"Gökçe Yiğit\" data-entity=\"user\" data-followee=\"10550429\" data-source=\"\" tabindex=\"0\">\n",
       " <a class=\"js-form-button-follow rf-button--small rf-button rf-button--follow\"><span class=\"rf-button__label\">Follow</span></a>\n",
       " <a class=\"qa-form-button-following rf-button--small rf-button rf-button--secondary rf-button--following\"><span class=\"rf-button__label\">Following</span></a>\n",
       " <a class=\"js-form-button-unfollow rf-button--small rf-button rf-button--danger rf-button--unfollow\"><span class=\"rf-button__label\">Unfollow</span></a>\n",
       " </div>\n",
       " </div><div class=\"ProfileRow-statDivider-3AM\"></div><div class=\"ProfileRow-metric-1o4 ProfileRow-appreciations-1es\"><svg class=\"Appreciations-icon-2NG ProfileRow-icon-2jc\" height=\"16\" viewbox=\"0.5 0.5 16 16\" width=\"16\" xmlns=\"http://www.w3.org/2000/svg\"><path d=\"M.5.5h16v16H.5z\" fill=\"none\"></path><path d=\"M.5 7.5h3v8h-3zM7.207 15.207c.193.19.425.29.677.293H12c.256 0 .512-.098.707-.293l2.5-2.5c.19-.19.288-.457.293-.707V8.5c0-.553-.445-1-1-1h-5L11 5s.5-.792.5-1.5v-1c0-.553-.447-1-1-1l-1 2-4 4v6l1.707 1.707z\"></path></svg><span class=\"ProfileRow-metricLabel-THG\" title=\"1,619\">1.6k</span></div><div class=\"ProfileRow-metric-1o4\"><svg class=\"ProfileRow-icon-2jc\" height=\"16\" viewbox=\"0 0 16 16\" width=\"16\" xmlns=\"http://www.w3.org/2000/svg\"><path d=\"M8.5 3.5c-5 0-8 5-8 5s3 5 8 5 8-5 8-5-3-5-8-5zm0 7c-1.105 0-2-.896-2-2 0-1.106.895-2 2-2 1.104 0 2 .894 2 2 0 1.104-.896 2-2 2z\"></path></svg><span class=\"ProfileRow-metricLabel-THG\" title=\"23,280\">23.3k</span></div></div></div>,\n",
       " <div class=\"ProfileRow-userMeta-3DC\"><div class=\"ProfileRow-nameLocationAndFields-2--\"><h3 class=\"ProfileRow-displayName-YQn\"><a class=\"ProfileRow-profileLink-2Iv qa-profile-link\" href=\"https://www.behance.net/pridanchukef3e?tracking_source=search_users_recommended\">Hanna Prydanchuk</a></h3><p class=\"ProfileRow-location-U8W\">Tallinn, Estonia</p><ul class=\"ProfileRow-creativeFields-3kA\"><li class=\"ProfileRow-creativeField-Iu9\"><a class=\"ProfileRow-fieldLink-1cc\" href=\"/search?field=102\">Web Design</a></li><li class=\"ProfileRow-creativeField-Iu9\"><a class=\"ProfileRow-fieldLink-1cc\" href=\"/search?field=44\">Graphic Design</a></li><li class=\"ProfileRow-creativeField-Iu9\"><a class=\"ProfileRow-fieldLink-1cc\" href=\"/search?field=132\">UI/UX</a></li></ul></div><div class=\"ProfileRow-stats-lSM\"><div class=\"FollowButtonLegacy-legacyButton-1Bl ProfileRow-followButton-xJ-\"><div class=\"user-follow js-action-follow qa-follow-button-container form-button-wrap rf-button__container rf-button__container--follow follow-button-container\" data-display-name=\"Hanna Prydanchuk\" data-entity=\"user\" data-followee=\"41824711\" data-source=\"\" tabindex=\"0\">\n",
       " <a class=\"js-form-button-follow rf-button--small rf-button rf-button--follow\"><span class=\"rf-button__label\">Follow</span></a>\n",
       " <a class=\"qa-form-button-following rf-button--small rf-button rf-button--secondary rf-button--following\"><span class=\"rf-button__label\">Following</span></a>\n",
       " <a class=\"js-form-button-unfollow rf-button--small rf-button rf-button--danger rf-button--unfollow\"><span class=\"rf-button__label\">Unfollow</span></a>\n",
       " </div>\n",
       " </div><div class=\"ProfileRow-statDivider-3AM\"></div><div class=\"ProfileRow-metric-1o4 ProfileRow-appreciations-1es\"><svg class=\"Appreciations-icon-2NG ProfileRow-icon-2jc\" height=\"16\" viewbox=\"0.5 0.5 16 16\" width=\"16\" xmlns=\"http://www.w3.org/2000/svg\"><path d=\"M.5.5h16v16H.5z\" fill=\"none\"></path><path d=\"M.5 7.5h3v8h-3zM7.207 15.207c.193.19.425.29.677.293H12c.256 0 .512-.098.707-.293l2.5-2.5c.19-.19.288-.457.293-.707V8.5c0-.553-.445-1-1-1h-5L11 5s.5-.792.5-1.5v-1c0-.553-.447-1-1-1l-1 2-4 4v6l1.707 1.707z\"></path></svg><span class=\"ProfileRow-metricLabel-THG\" title=\"6,567\">6.6k</span></div><div class=\"ProfileRow-metric-1o4\"><svg class=\"ProfileRow-icon-2jc\" height=\"16\" viewbox=\"0 0 16 16\" width=\"16\" xmlns=\"http://www.w3.org/2000/svg\"><path d=\"M8.5 3.5c-5 0-8 5-8 5s3 5 8 5 8-5 8-5-3-5-8-5zm0 7c-1.105 0-2-.896-2-2 0-1.106.895-2 2-2 1.104 0 2 .894 2 2 0 1.104-.896 2-2 2z\"></path></svg><span class=\"ProfileRow-metricLabel-THG\" title=\"62,181\">62.2k</span></div></div></div>,\n",
       " <div class=\"ProfileRow-userMeta-3DC\"><div class=\"ProfileRow-nameLocationAndFields-2--\"><h3 class=\"ProfileRow-displayName-YQn\"><a class=\"ProfileRow-profileLink-2Iv qa-profile-link\" href=\"https://www.behance.net/martinrae?tracking_source=search_users_recommended\">Martin Rae</a></h3><p class=\"ProfileRow-location-U8W\">Tallinn, Estonia</p><ul class=\"ProfileRow-creativeFields-3kA\"><li class=\"ProfileRow-creativeField-Iu9\"><a class=\"ProfileRow-fieldLink-1cc\" href=\"/search?field=66\">Packaging</a></li><li class=\"ProfileRow-creativeField-Iu9\"><a class=\"ProfileRow-fieldLink-1cc\" href=\"/search?field=5\">Art Direction</a></li><li class=\"ProfileRow-creativeField-Iu9\"><a class=\"ProfileRow-fieldLink-1cc\" href=\"/search?field=44\">Graphic Design</a></li></ul></div><div class=\"ProfileRow-stats-lSM\"><div class=\"FollowButtonLegacy-legacyButton-1Bl ProfileRow-followButton-xJ-\"><div class=\"user-follow js-action-follow qa-follow-button-container form-button-wrap rf-button__container rf-button__container--follow follow-button-container\" data-display-name=\"Martin Rae\" data-entity=\"user\" data-followee=\"104962\" data-source=\"\" tabindex=\"0\">\n",
       " <a class=\"js-form-button-follow rf-button--small rf-button rf-button--follow\"><span class=\"rf-button__label\">Follow</span></a>\n",
       " <a class=\"qa-form-button-following rf-button--small rf-button rf-button--secondary rf-button--following\"><span class=\"rf-button__label\">Following</span></a>\n",
       " <a class=\"js-form-button-unfollow rf-button--small rf-button rf-button--danger rf-button--unfollow\"><span class=\"rf-button__label\">Unfollow</span></a>\n",
       " </div>\n",
       " </div><div class=\"ProfileRow-statDivider-3AM\"></div><div class=\"ProfileRow-metric-1o4 ProfileRow-appreciations-1es\"><svg class=\"Appreciations-icon-2NG ProfileRow-icon-2jc\" height=\"16\" viewbox=\"0.5 0.5 16 16\" width=\"16\" xmlns=\"http://www.w3.org/2000/svg\"><path d=\"M.5.5h16v16H.5z\" fill=\"none\"></path><path d=\"M.5 7.5h3v8h-3zM7.207 15.207c.193.19.425.29.677.293H12c.256 0 .512-.098.707-.293l2.5-2.5c.19-.19.288-.457.293-.707V8.5c0-.553-.445-1-1-1h-5L11 5s.5-.792.5-1.5v-1c0-.553-.447-1-1-1l-1 2-4 4v6l1.707 1.707z\"></path></svg><span class=\"ProfileRow-metricLabel-THG\" title=\"3,585\">3.6k</span></div><div class=\"ProfileRow-metric-1o4\"><svg class=\"ProfileRow-icon-2jc\" height=\"16\" viewbox=\"0 0 16 16\" width=\"16\" xmlns=\"http://www.w3.org/2000/svg\"><path d=\"M8.5 3.5c-5 0-8 5-8 5s3 5 8 5 8-5 8-5-3-5-8-5zm0 7c-1.105 0-2-.896-2-2 0-1.106.895-2 2-2 1.104 0 2 .894 2 2 0 1.104-.896 2-2 2z\"></path></svg><span class=\"ProfileRow-metricLabel-THG\" title=\"33,327\">33.3k</span></div></div></div>,\n",
       " <div class=\"ProfileRow-userMeta-3DC\"><div class=\"ProfileRow-nameLocationAndFields-2--\"><h3 class=\"ProfileRow-displayName-YQn\"><a class=\"ProfileRow-profileLink-2Iv qa-profile-link\" href=\"https://www.behance.net/dianaart19b5e6?tracking_source=search_users_recommended\">Диана Солнечная</a></h3><p class=\"ProfileRow-location-U8W\">Tallinn, Estonia</p><ul class=\"ProfileRow-creativeFields-3kA\"><li class=\"ProfileRow-creativeField-Iu9\"><a class=\"ProfileRow-fieldLink-1cc\" href=\"/search?field=102\">Web Design</a></li><li class=\"ProfileRow-creativeField-Iu9\"><a class=\"ProfileRow-fieldLink-1cc\" href=\"/search?field=132\">UI/UX</a></li><li class=\"ProfileRow-creativeField-Iu9\"><a class=\"ProfileRow-fieldLink-1cc\" href=\"/search?field=109\">Branding</a></li></ul></div><div class=\"ProfileRow-stats-lSM\"><div class=\"FollowButtonLegacy-legacyButton-1Bl ProfileRow-followButton-xJ-\"><div class=\"user-follow js-action-follow qa-follow-button-container form-button-wrap rf-button__container rf-button__container--follow follow-button-container\" data-display-name=\"Диана Солнечная\" data-entity=\"user\" data-followee=\"108154477\" data-source=\"\" tabindex=\"0\">\n",
       " <a class=\"js-form-button-follow rf-button--small rf-button rf-button--follow\"><span class=\"rf-button__label\">Follow</span></a>\n",
       " <a class=\"qa-form-button-following rf-button--small rf-button rf-button--secondary rf-button--following\"><span class=\"rf-button__label\">Following</span></a>\n",
       " <a class=\"js-form-button-unfollow rf-button--small rf-button rf-button--danger rf-button--unfollow\"><span class=\"rf-button__label\">Unfollow</span></a>\n",
       " </div>\n",
       " </div><div class=\"ProfileRow-statDivider-3AM\"></div><div class=\"ProfileRow-metric-1o4 ProfileRow-appreciations-1es\"><svg class=\"Appreciations-icon-2NG ProfileRow-icon-2jc\" height=\"16\" viewbox=\"0.5 0.5 16 16\" width=\"16\" xmlns=\"http://www.w3.org/2000/svg\"><path d=\"M.5.5h16v16H.5z\" fill=\"none\"></path><path d=\"M.5 7.5h3v8h-3zM7.207 15.207c.193.19.425.29.677.293H12c.256 0 .512-.098.707-.293l2.5-2.5c.19-.19.288-.457.293-.707V8.5c0-.553-.445-1-1-1h-5L11 5s.5-.792.5-1.5v-1c0-.553-.447-1-1-1l-1 2-4 4v6l1.707 1.707z\"></path></svg><span class=\"ProfileRow-metricLabel-THG\" title=\"249\">249</span></div><div class=\"ProfileRow-metric-1o4\"><svg class=\"ProfileRow-icon-2jc\" height=\"16\" viewbox=\"0 0 16 16\" width=\"16\" xmlns=\"http://www.w3.org/2000/svg\"><path d=\"M8.5 3.5c-5 0-8 5-8 5s3 5 8 5 8-5 8-5-3-5-8-5zm0 7c-1.105 0-2-.896-2-2 0-1.106.895-2 2-2 1.104 0 2 .894 2 2 0 1.104-.896 2-2 2z\"></path></svg><span class=\"ProfileRow-metricLabel-THG\" title=\"1,488\">1.5k</span></div></div></div>,\n",
       " <div class=\"ProfileRow-userMeta-3DC\"><div class=\"ProfileRow-nameLocationAndFields-2--\"><h3 class=\"ProfileRow-displayName-YQn\"><a class=\"ProfileRow-profileLink-2Iv qa-profile-link\" href=\"https://www.behance.net/nilskajander?tracking_source=search_users_recommended\">Nils Kajander</a></h3><p class=\"ProfileRow-location-U8W\">Tallinn, Estonia</p><ul class=\"ProfileRow-creativeFields-3kA\"><li class=\"ProfileRow-creativeField-Iu9\"><a class=\"ProfileRow-fieldLink-1cc\" href=\"/search?field=63\">Motion Graphics</a></li><li class=\"ProfileRow-creativeField-Iu9\"><a class=\"ProfileRow-fieldLink-1cc\" href=\"/search?field=109\">Branding</a></li><li class=\"ProfileRow-creativeField-Iu9\"><a class=\"ProfileRow-fieldLink-1cc\" href=\"/search?field=5\">Art Direction</a></li></ul></div><div class=\"ProfileRow-stats-lSM\"><div class=\"FollowButtonLegacy-legacyButton-1Bl ProfileRow-followButton-xJ-\"><div class=\"user-follow js-action-follow qa-follow-button-container form-button-wrap rf-button__container rf-button__container--follow follow-button-container\" data-display-name=\"Nils Kajander\" data-entity=\"user\" data-followee=\"254782315\" data-source=\"\" tabindex=\"0\">\n",
       " <a class=\"js-form-button-follow rf-button--small rf-button rf-button--follow\"><span class=\"rf-button__label\">Follow</span></a>\n",
       " <a class=\"qa-form-button-following rf-button--small rf-button rf-button--secondary rf-button--following\"><span class=\"rf-button__label\">Following</span></a>\n",
       " <a class=\"js-form-button-unfollow rf-button--small rf-button rf-button--danger rf-button--unfollow\"><span class=\"rf-button__label\">Unfollow</span></a>\n",
       " </div>\n",
       " </div><div class=\"ProfileRow-statDivider-3AM\"></div><div class=\"ProfileRow-metric-1o4 ProfileRow-appreciations-1es\"><svg class=\"Appreciations-icon-2NG ProfileRow-icon-2jc\" height=\"16\" viewbox=\"0.5 0.5 16 16\" width=\"16\" xmlns=\"http://www.w3.org/2000/svg\"><path d=\"M.5.5h16v16H.5z\" fill=\"none\"></path><path d=\"M.5 7.5h3v8h-3zM7.207 15.207c.193.19.425.29.677.293H12c.256 0 .512-.098.707-.293l2.5-2.5c.19-.19.288-.457.293-.707V8.5c0-.553-.445-1-1-1h-5L11 5s.5-.792.5-1.5v-1c0-.553-.447-1-1-1l-1 2-4 4v6l1.707 1.707z\"></path></svg><span class=\"ProfileRow-metricLabel-THG\" title=\"3,283\">3.3k</span></div><div class=\"ProfileRow-metric-1o4\"><svg class=\"ProfileRow-icon-2jc\" height=\"16\" viewbox=\"0 0 16 16\" width=\"16\" xmlns=\"http://www.w3.org/2000/svg\"><path d=\"M8.5 3.5c-5 0-8 5-8 5s3 5 8 5 8-5 8-5-3-5-8-5zm0 7c-1.105 0-2-.896-2-2 0-1.106.895-2 2-2 1.104 0 2 .894 2 2 0 1.104-.896 2-2 2z\"></path></svg><span class=\"ProfileRow-metricLabel-THG\" title=\"45,421\">45.4k</span></div></div></div>,\n",
       " <div class=\"ProfileRow-userMeta-3DC\"><div class=\"ProfileRow-nameLocationAndFields-2--\"><h3 class=\"ProfileRow-displayName-YQn\"><a class=\"ProfileRow-profileLink-2Iv qa-profile-link\" href=\"https://www.behance.net/Hmmm?tracking_source=search_users_recommended\">Hmmm Creative Studio</a></h3><p class=\"ProfileRow-location-U8W\">Tallinn, Estonia</p><ul class=\"ProfileRow-creativeFields-3kA\"><li class=\"ProfileRow-creativeField-Iu9\"><a class=\"ProfileRow-fieldLink-1cc\" href=\"/search?field=44\">Graphic Design</a></li><li class=\"ProfileRow-creativeField-Iu9\"><a class=\"ProfileRow-fieldLink-1cc\" href=\"/search?field=5\">Art Direction</a></li><li class=\"ProfileRow-creativeField-Iu9\"><a class=\"ProfileRow-fieldLink-1cc\" href=\"/search?field=109\">Branding</a></li></ul></div><div class=\"ProfileRow-stats-lSM\"><div class=\"FollowButtonLegacy-legacyButton-1Bl ProfileRow-followButton-xJ-\"><div class=\"user-follow js-action-follow qa-follow-button-container form-button-wrap rf-button__container rf-button__container--follow follow-button-container\" data-display-name=\"Hmmm Creative Studio\" data-entity=\"user\" data-followee=\"500055\" data-source=\"\" tabindex=\"0\">\n",
       " <a class=\"js-form-button-follow rf-button--small rf-button rf-button--follow\"><span class=\"rf-button__label\">Follow</span></a>\n",
       " <a class=\"qa-form-button-following rf-button--small rf-button rf-button--secondary rf-button--following\"><span class=\"rf-button__label\">Following</span></a>\n",
       " <a class=\"js-form-button-unfollow rf-button--small rf-button rf-button--danger rf-button--unfollow\"><span class=\"rf-button__label\">Unfollow</span></a>\n",
       " </div>\n",
       " </div><div class=\"ProfileRow-statDivider-3AM\"></div><div class=\"ProfileRow-metric-1o4 ProfileRow-appreciations-1es\"><svg class=\"Appreciations-icon-2NG ProfileRow-icon-2jc\" height=\"16\" viewbox=\"0.5 0.5 16 16\" width=\"16\" xmlns=\"http://www.w3.org/2000/svg\"><path d=\"M.5.5h16v16H.5z\" fill=\"none\"></path><path d=\"M.5 7.5h3v8h-3zM7.207 15.207c.193.19.425.29.677.293H12c.256 0 .512-.098.707-.293l2.5-2.5c.19-.19.288-.457.293-.707V8.5c0-.553-.445-1-1-1h-5L11 5s.5-.792.5-1.5v-1c0-.553-.447-1-1-1l-1 2-4 4v6l1.707 1.707z\"></path></svg><span class=\"ProfileRow-metricLabel-THG\" title=\"15,376\">15.4k</span></div><div class=\"ProfileRow-metric-1o4\"><svg class=\"ProfileRow-icon-2jc\" height=\"16\" viewbox=\"0 0 16 16\" width=\"16\" xmlns=\"http://www.w3.org/2000/svg\"><path d=\"M8.5 3.5c-5 0-8 5-8 5s3 5 8 5 8-5 8-5-3-5-8-5zm0 7c-1.105 0-2-.896-2-2 0-1.106.895-2 2-2 1.104 0 2 .894 2 2 0 1.104-.896 2-2 2z\"></path></svg><span class=\"ProfileRow-metricLabel-THG\" title=\"170,640\">170.6k</span></div></div></div>,\n",
       " <div class=\"ProfileRow-userMeta-3DC\"><div class=\"ProfileRow-nameLocationAndFields-2--\"><h3 class=\"ProfileRow-displayName-YQn\"><a class=\"ProfileRow-profileLink-2Iv qa-profile-link\" href=\"https://www.behance.net/hellsjells?tracking_source=search_users_recommended\">Hells Jells</a></h3><p class=\"ProfileRow-location-U8W\">Tallinn, Estonia</p><ul class=\"ProfileRow-creativeFields-3kA\"><li class=\"ProfileRow-creativeField-Iu9\"><a class=\"ProfileRow-fieldLink-1cc\" href=\"/search?field=48\">Illustration</a></li><li class=\"ProfileRow-creativeField-Iu9\"><a class=\"ProfileRow-fieldLink-1cc\" href=\"/search?field=109\">Branding</a></li><li class=\"ProfileRow-creativeField-Iu9\"><a class=\"ProfileRow-fieldLink-1cc\" href=\"/search?field=63\">Motion Graphics</a></li></ul></div><div class=\"ProfileRow-stats-lSM\"><div class=\"FollowButtonLegacy-legacyButton-1Bl ProfileRow-followButton-xJ-\"><div class=\"user-follow js-action-follow qa-follow-button-container form-button-wrap rf-button__container rf-button__container--follow follow-button-container\" data-display-name=\"Hells Jells\" data-entity=\"user\" data-followee=\"599093\" data-source=\"\" tabindex=\"0\">\n",
       " <a class=\"js-form-button-follow rf-button--small rf-button rf-button--follow\"><span class=\"rf-button__label\">Follow</span></a>\n",
       " <a class=\"qa-form-button-following rf-button--small rf-button rf-button--secondary rf-button--following\"><span class=\"rf-button__label\">Following</span></a>\n",
       " <a class=\"js-form-button-unfollow rf-button--small rf-button rf-button--danger rf-button--unfollow\"><span class=\"rf-button__label\">Unfollow</span></a>\n",
       " </div>\n",
       " </div><div class=\"ProfileRow-statDivider-3AM\"></div><div class=\"ProfileRow-metric-1o4 ProfileRow-appreciations-1es\"><svg class=\"Appreciations-icon-2NG ProfileRow-icon-2jc\" height=\"16\" viewbox=\"0.5 0.5 16 16\" width=\"16\" xmlns=\"http://www.w3.org/2000/svg\"><path d=\"M.5.5h16v16H.5z\" fill=\"none\"></path><path d=\"M.5 7.5h3v8h-3zM7.207 15.207c.193.19.425.29.677.293H12c.256 0 .512-.098.707-.293l2.5-2.5c.19-.19.288-.457.293-.707V8.5c0-.553-.445-1-1-1h-5L11 5s.5-.792.5-1.5v-1c0-.553-.447-1-1-1l-1 2-4 4v6l1.707 1.707z\"></path></svg><span class=\"ProfileRow-metricLabel-THG\" title=\"1,103\">1.1k</span></div><div class=\"ProfileRow-metric-1o4\"><svg class=\"ProfileRow-icon-2jc\" height=\"16\" viewbox=\"0 0 16 16\" width=\"16\" xmlns=\"http://www.w3.org/2000/svg\"><path d=\"M8.5 3.5c-5 0-8 5-8 5s3 5 8 5 8-5 8-5-3-5-8-5zm0 7c-1.105 0-2-.896-2-2 0-1.106.895-2 2-2 1.104 0 2 .894 2 2 0 1.104-.896 2-2 2z\"></path></svg><span class=\"ProfileRow-metricLabel-THG\" title=\"10,679\">10.7k</span></div></div></div>,\n",
       " <div class=\"ProfileRow-userMeta-3DC\"><div class=\"ProfileRow-nameLocationAndFields-2--\"><h3 class=\"ProfileRow-displayName-YQn\"><a class=\"ProfileRow-profileLink-2Iv qa-profile-link\" href=\"https://www.behance.net/zahharov?tracking_source=search_users_recommended\">Vitali Zahharov</a></h3><p class=\"ProfileRow-location-U8W\">Tallinn, Estonia</p><ul class=\"ProfileRow-creativeFields-3kA\"><li class=\"ProfileRow-creativeField-Iu9\"><a class=\"ProfileRow-fieldLink-1cc\" href=\"/search?field=132\">UI/UX</a></li><li class=\"ProfileRow-creativeField-Iu9\"><a class=\"ProfileRow-fieldLink-1cc\" href=\"/search?field=102\">Web Design</a></li><li class=\"ProfileRow-creativeField-Iu9\"><a class=\"ProfileRow-fieldLink-1cc\" href=\"/search?field=5\">Art Direction</a></li></ul></div><div class=\"ProfileRow-stats-lSM\"><div class=\"FollowButtonLegacy-legacyButton-1Bl ProfileRow-followButton-xJ-\"><div class=\"user-follow js-action-follow qa-follow-button-container form-button-wrap rf-button__container rf-button__container--follow follow-button-container\" data-display-name=\"Vitali Zahharov\" data-entity=\"user\" data-followee=\"605039\" data-source=\"\" tabindex=\"0\">\n",
       " <a class=\"js-form-button-follow rf-button--small rf-button rf-button--follow\"><span class=\"rf-button__label\">Follow</span></a>\n",
       " <a class=\"qa-form-button-following rf-button--small rf-button rf-button--secondary rf-button--following\"><span class=\"rf-button__label\">Following</span></a>\n",
       " <a class=\"js-form-button-unfollow rf-button--small rf-button rf-button--danger rf-button--unfollow\"><span class=\"rf-button__label\">Unfollow</span></a>\n",
       " </div>\n",
       " </div><div class=\"ProfileRow-statDivider-3AM\"></div><div class=\"ProfileRow-metric-1o4 ProfileRow-appreciations-1es\"><svg class=\"Appreciations-icon-2NG ProfileRow-icon-2jc\" height=\"16\" viewbox=\"0.5 0.5 16 16\" width=\"16\" xmlns=\"http://www.w3.org/2000/svg\"><path d=\"M.5.5h16v16H.5z\" fill=\"none\"></path><path d=\"M.5 7.5h3v8h-3zM7.207 15.207c.193.19.425.29.677.293H12c.256 0 .512-.098.707-.293l2.5-2.5c.19-.19.288-.457.293-.707V8.5c0-.553-.445-1-1-1h-5L11 5s.5-.792.5-1.5v-1c0-.553-.447-1-1-1l-1 2-4 4v6l1.707 1.707z\"></path></svg><span class=\"ProfileRow-metricLabel-THG\" title=\"22,312\">22.3k</span></div><div class=\"ProfileRow-metric-1o4\"><svg class=\"ProfileRow-icon-2jc\" height=\"16\" viewbox=\"0 0 16 16\" width=\"16\" xmlns=\"http://www.w3.org/2000/svg\"><path d=\"M8.5 3.5c-5 0-8 5-8 5s3 5 8 5 8-5 8-5-3-5-8-5zm0 7c-1.105 0-2-.896-2-2 0-1.106.895-2 2-2 1.104 0 2 .894 2 2 0 1.104-.896 2-2 2z\"></path></svg><span class=\"ProfileRow-metricLabel-THG\" title=\"304,545\">304.5k</span></div></div></div>,\n",
       " <div class=\"ProfileRow-userMeta-3DC\"><div class=\"ProfileRow-nameLocationAndFields-2--\"><h3 class=\"ProfileRow-displayName-YQn\"><a class=\"ProfileRow-profileLink-2Iv qa-profile-link\" href=\"https://www.behance.net/diveo?tracking_source=search_users_recommended\">Altai Zeinalov</a></h3><p class=\"ProfileRow-location-U8W\">Narva-Jõesuu, Estonia</p><ul class=\"ProfileRow-creativeFields-3kA\"><li class=\"ProfileRow-creativeField-Iu9\"><a class=\"ProfileRow-fieldLink-1cc\" href=\"/search?field=48\">Illustration</a></li><li class=\"ProfileRow-creativeField-Iu9\"><a class=\"ProfileRow-fieldLink-1cc\" href=\"/search?field=122\">Digital Art</a></li><li class=\"ProfileRow-creativeField-Iu9\"><a class=\"ProfileRow-fieldLink-1cc\" href=\"/search?field=124\">Character Design</a></li></ul></div><div class=\"ProfileRow-stats-lSM\"><div class=\"FollowButtonLegacy-legacyButton-1Bl ProfileRow-followButton-xJ-\"><div class=\"user-follow js-action-follow qa-follow-button-container form-button-wrap rf-button__container rf-button__container--follow follow-button-container\" data-display-name=\"Altai Zeinalov\" data-entity=\"user\" data-followee=\"16496595\" data-source=\"\" tabindex=\"0\">\n",
       " <a class=\"js-form-button-follow rf-button--small rf-button rf-button--follow\"><span class=\"rf-button__label\">Follow</span></a>\n",
       " <a class=\"qa-form-button-following rf-button--small rf-button rf-button--secondary rf-button--following\"><span class=\"rf-button__label\">Following</span></a>\n",
       " <a class=\"js-form-button-unfollow rf-button--small rf-button rf-button--danger rf-button--unfollow\"><span class=\"rf-button__label\">Unfollow</span></a>\n",
       " </div>\n",
       " </div><div class=\"ProfileRow-statDivider-3AM\"></div><div class=\"ProfileRow-metric-1o4 ProfileRow-appreciations-1es\"><svg class=\"Appreciations-icon-2NG ProfileRow-icon-2jc\" height=\"16\" viewbox=\"0.5 0.5 16 16\" width=\"16\" xmlns=\"http://www.w3.org/2000/svg\"><path d=\"M.5.5h16v16H.5z\" fill=\"none\"></path><path d=\"M.5 7.5h3v8h-3zM7.207 15.207c.193.19.425.29.677.293H12c.256 0 .512-.098.707-.293l2.5-2.5c.19-.19.288-.457.293-.707V8.5c0-.553-.445-1-1-1h-5L11 5s.5-.792.5-1.5v-1c0-.553-.447-1-1-1l-1 2-4 4v6l1.707 1.707z\"></path></svg><span class=\"ProfileRow-metricLabel-THG\" title=\"7,592\">7.6k</span></div><div class=\"ProfileRow-metric-1o4\"><svg class=\"ProfileRow-icon-2jc\" height=\"16\" viewbox=\"0 0 16 16\" width=\"16\" xmlns=\"http://www.w3.org/2000/svg\"><path d=\"M8.5 3.5c-5 0-8 5-8 5s3 5 8 5 8-5 8-5-3-5-8-5zm0 7c-1.105 0-2-.896-2-2 0-1.106.895-2 2-2 1.104 0 2 .894 2 2 0 1.104-.896 2-2 2z\"></path></svg><span class=\"ProfileRow-metricLabel-THG\" title=\"64,321\">64.3k</span></div></div></div>,\n",
       " <div class=\"ProfileRow-userMeta-3DC\"><div class=\"ProfileRow-nameLocationAndFields-2--\"><h3 class=\"ProfileRow-displayName-YQn\"><a class=\"ProfileRow-profileLink-2Iv qa-profile-link\" href=\"https://www.behance.net/withoutbrain?tracking_source=search_users_recommended\">Daniel Romero - WithoutBrain</a></h3><p class=\"ProfileRow-location-U8W\">Tallinn, Estonia</p><ul class=\"ProfileRow-creativeFields-3kA\"><li class=\"ProfileRow-creativeField-Iu9\"><a class=\"ProfileRow-fieldLink-1cc\" href=\"/search?field=124\">Character Design</a></li><li class=\"ProfileRow-creativeField-Iu9\"><a class=\"ProfileRow-fieldLink-1cc\" href=\"/search?field=48\">Illustration</a></li><li class=\"ProfileRow-creativeField-Iu9\"><a class=\"ProfileRow-fieldLink-1cc\" href=\"/search?field=9\">Cartooning</a></li></ul></div><div class=\"ProfileRow-stats-lSM\"><div class=\"FollowButtonLegacy-legacyButton-1Bl ProfileRow-followButton-xJ-\"><div class=\"user-follow js-action-follow qa-follow-button-container form-button-wrap rf-button__container rf-button__container--follow follow-button-container\" data-display-name=\"Daniel Romero - WithoutBrain\" data-entity=\"user\" data-followee=\"264764\" data-source=\"\" tabindex=\"0\">\n",
       " <a class=\"js-form-button-follow rf-button--small rf-button rf-button--follow\"><span class=\"rf-button__label\">Follow</span></a>\n",
       " <a class=\"qa-form-button-following rf-button--small rf-button rf-button--secondary rf-button--following\"><span class=\"rf-button__label\">Following</span></a>\n",
       " <a class=\"js-form-button-unfollow rf-button--small rf-button rf-button--danger rf-button--unfollow\"><span class=\"rf-button__label\">Unfollow</span></a>\n",
       " </div>\n",
       " </div><div class=\"ProfileRow-statDivider-3AM\"></div><div class=\"ProfileRow-metric-1o4 ProfileRow-appreciations-1es\"><svg class=\"Appreciations-icon-2NG ProfileRow-icon-2jc\" height=\"16\" viewbox=\"0.5 0.5 16 16\" width=\"16\" xmlns=\"http://www.w3.org/2000/svg\"><path d=\"M.5.5h16v16H.5z\" fill=\"none\"></path><path d=\"M.5 7.5h3v8h-3zM7.207 15.207c.193.19.425.29.677.293H12c.256 0 .512-.098.707-.293l2.5-2.5c.19-.19.288-.457.293-.707V8.5c0-.553-.445-1-1-1h-5L11 5s.5-.792.5-1.5v-1c0-.553-.447-1-1-1l-1 2-4 4v6l1.707 1.707z\"></path></svg><span class=\"ProfileRow-metricLabel-THG\" title=\"24,886\">24.9k</span></div><div class=\"ProfileRow-metric-1o4\"><svg class=\"ProfileRow-icon-2jc\" height=\"16\" viewbox=\"0 0 16 16\" width=\"16\" xmlns=\"http://www.w3.org/2000/svg\"><path d=\"M8.5 3.5c-5 0-8 5-8 5s3 5 8 5 8-5 8-5-3-5-8-5zm0 7c-1.105 0-2-.896-2-2 0-1.106.895-2 2-2 1.104 0 2 .894 2 2 0 1.104-.896 2-2 2z\"></path></svg><span class=\"ProfileRow-metricLabel-THG\" title=\"203,385\">203.4k</span></div></div></div>,\n",
       " <div class=\"ProfileRow-userMeta-3DC\"><div class=\"ProfileRow-nameLocationAndFields-2--\"><h3 class=\"ProfileRow-displayName-YQn\"><a class=\"ProfileRow-profileLink-2Iv qa-profile-link\" href=\"https://www.behance.net/margusugram?tracking_source=search_users_recommended\">Margus Tamm</a></h3><p class=\"ProfileRow-location-U8W\">Tallinn, Estonia</p><ul class=\"ProfileRow-creativeFields-3kA\"><li class=\"ProfileRow-creativeField-Iu9\"><a class=\"ProfileRow-fieldLink-1cc\" href=\"/search?field=44\">Graphic Design</a></li><li class=\"ProfileRow-creativeField-Iu9\"><a class=\"ProfileRow-fieldLink-1cc\" href=\"/search?field=97\">Typography</a></li><li class=\"ProfileRow-creativeField-Iu9\"><a class=\"ProfileRow-fieldLink-1cc\" href=\"/search?field=112\">Fine Arts</a></li></ul></div><div class=\"ProfileRow-stats-lSM\"><div class=\"FollowButtonLegacy-legacyButton-1Bl ProfileRow-followButton-xJ-\"><div class=\"user-follow js-action-follow qa-follow-button-container form-button-wrap rf-button__container rf-button__container--follow follow-button-container\" data-display-name=\"Margus Tamm\" data-entity=\"user\" data-followee=\"3976201\" data-source=\"\" tabindex=\"0\">\n",
       " <a class=\"js-form-button-follow rf-button--small rf-button rf-button--follow\"><span class=\"rf-button__label\">Follow</span></a>\n",
       " <a class=\"qa-form-button-following rf-button--small rf-button rf-button--secondary rf-button--following\"><span class=\"rf-button__label\">Following</span></a>\n",
       " <a class=\"js-form-button-unfollow rf-button--small rf-button rf-button--danger rf-button--unfollow\"><span class=\"rf-button__label\">Unfollow</span></a>\n",
       " </div>\n",
       " </div><div class=\"ProfileRow-statDivider-3AM\"></div><div class=\"ProfileRow-metric-1o4 ProfileRow-appreciations-1es\"><svg class=\"Appreciations-icon-2NG ProfileRow-icon-2jc\" height=\"16\" viewbox=\"0.5 0.5 16 16\" width=\"16\" xmlns=\"http://www.w3.org/2000/svg\"><path d=\"M.5.5h16v16H.5z\" fill=\"none\"></path><path d=\"M.5 7.5h3v8h-3zM7.207 15.207c.193.19.425.29.677.293H12c.256 0 .512-.098.707-.293l2.5-2.5c.19-.19.288-.457.293-.707V8.5c0-.553-.445-1-1-1h-5L11 5s.5-.792.5-1.5v-1c0-.553-.447-1-1-1l-1 2-4 4v6l1.707 1.707z\"></path></svg><span class=\"ProfileRow-metricLabel-THG\" title=\"358\">358</span></div><div class=\"ProfileRow-metric-1o4\"><svg class=\"ProfileRow-icon-2jc\" height=\"16\" viewbox=\"0 0 16 16\" width=\"16\" xmlns=\"http://www.w3.org/2000/svg\"><path d=\"M8.5 3.5c-5 0-8 5-8 5s3 5 8 5 8-5 8-5-3-5-8-5zm0 7c-1.105 0-2-.896-2-2 0-1.106.895-2 2-2 1.104 0 2 .894 2 2 0 1.104-.896 2-2 2z\"></path></svg><span class=\"ProfileRow-metricLabel-THG\" title=\"2,491\">2.5k</span></div></div></div>,\n",
       " <div class=\"ProfileRow-userMeta-3DC\"><div class=\"ProfileRow-nameLocationAndFields-2--\"><h3 class=\"ProfileRow-displayName-YQn\"><a class=\"ProfileRow-profileLink-2Iv qa-profile-link\" href=\"https://www.behance.net/koorpackagingdesign?tracking_source=search_users_recommended\">KOOR Packaging design</a></h3><p class=\"ProfileRow-location-U8W\">Tallinn, Estonia</p><ul class=\"ProfileRow-creativeFields-3kA\"><li class=\"ProfileRow-creativeField-Iu9\"><a class=\"ProfileRow-fieldLink-1cc\" href=\"/search?field=66\">Packaging</a></li><li class=\"ProfileRow-creativeField-Iu9\"><a class=\"ProfileRow-fieldLink-1cc\" href=\"/search?field=44\">Graphic Design</a></li><li class=\"ProfileRow-creativeField-Iu9\"><a class=\"ProfileRow-fieldLink-1cc\" href=\"/search?field=5\">Art Direction</a></li></ul></div><div class=\"ProfileRow-stats-lSM\"><div class=\"FollowButtonLegacy-legacyButton-1Bl ProfileRow-followButton-xJ-\"><div class=\"user-follow js-action-follow qa-follow-button-container form-button-wrap rf-button__container rf-button__container--follow follow-button-container\" data-display-name=\"KOOR Packaging design\" data-entity=\"user\" data-followee=\"5302059\" data-source=\"\" tabindex=\"0\">\n",
       " <a class=\"js-form-button-follow rf-button--small rf-button rf-button--follow\"><span class=\"rf-button__label\">Follow</span></a>\n",
       " <a class=\"qa-form-button-following rf-button--small rf-button rf-button--secondary rf-button--following\"><span class=\"rf-button__label\">Following</span></a>\n",
       " <a class=\"js-form-button-unfollow rf-button--small rf-button rf-button--danger rf-button--unfollow\"><span class=\"rf-button__label\">Unfollow</span></a>\n",
       " </div>\n",
       " </div><div class=\"ProfileRow-statDivider-3AM\"></div><div class=\"ProfileRow-metric-1o4 ProfileRow-appreciations-1es\"><svg class=\"Appreciations-icon-2NG ProfileRow-icon-2jc\" height=\"16\" viewbox=\"0.5 0.5 16 16\" width=\"16\" xmlns=\"http://www.w3.org/2000/svg\"><path d=\"M.5.5h16v16H.5z\" fill=\"none\"></path><path d=\"M.5 7.5h3v8h-3zM7.207 15.207c.193.19.425.29.677.293H12c.256 0 .512-.098.707-.293l2.5-2.5c.19-.19.288-.457.293-.707V8.5c0-.553-.445-1-1-1h-5L11 5s.5-.792.5-1.5v-1c0-.553-.447-1-1-1l-1 2-4 4v6l1.707 1.707z\"></path></svg><span class=\"ProfileRow-metricLabel-THG\" title=\"11,385\">11.4k</span></div><div class=\"ProfileRow-metric-1o4\"><svg class=\"ProfileRow-icon-2jc\" height=\"16\" viewbox=\"0 0 16 16\" width=\"16\" xmlns=\"http://www.w3.org/2000/svg\"><path d=\"M8.5 3.5c-5 0-8 5-8 5s3 5 8 5 8-5 8-5-3-5-8-5zm0 7c-1.105 0-2-.896-2-2 0-1.106.895-2 2-2 1.104 0 2 .894 2 2 0 1.104-.896 2-2 2z\"></path></svg><span class=\"ProfileRow-metricLabel-THG\" title=\"106,943\">106.9k</span></div></div></div>,\n",
       " <div class=\"ProfileRow-userMeta-3DC\"><div class=\"ProfileRow-nameLocationAndFields-2--\"><h3 class=\"ProfileRow-displayName-YQn\"><a class=\"ProfileRow-profileLink-2Iv qa-profile-link\" href=\"https://www.behance.net/androoid?tracking_source=search_users_recommended\">Andreas Roosson</a></h3><p class=\"ProfileRow-location-U8W\">Tallinn, Estonia</p><ul class=\"ProfileRow-creativeFields-3kA\"><li class=\"ProfileRow-creativeField-Iu9\"><a class=\"ProfileRow-fieldLink-1cc\" href=\"/search?field=44\">Graphic Design</a></li><li class=\"ProfileRow-creativeField-Iu9\"><a class=\"ProfileRow-fieldLink-1cc\" href=\"/search?field=109\">Branding</a></li><li class=\"ProfileRow-creativeField-Iu9\"><a class=\"ProfileRow-fieldLink-1cc\" href=\"/search?field=5\">Art Direction</a></li></ul></div><div class=\"ProfileRow-stats-lSM\"><div class=\"FollowButtonLegacy-legacyButton-1Bl ProfileRow-followButton-xJ-\"><div class=\"user-follow js-action-follow qa-follow-button-container form-button-wrap rf-button__container rf-button__container--follow follow-button-container\" data-display-name=\"Andreas Roosson\" data-entity=\"user\" data-followee=\"12115715\" data-source=\"\" tabindex=\"0\">\n",
       " <a class=\"js-form-button-follow rf-button--small rf-button rf-button--follow\"><span class=\"rf-button__label\">Follow</span></a>\n",
       " <a class=\"qa-form-button-following rf-button--small rf-button rf-button--secondary rf-button--following\"><span class=\"rf-button__label\">Following</span></a>\n",
       " <a class=\"js-form-button-unfollow rf-button--small rf-button rf-button--danger rf-button--unfollow\"><span class=\"rf-button__label\">Unfollow</span></a>\n",
       " </div>\n",
       " </div><div class=\"ProfileRow-statDivider-3AM\"></div><div class=\"ProfileRow-metric-1o4 ProfileRow-appreciations-1es\"><svg class=\"Appreciations-icon-2NG ProfileRow-icon-2jc\" height=\"16\" viewbox=\"0.5 0.5 16 16\" width=\"16\" xmlns=\"http://www.w3.org/2000/svg\"><path d=\"M.5.5h16v16H.5z\" fill=\"none\"></path><path d=\"M.5 7.5h3v8h-3zM7.207 15.207c.193.19.425.29.677.293H12c.256 0 .512-.098.707-.293l2.5-2.5c.19-.19.288-.457.293-.707V8.5c0-.553-.445-1-1-1h-5L11 5s.5-.792.5-1.5v-1c0-.553-.447-1-1-1l-1 2-4 4v6l1.707 1.707z\"></path></svg><span class=\"ProfileRow-metricLabel-THG\" title=\"7,878\">7.9k</span></div><div class=\"ProfileRow-metric-1o4\"><svg class=\"ProfileRow-icon-2jc\" height=\"16\" viewbox=\"0 0 16 16\" width=\"16\" xmlns=\"http://www.w3.org/2000/svg\"><path d=\"M8.5 3.5c-5 0-8 5-8 5s3 5 8 5 8-5 8-5-3-5-8-5zm0 7c-1.105 0-2-.896-2-2 0-1.106.895-2 2-2 1.104 0 2 .894 2 2 0 1.104-.896 2-2 2z\"></path></svg><span class=\"ProfileRow-metricLabel-THG\" title=\"74,125\">74.1k</span></div></div></div>]"
      ]
     },
     "execution_count": 15,
     "metadata": {},
     "output_type": "execute_result"
    }
   ],
   "source": [
    "tags1"
   ]
  },
  {
   "cell_type": "code",
   "execution_count": 51,
   "metadata": {},
   "outputs": [
    {
     "name": "stdout",
     "output_type": "stream",
     "text": [
      "title: Kristina Barilnik \n",
      " https://www.behance.net/krisbariln37bb?tracking_source=search_users_recommended \n",
      "location: Tallinn, Estonia \n",
      "Spec: Interaction Design \n",
      "like: 5k \n",
      "Watch: 5k \n",
      "insta: <li class=\"UserInfo-socialLinkContainer-3Zb\"><a href=\"http://instagram.com/the_doggydog\" target=\"_blank\" title=\"Instagram\"><svg class=\"SocialLink-link-1CK UserInfo-socialLink-3Pb\" viewbox=\"0 0 26 26\" xmlns=\"http://www.w3.org/2000/svg\"><path d=\"M13.006 8.14a4.87 4.87 0 1 0 4.874 4.87 4.869 4.869 0 0 0-4.874-4.87zm12.066 0a13.02 13.02 0 0 0-24.133 0H7.92a7.044 7.044 0 0 1 10.171 0h6.981zm.933 4.87a13.392 13.392 0 0 0-.271-2.71h-6.228a6.814 6.814 0 0 1 .542 2.71 7.041 7.041 0 0 1-14.082 0 6.813 6.813 0 0 1 .541-2.71H.278a13.392 13.392 0 0 0-.27 2.71 13 13 0 1 0 25.998 0z\"></path></svg></a></li> \n",
      "---\n",
      "title: Polaar Studio \n",
      " https://www.behance.net/polaar?tracking_source=search_users_recommended \n",
      "location: Tallinn, Estonia \n",
      "Spec: Graphic Design \n",
      "like: 8.9k \n",
      "Watch: 8.9k \n",
      "insta: None \n",
      "---\n",
      "title: Eiko Ojala \n",
      " https://www.behance.net/eiko?tracking_source=search_users_recommended \n",
      "location: Tallinn, Estonia \n",
      "Spec: Illustration \n",
      "like: 201.5k \n",
      "Watch: 201.5k \n",
      "insta: None \n",
      "---\n",
      "title: Frank Wo \n",
      " https://www.behance.net/frankwo?tracking_source=search_users_recommended \n",
      "location: Tallinn, Estonia \n",
      "Spec: Art Direction \n",
      "like: 11.7k \n",
      "Watch: 11.7k \n",
      "insta: <li class=\"UserInfo-socialLinkContainer-3Zb\"><a href=\"http://facebook.com/frankwostudio\" target=\"_blank\" title=\"Facebook\"><svg class=\"SocialLink-link-1CK UserInfo-socialLink-3Pb\" viewbox=\"0 0 32 32\" xmlns=\"http://www.w3.org/2000/svg\"><g transform=\"translate(-1654 -928)\"><circle cx=\"16\" cy=\"16\" r=\"16\" transform=\"translate(1654 928)\"></circle><path class=\"Facebook-icon-2Bw\" d=\"M1671.395 953v-7.3h2.45l.367-2.846h-2.817v-1.815c0-.826.226-1.384 1.412-1.384h1.5v-2.542a19.964 19.964 0 0 0-2.192-.113 3.425 3.425 0 0 0-3.658 3.756v2.1H1666v2.844h2.457v7.3z\"></path></g></svg></a></li> \n",
      "---\n",
      "title: Andrés Gallardo Albajar \n",
      " https://www.behance.net/andresgallardo?tracking_source=search_users_recommended \n",
      "location: Tallinn, Estonia \n",
      "Spec: Photography \n",
      "like: 56.7k \n",
      "Watch: 56.7k \n",
      "insta: <li class=\"UserInfo-socialLinkContainer-3Zb\"><a href=\"http://linkedin.com/in/andresgallardoalbajar/\" target=\"_blank\" title=\"LinkedIn\"><svg class=\"SocialLink-link-1CK UserInfo-socialLink-3Pb\" version=\"1.1\" viewbox=\"0 0 20 20\" xml:space=\"preserve\" xmlns=\"http://www.w3.org/2000/svg\" xmlns:xlink=\"http://www.w3.org/1999/xlink\"><path d=\"M20,10c0,5.5-4.5,10-10,10S0,15.5,0,10S4.5,0,10,0S20,4.5,20,10z\"></path><path class=\"LinkedIn-icon-8OF\" d=\"M7.5,5.2c0-0.8-0.7-1.5-1.7-1.5S4.2,4.3,4.2,5.2s0.7,1.5,1.7,1.5l0,0C6.8,6.7,7.5,6,7.5,5.2z\"></path><rect class=\"LinkedIn-icon-8OF\" height=\"7\" width=\"2.5\" x=\"4.7\" y=\"8\"></rect><path class=\"LinkedIn-icon-8OF\" d=\"M16.2,11.2c0-2.3-1.2-3.7-2.8-3.7c-1,0-1.8,0.7-2,1.5l-0.2-1H8.7c0,0.3,0,1.7,0,1.7V15h2.5v-3.8c0-1,0.5-1.7,1.2-1.7c0.8,0,1.3,0.3,1.3,1.7v3.7h2.5V11.2z\"></path></svg></a></li> \n",
      "---\n",
      "title: Tetiana Donska \n",
      " https://www.behance.net/_donska?tracking_source=search_users_recommended \n",
      "location: Tallinn, Estonia \n",
      "Spec: UI/UX \n",
      "like: 68.8k \n",
      "Watch: 68.8k \n",
      "insta: <li class=\"UserInfo-socialLinkContainer-3Zb\"><a href=\"http://linkedin.com/in/donska\" target=\"_blank\" title=\"LinkedIn\"><svg class=\"SocialLink-link-1CK UserInfo-socialLink-3Pb\" version=\"1.1\" viewbox=\"0 0 20 20\" xml:space=\"preserve\" xmlns=\"http://www.w3.org/2000/svg\" xmlns:xlink=\"http://www.w3.org/1999/xlink\"><path d=\"M20,10c0,5.5-4.5,10-10,10S0,15.5,0,10S4.5,0,10,0S20,4.5,20,10z\"></path><path class=\"LinkedIn-icon-8OF\" d=\"M7.5,5.2c0-0.8-0.7-1.5-1.7-1.5S4.2,4.3,4.2,5.2s0.7,1.5,1.7,1.5l0,0C6.8,6.7,7.5,6,7.5,5.2z\"></path><rect class=\"LinkedIn-icon-8OF\" height=\"7\" width=\"2.5\" x=\"4.7\" y=\"8\"></rect><path class=\"LinkedIn-icon-8OF\" d=\"M16.2,11.2c0-2.3-1.2-3.7-2.8-3.7c-1,0-1.8,0.7-2,1.5l-0.2-1H8.7c0,0.3,0,1.7,0,1.7V15h2.5v-3.8c0-1,0.5-1.7,1.2-1.7c0.8,0,1.3,0.3,1.3,1.7v3.7h2.5V11.2z\"></path></svg></a></li> \n",
      "---\n"
     ]
    },
    {
     "ename": "KeyboardInterrupt",
     "evalue": "",
     "output_type": "error",
     "traceback": [
      "\u001b[0;31m---------------------------------------------------------------------------\u001b[0m",
      "\u001b[0;31mKeyboardInterrupt\u001b[0m                         Traceback (most recent call last)",
      "\u001b[0;32m<ipython-input-51-354fd17d0f06>\u001b[0m in \u001b[0;36m<module>\u001b[0;34m\u001b[0m\n\u001b[1;32m      6\u001b[0m     \u001b[0mlike\u001b[0m \u001b[0;34m=\u001b[0m \u001b[0mtag\u001b[0m\u001b[0;34m.\u001b[0m\u001b[0mfind\u001b[0m\u001b[0;34m(\u001b[0m\u001b[0;34m\"span\"\u001b[0m\u001b[0;34m,\u001b[0m\u001b[0;34m{\u001b[0m\u001b[0;34m\"class\"\u001b[0m\u001b[0;34m:\u001b[0m\u001b[0;34m\"ProfileRow-metricLabel-THG\"\u001b[0m\u001b[0;34m}\u001b[0m\u001b[0;34m)\u001b[0m\u001b[0;34m.\u001b[0m\u001b[0mtext\u001b[0m\u001b[0;34m\u001b[0m\u001b[0;34m\u001b[0m\u001b[0m\n\u001b[1;32m      7\u001b[0m     \u001b[0mwatch\u001b[0m \u001b[0;34m=\u001b[0m \u001b[0mtag\u001b[0m\u001b[0;34m.\u001b[0m\u001b[0mfind\u001b[0m\u001b[0;34m(\u001b[0m\u001b[0;34m\"span\"\u001b[0m\u001b[0;34m,\u001b[0m \u001b[0;34m{\u001b[0m\u001b[0;34m\"class\"\u001b[0m\u001b[0;34m:\u001b[0m\u001b[0;34m\"ProfileRow-metricLabel-THG\"\u001b[0m\u001b[0;34m}\u001b[0m\u001b[0;34m)\u001b[0m\u001b[0;34m.\u001b[0m\u001b[0mtext\u001b[0m\u001b[0;34m\u001b[0m\u001b[0;34m\u001b[0m\u001b[0m\n\u001b[0;32m----> 8\u001b[0;31m     \u001b[0mjob_response\u001b[0m \u001b[0;34m=\u001b[0m \u001b[0mrequests\u001b[0m\u001b[0;34m.\u001b[0m\u001b[0mget\u001b[0m\u001b[0;34m(\u001b[0m\u001b[0mlink\u001b[0m\u001b[0;34m)\u001b[0m\u001b[0;34m\u001b[0m\u001b[0;34m\u001b[0m\u001b[0m\n\u001b[0m\u001b[1;32m      9\u001b[0m     \u001b[0mjob_data\u001b[0m \u001b[0;34m=\u001b[0m \u001b[0mjob_response\u001b[0m\u001b[0;34m.\u001b[0m\u001b[0mtext\u001b[0m\u001b[0;34m\u001b[0m\u001b[0;34m\u001b[0m\u001b[0m\n\u001b[1;32m     10\u001b[0m     \u001b[0mjob_soup\u001b[0m \u001b[0;34m=\u001b[0m \u001b[0mBeautifulSoup\u001b[0m\u001b[0;34m(\u001b[0m\u001b[0mjob_data\u001b[0m\u001b[0;34m,\u001b[0m \u001b[0;34m'html.parser'\u001b[0m\u001b[0;34m)\u001b[0m\u001b[0;34m\u001b[0m\u001b[0;34m\u001b[0m\u001b[0m\n",
      "\u001b[0;32m~/Documents/jupyter/venv/lib/python3.8/site-packages/requests/api.py\u001b[0m in \u001b[0;36mget\u001b[0;34m(url, params, **kwargs)\u001b[0m\n\u001b[1;32m     74\u001b[0m \u001b[0;34m\u001b[0m\u001b[0m\n\u001b[1;32m     75\u001b[0m     \u001b[0mkwargs\u001b[0m\u001b[0;34m.\u001b[0m\u001b[0msetdefault\u001b[0m\u001b[0;34m(\u001b[0m\u001b[0;34m'allow_redirects'\u001b[0m\u001b[0;34m,\u001b[0m \u001b[0;32mTrue\u001b[0m\u001b[0;34m)\u001b[0m\u001b[0;34m\u001b[0m\u001b[0;34m\u001b[0m\u001b[0m\n\u001b[0;32m---> 76\u001b[0;31m     \u001b[0;32mreturn\u001b[0m \u001b[0mrequest\u001b[0m\u001b[0;34m(\u001b[0m\u001b[0;34m'get'\u001b[0m\u001b[0;34m,\u001b[0m \u001b[0murl\u001b[0m\u001b[0;34m,\u001b[0m \u001b[0mparams\u001b[0m\u001b[0;34m=\u001b[0m\u001b[0mparams\u001b[0m\u001b[0;34m,\u001b[0m \u001b[0;34m**\u001b[0m\u001b[0mkwargs\u001b[0m\u001b[0;34m)\u001b[0m\u001b[0;34m\u001b[0m\u001b[0;34m\u001b[0m\u001b[0m\n\u001b[0m\u001b[1;32m     77\u001b[0m \u001b[0;34m\u001b[0m\u001b[0m\n\u001b[1;32m     78\u001b[0m \u001b[0;34m\u001b[0m\u001b[0m\n",
      "\u001b[0;32m~/Documents/jupyter/venv/lib/python3.8/site-packages/requests/api.py\u001b[0m in \u001b[0;36mrequest\u001b[0;34m(method, url, **kwargs)\u001b[0m\n\u001b[1;32m     59\u001b[0m     \u001b[0;31m# cases, and look like a memory leak in others.\u001b[0m\u001b[0;34m\u001b[0m\u001b[0;34m\u001b[0m\u001b[0;34m\u001b[0m\u001b[0m\n\u001b[1;32m     60\u001b[0m     \u001b[0;32mwith\u001b[0m \u001b[0msessions\u001b[0m\u001b[0;34m.\u001b[0m\u001b[0mSession\u001b[0m\u001b[0;34m(\u001b[0m\u001b[0;34m)\u001b[0m \u001b[0;32mas\u001b[0m \u001b[0msession\u001b[0m\u001b[0;34m:\u001b[0m\u001b[0;34m\u001b[0m\u001b[0;34m\u001b[0m\u001b[0m\n\u001b[0;32m---> 61\u001b[0;31m         \u001b[0;32mreturn\u001b[0m \u001b[0msession\u001b[0m\u001b[0;34m.\u001b[0m\u001b[0mrequest\u001b[0m\u001b[0;34m(\u001b[0m\u001b[0mmethod\u001b[0m\u001b[0;34m=\u001b[0m\u001b[0mmethod\u001b[0m\u001b[0;34m,\u001b[0m \u001b[0murl\u001b[0m\u001b[0;34m=\u001b[0m\u001b[0murl\u001b[0m\u001b[0;34m,\u001b[0m \u001b[0;34m**\u001b[0m\u001b[0mkwargs\u001b[0m\u001b[0;34m)\u001b[0m\u001b[0;34m\u001b[0m\u001b[0;34m\u001b[0m\u001b[0m\n\u001b[0m\u001b[1;32m     62\u001b[0m \u001b[0;34m\u001b[0m\u001b[0m\n\u001b[1;32m     63\u001b[0m \u001b[0;34m\u001b[0m\u001b[0m\n",
      "\u001b[0;32m~/Documents/jupyter/venv/lib/python3.8/site-packages/requests/sessions.py\u001b[0m in \u001b[0;36mrequest\u001b[0;34m(self, method, url, params, data, headers, cookies, files, auth, timeout, allow_redirects, proxies, hooks, stream, verify, cert, json)\u001b[0m\n\u001b[1;32m    528\u001b[0m         }\n\u001b[1;32m    529\u001b[0m         \u001b[0msend_kwargs\u001b[0m\u001b[0;34m.\u001b[0m\u001b[0mupdate\u001b[0m\u001b[0;34m(\u001b[0m\u001b[0msettings\u001b[0m\u001b[0;34m)\u001b[0m\u001b[0;34m\u001b[0m\u001b[0;34m\u001b[0m\u001b[0m\n\u001b[0;32m--> 530\u001b[0;31m         \u001b[0mresp\u001b[0m \u001b[0;34m=\u001b[0m \u001b[0mself\u001b[0m\u001b[0;34m.\u001b[0m\u001b[0msend\u001b[0m\u001b[0;34m(\u001b[0m\u001b[0mprep\u001b[0m\u001b[0;34m,\u001b[0m \u001b[0;34m**\u001b[0m\u001b[0msend_kwargs\u001b[0m\u001b[0;34m)\u001b[0m\u001b[0;34m\u001b[0m\u001b[0;34m\u001b[0m\u001b[0m\n\u001b[0m\u001b[1;32m    531\u001b[0m \u001b[0;34m\u001b[0m\u001b[0m\n\u001b[1;32m    532\u001b[0m         \u001b[0;32mreturn\u001b[0m \u001b[0mresp\u001b[0m\u001b[0;34m\u001b[0m\u001b[0;34m\u001b[0m\u001b[0m\n",
      "\u001b[0;32m~/Documents/jupyter/venv/lib/python3.8/site-packages/requests/sessions.py\u001b[0m in \u001b[0;36msend\u001b[0;34m(self, request, **kwargs)\u001b[0m\n\u001b[1;32m    641\u001b[0m \u001b[0;34m\u001b[0m\u001b[0m\n\u001b[1;32m    642\u001b[0m         \u001b[0;31m# Send the request\u001b[0m\u001b[0;34m\u001b[0m\u001b[0;34m\u001b[0m\u001b[0;34m\u001b[0m\u001b[0m\n\u001b[0;32m--> 643\u001b[0;31m         \u001b[0mr\u001b[0m \u001b[0;34m=\u001b[0m \u001b[0madapter\u001b[0m\u001b[0;34m.\u001b[0m\u001b[0msend\u001b[0m\u001b[0;34m(\u001b[0m\u001b[0mrequest\u001b[0m\u001b[0;34m,\u001b[0m \u001b[0;34m**\u001b[0m\u001b[0mkwargs\u001b[0m\u001b[0;34m)\u001b[0m\u001b[0;34m\u001b[0m\u001b[0;34m\u001b[0m\u001b[0m\n\u001b[0m\u001b[1;32m    644\u001b[0m \u001b[0;34m\u001b[0m\u001b[0m\n\u001b[1;32m    645\u001b[0m         \u001b[0;31m# Total elapsed time of the request (approximately)\u001b[0m\u001b[0;34m\u001b[0m\u001b[0;34m\u001b[0m\u001b[0;34m\u001b[0m\u001b[0m\n",
      "\u001b[0;32m~/Documents/jupyter/venv/lib/python3.8/site-packages/requests/adapters.py\u001b[0m in \u001b[0;36msend\u001b[0;34m(self, request, stream, timeout, verify, cert, proxies)\u001b[0m\n\u001b[1;32m    437\u001b[0m         \u001b[0;32mtry\u001b[0m\u001b[0;34m:\u001b[0m\u001b[0;34m\u001b[0m\u001b[0;34m\u001b[0m\u001b[0m\n\u001b[1;32m    438\u001b[0m             \u001b[0;32mif\u001b[0m \u001b[0;32mnot\u001b[0m \u001b[0mchunked\u001b[0m\u001b[0;34m:\u001b[0m\u001b[0;34m\u001b[0m\u001b[0;34m\u001b[0m\u001b[0m\n\u001b[0;32m--> 439\u001b[0;31m                 resp = conn.urlopen(\n\u001b[0m\u001b[1;32m    440\u001b[0m                     \u001b[0mmethod\u001b[0m\u001b[0;34m=\u001b[0m\u001b[0mrequest\u001b[0m\u001b[0;34m.\u001b[0m\u001b[0mmethod\u001b[0m\u001b[0;34m,\u001b[0m\u001b[0;34m\u001b[0m\u001b[0;34m\u001b[0m\u001b[0m\n\u001b[1;32m    441\u001b[0m                     \u001b[0murl\u001b[0m\u001b[0;34m=\u001b[0m\u001b[0murl\u001b[0m\u001b[0;34m,\u001b[0m\u001b[0;34m\u001b[0m\u001b[0;34m\u001b[0m\u001b[0m\n",
      "\u001b[0;32m~/Documents/jupyter/venv/lib/python3.8/site-packages/urllib3/connectionpool.py\u001b[0m in \u001b[0;36murlopen\u001b[0;34m(self, method, url, body, headers, retries, redirect, assert_same_host, timeout, pool_timeout, release_conn, chunked, body_pos, **response_kw)\u001b[0m\n\u001b[1;32m    668\u001b[0m                 \u001b[0murl\u001b[0m\u001b[0;34m,\u001b[0m\u001b[0;34m\u001b[0m\u001b[0;34m\u001b[0m\u001b[0m\n\u001b[1;32m    669\u001b[0m                 \u001b[0mtimeout\u001b[0m\u001b[0;34m=\u001b[0m\u001b[0mtimeout_obj\u001b[0m\u001b[0;34m,\u001b[0m\u001b[0;34m\u001b[0m\u001b[0;34m\u001b[0m\u001b[0m\n\u001b[0;32m--> 670\u001b[0;31m                 \u001b[0mbody\u001b[0m\u001b[0;34m=\u001b[0m\u001b[0mbody\u001b[0m\u001b[0;34m,\u001b[0m\u001b[0;34m\u001b[0m\u001b[0;34m\u001b[0m\u001b[0m\n\u001b[0m\u001b[1;32m    671\u001b[0m                 \u001b[0mheaders\u001b[0m\u001b[0;34m=\u001b[0m\u001b[0mheaders\u001b[0m\u001b[0;34m,\u001b[0m\u001b[0;34m\u001b[0m\u001b[0;34m\u001b[0m\u001b[0m\n\u001b[1;32m    672\u001b[0m                 \u001b[0mchunked\u001b[0m\u001b[0;34m=\u001b[0m\u001b[0mchunked\u001b[0m\u001b[0;34m,\u001b[0m\u001b[0;34m\u001b[0m\u001b[0;34m\u001b[0m\u001b[0m\n",
      "\u001b[0;32m~/Documents/jupyter/venv/lib/python3.8/site-packages/urllib3/connectionpool.py\u001b[0m in \u001b[0;36m_make_request\u001b[0;34m(self, conn, method, url, timeout, chunked, **httplib_request_kw)\u001b[0m\n\u001b[1;32m    424\u001b[0m             \u001b[0;32mraise\u001b[0m\u001b[0;34m\u001b[0m\u001b[0;34m\u001b[0m\u001b[0m\n\u001b[1;32m    425\u001b[0m \u001b[0;34m\u001b[0m\u001b[0m\n\u001b[0;32m--> 426\u001b[0;31m         \u001b[0;31m# AppEngine doesn't have a version attr.\u001b[0m\u001b[0;34m\u001b[0m\u001b[0;34m\u001b[0m\u001b[0;34m\u001b[0m\u001b[0m\n\u001b[0m\u001b[1;32m    427\u001b[0m         \u001b[0mhttp_version\u001b[0m \u001b[0;34m=\u001b[0m \u001b[0mgetattr\u001b[0m\u001b[0;34m(\u001b[0m\u001b[0mconn\u001b[0m\u001b[0;34m,\u001b[0m \u001b[0;34m\"_http_vsn_str\"\u001b[0m\u001b[0;34m,\u001b[0m \u001b[0;34m\"HTTP/?\"\u001b[0m\u001b[0;34m)\u001b[0m\u001b[0;34m\u001b[0m\u001b[0;34m\u001b[0m\u001b[0m\n\u001b[1;32m    428\u001b[0m         log.debug(\n",
      "\u001b[0;32m~/Documents/jupyter/venv/lib/python3.8/site-packages/urllib3/packages/six.py\u001b[0m in \u001b[0;36mraise_from\u001b[0;34m(value, from_value)\u001b[0m\n",
      "\u001b[0;32m~/Documents/jupyter/venv/lib/python3.8/site-packages/urllib3/connectionpool.py\u001b[0m in \u001b[0;36m_make_request\u001b[0;34m(self, conn, method, url, timeout, chunked, **httplib_request_kw)\u001b[0m\n\u001b[1;32m    419\u001b[0m                     \u001b[0;31m# Python 3 (including for exceptions like SystemExit).\u001b[0m\u001b[0;34m\u001b[0m\u001b[0;34m\u001b[0m\u001b[0;34m\u001b[0m\u001b[0m\n\u001b[1;32m    420\u001b[0m                     \u001b[0;31m# Otherwise it looks like a bug in the code.\u001b[0m\u001b[0;34m\u001b[0m\u001b[0;34m\u001b[0m\u001b[0;34m\u001b[0m\u001b[0m\n\u001b[0;32m--> 421\u001b[0;31m                     \u001b[0msix\u001b[0m\u001b[0;34m.\u001b[0m\u001b[0mraise_from\u001b[0m\u001b[0;34m(\u001b[0m\u001b[0me\u001b[0m\u001b[0;34m,\u001b[0m \u001b[0;32mNone\u001b[0m\u001b[0;34m)\u001b[0m\u001b[0;34m\u001b[0m\u001b[0;34m\u001b[0m\u001b[0m\n\u001b[0m\u001b[1;32m    422\u001b[0m         \u001b[0;32mexcept\u001b[0m \u001b[0;34m(\u001b[0m\u001b[0mSocketTimeout\u001b[0m\u001b[0;34m,\u001b[0m \u001b[0mBaseSSLError\u001b[0m\u001b[0;34m,\u001b[0m \u001b[0mSocketError\u001b[0m\u001b[0;34m)\u001b[0m \u001b[0;32mas\u001b[0m \u001b[0me\u001b[0m\u001b[0;34m:\u001b[0m\u001b[0;34m\u001b[0m\u001b[0;34m\u001b[0m\u001b[0m\n\u001b[1;32m    423\u001b[0m             \u001b[0mself\u001b[0m\u001b[0;34m.\u001b[0m\u001b[0m_raise_timeout\u001b[0m\u001b[0;34m(\u001b[0m\u001b[0merr\u001b[0m\u001b[0;34m=\u001b[0m\u001b[0me\u001b[0m\u001b[0;34m,\u001b[0m \u001b[0murl\u001b[0m\u001b[0;34m=\u001b[0m\u001b[0murl\u001b[0m\u001b[0;34m,\u001b[0m \u001b[0mtimeout_value\u001b[0m\u001b[0;34m=\u001b[0m\u001b[0mread_timeout\u001b[0m\u001b[0;34m)\u001b[0m\u001b[0;34m\u001b[0m\u001b[0;34m\u001b[0m\u001b[0m\n",
      "\u001b[0;32m/Library/Frameworks/Python.framework/Versions/3.8/lib/python3.8/http/client.py\u001b[0m in \u001b[0;36mgetresponse\u001b[0;34m(self)\u001b[0m\n\u001b[1;32m   1320\u001b[0m         \u001b[0;32mtry\u001b[0m\u001b[0;34m:\u001b[0m\u001b[0;34m\u001b[0m\u001b[0;34m\u001b[0m\u001b[0m\n\u001b[1;32m   1321\u001b[0m             \u001b[0;32mtry\u001b[0m\u001b[0;34m:\u001b[0m\u001b[0;34m\u001b[0m\u001b[0;34m\u001b[0m\u001b[0m\n\u001b[0;32m-> 1322\u001b[0;31m                 \u001b[0mresponse\u001b[0m\u001b[0;34m.\u001b[0m\u001b[0mbegin\u001b[0m\u001b[0;34m(\u001b[0m\u001b[0;34m)\u001b[0m\u001b[0;34m\u001b[0m\u001b[0;34m\u001b[0m\u001b[0m\n\u001b[0m\u001b[1;32m   1323\u001b[0m             \u001b[0;32mexcept\u001b[0m \u001b[0mConnectionError\u001b[0m\u001b[0;34m:\u001b[0m\u001b[0;34m\u001b[0m\u001b[0;34m\u001b[0m\u001b[0m\n\u001b[1;32m   1324\u001b[0m                 \u001b[0mself\u001b[0m\u001b[0;34m.\u001b[0m\u001b[0mclose\u001b[0m\u001b[0;34m(\u001b[0m\u001b[0;34m)\u001b[0m\u001b[0;34m\u001b[0m\u001b[0;34m\u001b[0m\u001b[0m\n",
      "\u001b[0;32m/Library/Frameworks/Python.framework/Versions/3.8/lib/python3.8/http/client.py\u001b[0m in \u001b[0;36mbegin\u001b[0;34m(self)\u001b[0m\n\u001b[1;32m    301\u001b[0m         \u001b[0;31m# read until we get a non-100 response\u001b[0m\u001b[0;34m\u001b[0m\u001b[0;34m\u001b[0m\u001b[0;34m\u001b[0m\u001b[0m\n\u001b[1;32m    302\u001b[0m         \u001b[0;32mwhile\u001b[0m \u001b[0;32mTrue\u001b[0m\u001b[0;34m:\u001b[0m\u001b[0;34m\u001b[0m\u001b[0;34m\u001b[0m\u001b[0m\n\u001b[0;32m--> 303\u001b[0;31m             \u001b[0mversion\u001b[0m\u001b[0;34m,\u001b[0m \u001b[0mstatus\u001b[0m\u001b[0;34m,\u001b[0m \u001b[0mreason\u001b[0m \u001b[0;34m=\u001b[0m \u001b[0mself\u001b[0m\u001b[0;34m.\u001b[0m\u001b[0m_read_status\u001b[0m\u001b[0;34m(\u001b[0m\u001b[0;34m)\u001b[0m\u001b[0;34m\u001b[0m\u001b[0;34m\u001b[0m\u001b[0m\n\u001b[0m\u001b[1;32m    304\u001b[0m             \u001b[0;32mif\u001b[0m \u001b[0mstatus\u001b[0m \u001b[0;34m!=\u001b[0m \u001b[0mCONTINUE\u001b[0m\u001b[0;34m:\u001b[0m\u001b[0;34m\u001b[0m\u001b[0;34m\u001b[0m\u001b[0m\n\u001b[1;32m    305\u001b[0m                 \u001b[0;32mbreak\u001b[0m\u001b[0;34m\u001b[0m\u001b[0;34m\u001b[0m\u001b[0m\n",
      "\u001b[0;32m/Library/Frameworks/Python.framework/Versions/3.8/lib/python3.8/http/client.py\u001b[0m in \u001b[0;36m_read_status\u001b[0;34m(self)\u001b[0m\n\u001b[1;32m    262\u001b[0m \u001b[0;34m\u001b[0m\u001b[0m\n\u001b[1;32m    263\u001b[0m     \u001b[0;32mdef\u001b[0m \u001b[0m_read_status\u001b[0m\u001b[0;34m(\u001b[0m\u001b[0mself\u001b[0m\u001b[0;34m)\u001b[0m\u001b[0;34m:\u001b[0m\u001b[0;34m\u001b[0m\u001b[0;34m\u001b[0m\u001b[0m\n\u001b[0;32m--> 264\u001b[0;31m         \u001b[0mline\u001b[0m \u001b[0;34m=\u001b[0m \u001b[0mstr\u001b[0m\u001b[0;34m(\u001b[0m\u001b[0mself\u001b[0m\u001b[0;34m.\u001b[0m\u001b[0mfp\u001b[0m\u001b[0;34m.\u001b[0m\u001b[0mreadline\u001b[0m\u001b[0;34m(\u001b[0m\u001b[0m_MAXLINE\u001b[0m \u001b[0;34m+\u001b[0m \u001b[0;36m1\u001b[0m\u001b[0;34m)\u001b[0m\u001b[0;34m,\u001b[0m \u001b[0;34m\"iso-8859-1\"\u001b[0m\u001b[0;34m)\u001b[0m\u001b[0;34m\u001b[0m\u001b[0;34m\u001b[0m\u001b[0m\n\u001b[0m\u001b[1;32m    265\u001b[0m         \u001b[0;32mif\u001b[0m \u001b[0mlen\u001b[0m\u001b[0;34m(\u001b[0m\u001b[0mline\u001b[0m\u001b[0;34m)\u001b[0m \u001b[0;34m>\u001b[0m \u001b[0m_MAXLINE\u001b[0m\u001b[0;34m:\u001b[0m\u001b[0;34m\u001b[0m\u001b[0;34m\u001b[0m\u001b[0m\n\u001b[1;32m    266\u001b[0m             \u001b[0;32mraise\u001b[0m \u001b[0mLineTooLong\u001b[0m\u001b[0;34m(\u001b[0m\u001b[0;34m\"status line\"\u001b[0m\u001b[0;34m)\u001b[0m\u001b[0;34m\u001b[0m\u001b[0;34m\u001b[0m\u001b[0m\n",
      "\u001b[0;32m/Library/Frameworks/Python.framework/Versions/3.8/lib/python3.8/socket.py\u001b[0m in \u001b[0;36mreadinto\u001b[0;34m(self, b)\u001b[0m\n\u001b[1;32m    667\u001b[0m         \u001b[0;32mwhile\u001b[0m \u001b[0;32mTrue\u001b[0m\u001b[0;34m:\u001b[0m\u001b[0;34m\u001b[0m\u001b[0;34m\u001b[0m\u001b[0m\n\u001b[1;32m    668\u001b[0m             \u001b[0;32mtry\u001b[0m\u001b[0;34m:\u001b[0m\u001b[0;34m\u001b[0m\u001b[0;34m\u001b[0m\u001b[0m\n\u001b[0;32m--> 669\u001b[0;31m                 \u001b[0;32mreturn\u001b[0m \u001b[0mself\u001b[0m\u001b[0;34m.\u001b[0m\u001b[0m_sock\u001b[0m\u001b[0;34m.\u001b[0m\u001b[0mrecv_into\u001b[0m\u001b[0;34m(\u001b[0m\u001b[0mb\u001b[0m\u001b[0;34m)\u001b[0m\u001b[0;34m\u001b[0m\u001b[0;34m\u001b[0m\u001b[0m\n\u001b[0m\u001b[1;32m    670\u001b[0m             \u001b[0;32mexcept\u001b[0m \u001b[0mtimeout\u001b[0m\u001b[0;34m:\u001b[0m\u001b[0;34m\u001b[0m\u001b[0;34m\u001b[0m\u001b[0m\n\u001b[1;32m    671\u001b[0m                 \u001b[0mself\u001b[0m\u001b[0;34m.\u001b[0m\u001b[0m_timeout_occurred\u001b[0m \u001b[0;34m=\u001b[0m \u001b[0;32mTrue\u001b[0m\u001b[0;34m\u001b[0m\u001b[0;34m\u001b[0m\u001b[0m\n",
      "\u001b[0;32m/Library/Frameworks/Python.framework/Versions/3.8/lib/python3.8/ssl.py\u001b[0m in \u001b[0;36mrecv_into\u001b[0;34m(self, buffer, nbytes, flags)\u001b[0m\n\u001b[1;32m   1239\u001b[0m                   \u001b[0;34m\"non-zero flags not allowed in calls to recv_into() on %s\"\u001b[0m \u001b[0;34m%\u001b[0m\u001b[0;34m\u001b[0m\u001b[0;34m\u001b[0m\u001b[0m\n\u001b[1;32m   1240\u001b[0m                   self.__class__)\n\u001b[0;32m-> 1241\u001b[0;31m             \u001b[0;32mreturn\u001b[0m \u001b[0mself\u001b[0m\u001b[0;34m.\u001b[0m\u001b[0mread\u001b[0m\u001b[0;34m(\u001b[0m\u001b[0mnbytes\u001b[0m\u001b[0;34m,\u001b[0m \u001b[0mbuffer\u001b[0m\u001b[0;34m)\u001b[0m\u001b[0;34m\u001b[0m\u001b[0;34m\u001b[0m\u001b[0m\n\u001b[0m\u001b[1;32m   1242\u001b[0m         \u001b[0;32melse\u001b[0m\u001b[0;34m:\u001b[0m\u001b[0;34m\u001b[0m\u001b[0;34m\u001b[0m\u001b[0m\n\u001b[1;32m   1243\u001b[0m             \u001b[0;32mreturn\u001b[0m \u001b[0msuper\u001b[0m\u001b[0;34m(\u001b[0m\u001b[0;34m)\u001b[0m\u001b[0;34m.\u001b[0m\u001b[0mrecv_into\u001b[0m\u001b[0;34m(\u001b[0m\u001b[0mbuffer\u001b[0m\u001b[0;34m,\u001b[0m \u001b[0mnbytes\u001b[0m\u001b[0;34m,\u001b[0m \u001b[0mflags\u001b[0m\u001b[0;34m)\u001b[0m\u001b[0;34m\u001b[0m\u001b[0;34m\u001b[0m\u001b[0m\n",
      "\u001b[0;32m/Library/Frameworks/Python.framework/Versions/3.8/lib/python3.8/ssl.py\u001b[0m in \u001b[0;36mread\u001b[0;34m(self, len, buffer)\u001b[0m\n\u001b[1;32m   1097\u001b[0m         \u001b[0;32mtry\u001b[0m\u001b[0;34m:\u001b[0m\u001b[0;34m\u001b[0m\u001b[0;34m\u001b[0m\u001b[0m\n\u001b[1;32m   1098\u001b[0m             \u001b[0;32mif\u001b[0m \u001b[0mbuffer\u001b[0m \u001b[0;32mis\u001b[0m \u001b[0;32mnot\u001b[0m \u001b[0;32mNone\u001b[0m\u001b[0;34m:\u001b[0m\u001b[0;34m\u001b[0m\u001b[0;34m\u001b[0m\u001b[0m\n\u001b[0;32m-> 1099\u001b[0;31m                 \u001b[0;32mreturn\u001b[0m \u001b[0mself\u001b[0m\u001b[0;34m.\u001b[0m\u001b[0m_sslobj\u001b[0m\u001b[0;34m.\u001b[0m\u001b[0mread\u001b[0m\u001b[0;34m(\u001b[0m\u001b[0mlen\u001b[0m\u001b[0;34m,\u001b[0m \u001b[0mbuffer\u001b[0m\u001b[0;34m)\u001b[0m\u001b[0;34m\u001b[0m\u001b[0;34m\u001b[0m\u001b[0m\n\u001b[0m\u001b[1;32m   1100\u001b[0m             \u001b[0;32melse\u001b[0m\u001b[0;34m:\u001b[0m\u001b[0;34m\u001b[0m\u001b[0;34m\u001b[0m\u001b[0m\n\u001b[1;32m   1101\u001b[0m                 \u001b[0;32mreturn\u001b[0m \u001b[0mself\u001b[0m\u001b[0;34m.\u001b[0m\u001b[0m_sslobj\u001b[0m\u001b[0;34m.\u001b[0m\u001b[0mread\u001b[0m\u001b[0;34m(\u001b[0m\u001b[0mlen\u001b[0m\u001b[0;34m)\u001b[0m\u001b[0;34m\u001b[0m\u001b[0;34m\u001b[0m\u001b[0m\n",
      "\u001b[0;31mKeyboardInterrupt\u001b[0m: "
     ]
    }
   ],
   "source": [
    "for tag in tags1:\n",
    "    title = tag.find(\"h3\",{\"class\":\"ProfileRow-displayName-YQn\"}).text\n",
    "    link = tag.find(\"a\", {\"class\": \"ProfileRow-profileLink-2Iv qa-profile-link\"}).get('href')\n",
    "    location = tag.find(\"p\",{\"class\":\"ProfileRow-location-U8W\"}).text\n",
    "    spec = tag.find(\"a\",{\"class\":\"ProfileRow-fieldLink-1cc\"}).text\n",
    "    like = tag.find(\"span\",{\"class\":\"ProfileRow-metricLabel-THG\"}).text\n",
    "    watch = tag.find(\"span\", {\"class\":\"ProfileRow-metricLabel-THG\"}).text\n",
    "    job_response = requests.get(link)\n",
    "    job_data = job_response.text \n",
    "    job_soup = BeautifulSoup(job_data, 'html.parser')\n",
    "    job_description = job_soup.find('li', {'class':'UserInfo-socialLinkContainer-3Zb'})\n",
    "    job_attributes_tag = job_soup.find('a', {'target':'_blank'})\n",
    "    job_attributes = job_attributes_tag.text if job_attributes_tag else \"N/A\"\n",
    "    print('title:', title, '\\n', link, '\\nlocation:', location, '\\nSpec:', spec, '\\nlike:', like, '\\nWatch:', watch, '\\ninsta:', job_description, '\\n---')"
   ]
  },
  {
   "cell_type": "code",
   "execution_count": 89,
   "metadata": {},
   "outputs": [
    {
     "name": "stdout",
     "output_type": "stream",
     "text": [
      "https://www.behance.net/krisbariln37bb\n",
      "<Response [200]>\n",
      "Kristina Barilnik\n"
     ]
    }
   ],
   "source": [
    "# извленечие адреса инстаграм со страницы Behance\n",
    "url2 = \"https://www.behance.net/krisbariln37bb\"\n",
    "print (url2)\n",
    "response = requests.get(url2)\n",
    "print (response)\n",
    "data = response.text\n",
    "soup = BeautifulSoup(data, 'html.parser')\n",
    "tags1 = soup.find_all('div', {\"class\":\"Profile-wrap-3mj\"})\n",
    "for tag in tags1:\n",
    "    name = tag.find(\"h1\", {\"class\":\"Profile-userFullName-_EP\"}).text\n",
    "print (name)\n"
   ]
  },
  {
   "cell_type": "code",
   "execution_count": null,
   "metadata": {},
   "outputs": [],
   "source": []
  },
  {
   "cell_type": "code",
   "execution_count": null,
   "metadata": {},
   "outputs": [],
   "source": []
  },
  {
   "cell_type": "code",
   "execution_count": null,
   "metadata": {},
   "outputs": [],
   "source": []
  },
  {
   "cell_type": "code",
   "execution_count": null,
   "metadata": {},
   "outputs": [],
   "source": []
  },
  {
   "cell_type": "code",
   "execution_count": null,
   "metadata": {},
   "outputs": [],
   "source": []
  },
  {
   "cell_type": "code",
   "execution_count": null,
   "metadata": {},
   "outputs": [],
   "source": []
  },
  {
   "cell_type": "code",
   "execution_count": null,
   "metadata": {},
   "outputs": [],
   "source": []
  },
  {
   "cell_type": "code",
   "execution_count": null,
   "metadata": {},
   "outputs": [],
   "source": []
  },
  {
   "cell_type": "code",
   "execution_count": null,
   "metadata": {},
   "outputs": [],
   "source": []
  },
  {
   "cell_type": "code",
   "execution_count": null,
   "metadata": {},
   "outputs": [],
   "source": []
  },
  {
   "cell_type": "code",
   "execution_count": null,
   "metadata": {},
   "outputs": [],
   "source": []
  },
  {
   "cell_type": "code",
   "execution_count": null,
   "metadata": {},
   "outputs": [],
   "source": []
  },
  {
   "cell_type": "code",
   "execution_count": null,
   "metadata": {},
   "outputs": [],
   "source": []
  },
  {
   "cell_type": "code",
   "execution_count": null,
   "metadata": {},
   "outputs": [],
   "source": []
  },
  {
   "cell_type": "code",
   "execution_count": null,
   "metadata": {},
   "outputs": [],
   "source": []
  },
  {
   "cell_type": "code",
   "execution_count": null,
   "metadata": {},
   "outputs": [],
   "source": []
  },
  {
   "cell_type": "code",
   "execution_count": null,
   "metadata": {},
   "outputs": [],
   "source": []
  },
  {
   "cell_type": "code",
   "execution_count": null,
   "metadata": {},
   "outputs": [],
   "source": []
  },
  {
   "cell_type": "code",
   "execution_count": null,
   "metadata": {},
   "outputs": [],
   "source": []
  },
  {
   "cell_type": "code",
   "execution_count": null,
   "metadata": {},
   "outputs": [],
   "source": []
  },
  {
   "cell_type": "code",
   "execution_count": null,
   "metadata": {},
   "outputs": [],
   "source": []
  },
  {
   "cell_type": "code",
   "execution_count": null,
   "metadata": {},
   "outputs": [],
   "source": []
  },
  {
   "cell_type": "code",
   "execution_count": null,
   "metadata": {},
   "outputs": [],
   "source": []
  },
  {
   "cell_type": "code",
   "execution_count": null,
   "metadata": {},
   "outputs": [],
   "source": []
  },
  {
   "cell_type": "code",
   "execution_count": null,
   "metadata": {},
   "outputs": [],
   "source": []
  },
  {
   "cell_type": "code",
   "execution_count": null,
   "metadata": {},
   "outputs": [],
   "source": []
  },
  {
   "cell_type": "code",
   "execution_count": null,
   "metadata": {},
   "outputs": [],
   "source": []
  },
  {
   "cell_type": "code",
   "execution_count": null,
   "metadata": {},
   "outputs": [],
   "source": []
  },
  {
   "cell_type": "code",
   "execution_count": null,
   "metadata": {},
   "outputs": [],
   "source": []
  },
  {
   "cell_type": "code",
   "execution_count": null,
   "metadata": {},
   "outputs": [],
   "source": []
  },
  {
   "cell_type": "code",
   "execution_count": null,
   "metadata": {},
   "outputs": [],
   "source": []
  },
  {
   "cell_type": "code",
   "execution_count": null,
   "metadata": {},
   "outputs": [],
   "source": []
  },
  {
   "cell_type": "code",
   "execution_count": null,
   "metadata": {},
   "outputs": [],
   "source": []
  },
  {
   "cell_type": "code",
   "execution_count": null,
   "metadata": {},
   "outputs": [],
   "source": []
  },
  {
   "cell_type": "code",
   "execution_count": null,
   "metadata": {},
   "outputs": [],
   "source": []
  },
  {
   "cell_type": "code",
   "execution_count": null,
   "metadata": {},
   "outputs": [],
   "source": []
  },
  {
   "cell_type": "code",
   "execution_count": null,
   "metadata": {},
   "outputs": [],
   "source": []
  },
  {
   "cell_type": "code",
   "execution_count": null,
   "metadata": {},
   "outputs": [],
   "source": []
  },
  {
   "cell_type": "code",
   "execution_count": null,
   "metadata": {},
   "outputs": [],
   "source": []
  },
  {
   "cell_type": "code",
   "execution_count": null,
   "metadata": {},
   "outputs": [],
   "source": []
  },
  {
   "cell_type": "code",
   "execution_count": null,
   "metadata": {},
   "outputs": [],
   "source": []
  },
  {
   "cell_type": "code",
   "execution_count": null,
   "metadata": {},
   "outputs": [],
   "source": []
  },
  {
   "cell_type": "code",
   "execution_count": null,
   "metadata": {},
   "outputs": [],
   "source": []
  },
  {
   "cell_type": "code",
   "execution_count": null,
   "metadata": {},
   "outputs": [],
   "source": []
  },
  {
   "cell_type": "code",
   "execution_count": null,
   "metadata": {},
   "outputs": [],
   "source": []
  },
  {
   "cell_type": "code",
   "execution_count": null,
   "metadata": {},
   "outputs": [],
   "source": []
  },
  {
   "cell_type": "code",
   "execution_count": null,
   "metadata": {},
   "outputs": [],
   "source": []
  },
  {
   "cell_type": "code",
   "execution_count": null,
   "metadata": {},
   "outputs": [],
   "source": []
  },
  {
   "cell_type": "code",
   "execution_count": null,
   "metadata": {},
   "outputs": [],
   "source": []
  },
  {
   "cell_type": "code",
   "execution_count": null,
   "metadata": {},
   "outputs": [],
   "source": []
  },
  {
   "cell_type": "code",
   "execution_count": 38,
   "metadata": {},
   "outputs": [
    {
     "ename": "AttributeError",
     "evalue": "'NoneType' object has no attribute 'text'",
     "output_type": "error",
     "traceback": [
      "\u001b[0;31m---------------------------------------------------------------------------\u001b[0m",
      "\u001b[0;31mAttributeError\u001b[0m                            Traceback (most recent call last)",
      "\u001b[0;32m<ipython-input-38-57dc2bd7fc07>\u001b[0m in \u001b[0;36m<module>\u001b[0;34m\u001b[0m\n\u001b[1;32m      3\u001b[0m \u001b[0mjob_soup\u001b[0m \u001b[0;34m=\u001b[0m \u001b[0mBeautifulSoup\u001b[0m\u001b[0;34m(\u001b[0m\u001b[0mjob_data\u001b[0m\u001b[0;34m,\u001b[0m \u001b[0;34m'html.parser'\u001b[0m\u001b[0;34m)\u001b[0m\u001b[0;34m\u001b[0m\u001b[0;34m\u001b[0m\u001b[0m\n\u001b[1;32m      4\u001b[0m \u001b[0mjob_description\u001b[0m \u001b[0;34m=\u001b[0m \u001b[0mjob_soup\u001b[0m\u001b[0;34m.\u001b[0m\u001b[0mfind\u001b[0m\u001b[0;34m(\u001b[0m\u001b[0;34m'li'\u001b[0m\u001b[0;34m,\u001b[0m \u001b[0;34m{\u001b[0m\u001b[0;34m'class'\u001b[0m\u001b[0;34m:\u001b[0m\u001b[0;34m'UserInfo-socialLinkContainer-3Zb'\u001b[0m\u001b[0;34m}\u001b[0m\u001b[0;34m)\u001b[0m\u001b[0;34m\u001b[0m\u001b[0;34m\u001b[0m\u001b[0m\n\u001b[0;32m----> 5\u001b[0;31m \u001b[0mjob_attributes_tag\u001b[0m \u001b[0;34m=\u001b[0m \u001b[0mjob_soup\u001b[0m\u001b[0;34m.\u001b[0m\u001b[0mfind\u001b[0m\u001b[0;34m(\u001b[0m\u001b[0;34m'a'\u001b[0m\u001b[0;34m,\u001b[0m \u001b[0;34m{\u001b[0m\u001b[0;34m'title'\u001b[0m\u001b[0;34m:\u001b[0m\u001b[0;34m'instagram'\u001b[0m\u001b[0;34m}\u001b[0m\u001b[0;34m)\u001b[0m\u001b[0;34m.\u001b[0m\u001b[0mtext\u001b[0m\u001b[0;34m\u001b[0m\u001b[0;34m\u001b[0m\u001b[0m\n\u001b[0m\u001b[1;32m      6\u001b[0m \u001b[0mjob_attributes\u001b[0m \u001b[0;34m=\u001b[0m \u001b[0mjob_attributes_tag\u001b[0m\u001b[0;34m.\u001b[0m\u001b[0mtext\u001b[0m \u001b[0;32mif\u001b[0m \u001b[0mjob_attributes_tag\u001b[0m \u001b[0;32melse\u001b[0m \u001b[0;34m\"N/A\"\u001b[0m\u001b[0;34m\u001b[0m\u001b[0;34m\u001b[0m\u001b[0m\n\u001b[1;32m      7\u001b[0m \u001b[0;31m#job_no+=1\u001b[0m\u001b[0;34m\u001b[0m\u001b[0;34m\u001b[0m\u001b[0;34m\u001b[0m\u001b[0m\n",
      "\u001b[0;31mAttributeError\u001b[0m: 'NoneType' object has no attribute 'text'"
     ]
    }
   ],
   "source": [
    "        job_response = requests.get(link)\n",
    "        job_data = job_response.text \n",
    "        job_soup = BeautifulSoup(job_data, 'html.parser')\n",
    "        job_description = job_soup.find('li', {'class':'UserInfo-socialLinkContainer-3Zb'})\n",
    "        job_attributes_tag = job_soup.find('a', {'title':'instagram'}).text\n",
    "        job_attributes = job_attributes_tag.text if job_attributes_tag else \"N/A\"\n",
    "        #job_no+=1\n",
    "        #npo_jobs[job_no] = [title, link, job_description]\n",
    "print (job_description)"
   ]
  },
  {
   "cell_type": "code",
   "execution_count": null,
   "metadata": {},
   "outputs": [],
   "source": []
  },
  {
   "cell_type": "code",
   "execution_count": null,
   "metadata": {},
   "outputs": [],
   "source": []
  },
  {
   "cell_type": "code",
   "execution_count": null,
   "metadata": {},
   "outputs": [],
   "source": []
  },
  {
   "cell_type": "code",
   "execution_count": null,
   "metadata": {},
   "outputs": [],
   "source": []
  },
  {
   "cell_type": "code",
   "execution_count": null,
   "metadata": {},
   "outputs": [],
   "source": []
  },
  {
   "cell_type": "code",
   "execution_count": null,
   "metadata": {},
   "outputs": [],
   "source": []
  },
  {
   "cell_type": "code",
   "execution_count": null,
   "metadata": {},
   "outputs": [],
   "source": []
  },
  {
   "cell_type": "code",
   "execution_count": null,
   "metadata": {},
   "outputs": [],
   "source": []
  },
  {
   "cell_type": "code",
   "execution_count": null,
   "metadata": {},
   "outputs": [],
   "source": []
  },
  {
   "cell_type": "code",
   "execution_count": null,
   "metadata": {},
   "outputs": [],
   "source": []
  },
  {
   "cell_type": "code",
   "execution_count": null,
   "metadata": {},
   "outputs": [],
   "source": []
  },
  {
   "cell_type": "code",
   "execution_count": null,
   "metadata": {},
   "outputs": [],
   "source": []
  },
  {
   "cell_type": "code",
   "execution_count": null,
   "metadata": {},
   "outputs": [],
   "source": []
  },
  {
   "cell_type": "code",
   "execution_count": null,
   "metadata": {},
   "outputs": [],
   "source": []
  },
  {
   "cell_type": "code",
   "execution_count": null,
   "metadata": {},
   "outputs": [],
   "source": []
  },
  {
   "cell_type": "code",
   "execution_count": null,
   "metadata": {},
   "outputs": [],
   "source": []
  },
  {
   "cell_type": "code",
   "execution_count": null,
   "metadata": {},
   "outputs": [],
   "source": []
  },
  {
   "cell_type": "code",
   "execution_count": null,
   "metadata": {},
   "outputs": [],
   "source": []
  },
  {
   "cell_type": "code",
   "execution_count": null,
   "metadata": {},
   "outputs": [],
   "source": []
  },
  {
   "cell_type": "code",
   "execution_count": null,
   "metadata": {},
   "outputs": [],
   "source": []
  },
  {
   "cell_type": "code",
   "execution_count": null,
   "metadata": {},
   "outputs": [],
   "source": []
  },
  {
   "cell_type": "code",
   "execution_count": null,
   "metadata": {},
   "outputs": [],
   "source": []
  },
  {
   "cell_type": "code",
   "execution_count": null,
   "metadata": {},
   "outputs": [],
   "source": []
  },
  {
   "cell_type": "code",
   "execution_count": null,
   "metadata": {},
   "outputs": [],
   "source": []
  },
  {
   "cell_type": "code",
   "execution_count": null,
   "metadata": {},
   "outputs": [],
   "source": []
  },
  {
   "cell_type": "code",
   "execution_count": null,
   "metadata": {},
   "outputs": [],
   "source": []
  },
  {
   "cell_type": "code",
   "execution_count": null,
   "metadata": {},
   "outputs": [],
   "source": []
  },
  {
   "cell_type": "code",
   "execution_count": null,
   "metadata": {},
   "outputs": [],
   "source": []
  }
 ],
 "metadata": {
  "kernelspec": {
   "display_name": "Python 3",
   "language": "python",
   "name": "python3"
  },
  "language_info": {
   "codemirror_mode": {
    "name": "ipython",
    "version": 3
   },
   "file_extension": ".py",
   "mimetype": "text/x-python",
   "name": "python",
   "nbconvert_exporter": "python",
   "pygments_lexer": "ipython3",
   "version": "3.8.2"
  }
 },
 "nbformat": 4,
 "nbformat_minor": 4
}
