{
 "cells": [
  {
   "cell_type": "code",
   "execution_count": null,
   "metadata": {},
   "outputs": [],
   "source": [
    "# from site_parser import Parser\n",
    "from site_parser import InstagramParser\n",
    "\n",
    "# parser = Parser(driver_type='chrome')\n",
    "parser = InstagramParser(username='aawra.ee', password='Rgfd4532bnH')\n",
    "\n",
    "driver = 0\n",
    "refs = []\n",
    "max_likes = 100\n",
    "max_follows = 150\n",
    "\n",
    "parser.start_parse()\n",
    "\n"
   ]
  }
 ],
 "metadata": {
  "kernelspec": {
   "display_name": "Python 3",
   "language": "python",
   "name": "python3"
  },
  "language_info": {
   "codemirror_mode": {
    "name": "ipython",
    "version": 3
   },
   "file_extension": ".py",
   "mimetype": "text/x-python",
   "name": "python",
   "nbconvert_exporter": "python",
   "pygments_lexer": "ipython3",
   "version": "3.8.2"
  }
 },
 "nbformat": 4,
 "nbformat_minor": 4
}
