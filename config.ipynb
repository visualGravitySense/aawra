{
 "cells": [
  {
   "cell_type": "code",
   "execution_count": null,
   "metadata": {},
   "outputs": [],
   "source": [
    "from selenium.webdriver.common.desired_capabilities import DesiredCapabilities\n",
    "from selenium import webdriver\n",
    "\n",
    "\n",
    "\n",
    "import utils\n",
    "\n",
    "\n",
    "class Config:\n",
    "    # chrome_path = 'C:\\Program Files (x86)\\Google\\Chrome\\Application\\chrome.exe'\n",
    "    chrome_path = '/Users/dmitrigornakov/Desktop/chromedriver'\n",
    "    # firefox_path = 'C:\\selenium_drivers\\geckodriver.exe'\n",
    "    # firefox_path = 'C:\\Program Files (x86)\\Mozilla Firefox\\\\firefox.exe'\n",
    "\n",
    "    prefs = {\"profile.managed_default_content_settings.images\": 2}\n",
    "\n",
    "    user_agent = (\n",
    "        \"Mozilla/5.0 (Macintosh; Intel Mac OS X 10_8_4) \" +\n",
    "        \"AppleWebKit/537.36 (KHTML, like Gecko) Chrome/29.0.1547.57 Safari/537.36\"\n",
    "    )\n",
    "\n",
    "    work_user_agent = (\"Mozilla/5.0 (Windows NT 6.1; Win64; x64) AppleWebKit/537.36 (KHTML, like Gecko) Chrome/58.0.3029.110 Safari/537.36\")\n",
    "\n",
    "    home_user_agent = (\"Mozilla/5.0 (X11; Ubuntu; Linux x86_64; rv:54.0) Gecko/20100101 Firefox/54.0\")\n",
    "\n",
    "    dcap = dict(DesiredCapabilities.PHANTOMJS)\n",
    "    dcap[\"phantomjs.page.settings.userAgent\"] = user_agent\n",
    "    service_args=['--ignore-ssl-errors=true', '--ssl-protocol=any',\n",
    "                  '--load-images=no', '--log-path=logs\\\\']\n",
    "    output_dir = 'output/'\n",
    "    # os_type = 'Windows'\n",
    "\n",
    "    def __init__(self):\n",
    "        self.os_type = utils.detect_system()\n",
    "\n",
    "        if self.os_type == \"Windows\":\n",
    "            self.user_agent = self.work_user_agent\n",
    "        else:\n",
    "            self.user_agent = self.home_user_agent\n",
    "\n"
   ]
  }
 ],
 "metadata": {
  "kernelspec": {
   "display_name": "Python 3",
   "language": "python",
   "name": "python3"
  },
  "language_info": {
   "codemirror_mode": {
    "name": "ipython",
    "version": 3
   },
   "file_extension": ".py",
   "mimetype": "text/x-python",
   "name": "python",
   "nbconvert_exporter": "python",
   "pygments_lexer": "ipython3",
   "version": "3.8.2"
  }
 },
 "nbformat": 4,
 "nbformat_minor": 4
}
